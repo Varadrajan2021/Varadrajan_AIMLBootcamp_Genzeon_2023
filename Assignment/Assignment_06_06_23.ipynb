{
 "cells": [
  {
   "cell_type": "code",
   "execution_count": 39,
   "id": "af63ade8",
   "metadata": {},
   "outputs": [
    {
     "name": "stdout",
     "output_type": "stream",
     "text": [
      "Hello World\n",
      "Genzeon is in Pune\n",
      "genzeon is in pune\n",
      "Genzeon is in Pune\n",
      "2\n",
      "True\n",
      "8\n",
      "8\n",
      "Genzeon is in Pune\n",
      "False\n",
      "True\n",
      "False\n",
      "False\n",
      "Genzeon is in Pune\n",
      "('Genzeon', ' ', 'is in Pune')\n",
      "['Genzeon', 'is', 'in', 'Pune']\n",
      "['Genzeon is in Pune']\n",
      "Genzeon Is In Pune\n",
      "Genzeon js jn Pune\n",
      "GENZEON IS IN PUNE\n"
     ]
    }
   ],
   "source": [
    "#01.String Methods\n",
    "\n",
    "print(\"Hello World\")\n",
    "\n",
    "a=\"Genzeon is in Pune\"\n",
    "\n",
    "#capitalize()\tConverts the first character to upper case\n",
    "a.capitalize()\n",
    "print(a)\n",
    "\n",
    "#casefold()\tConverts string into lower case\n",
    "str=a.casefold()\n",
    "print(str)\n",
    "\n",
    "#center()\tReturns a centered string\n",
    "a.center(10)\n",
    "print(a)\n",
    "\n",
    "#count()\tReturns the number of times a specified value occurs in a string\n",
    "print(a.count('i'))\n",
    "\n",
    "#endswith()\tReturns true if the string ends with the specified value\n",
    "print(a.endswith('Pune'))\n",
    "\n",
    "#find()\tSearches the string for a specified value and returns the position of where it was found\n",
    "print(a.find('i'))#find() method returns -1 if value is not found\n",
    "\n",
    "#index()\tSearches the string for a specified value and returns the position of where it was found\n",
    "print(a.index('i'))\n",
    "\n",
    "#format()\tFormats specified values in a string\n",
    "a=\"Genzeon is in {}\"\n",
    "print(a.format('Pune'))\n",
    "\n",
    "a=\"Genzeon is in Pune\"\n",
    "\n",
    "#isalpha()\tReturns True if all characters in the string are in the alphabet\n",
    "print(a.isalpha())\n",
    "\n",
    "#isascii()\tReturns True if all characters in the string are ascii characters\n",
    "print(a.isascii())\n",
    "\n",
    "#isdecimal()\tReturns True if all characters in the string are decimals\n",
    "print(a.isdecimal())\n",
    "\n",
    "#isdigit()\tReturns True if all characters in the string are digits\n",
    "print(a.isdigit())\n",
    "\n",
    "#join()\tConverts the elements of an iterable into a string\n",
    "print(''.join(a))\n",
    "\n",
    "#partition()\tReturns a tuple where the string is parted into three parts\n",
    "print(a.partition(' '))\n",
    "\n",
    "#split()\tSplits the string at the specified separator, and returns a list\n",
    "print(a.split(' '))\n",
    "\n",
    "#splitlines()\tSplits the string at line breaks and returns a list\n",
    "print(a.splitlines())\n",
    "\n",
    "#title()\tConverts the first character of each word to upper case\n",
    "print(a.title())\n",
    "\n",
    "#replace()\tReturns a string where a specified value is replaced with a specified value\n",
    "print(a.replace('i','j'))\n",
    "\n",
    "#upper()\tConverts a string into upper case\n",
    "print(a.upper())\n"
   ]
  },
  {
   "cell_type": "code",
   "execution_count": 84,
   "id": "883eb385",
   "metadata": {},
   "outputs": [
    {
     "name": "stdout",
     "output_type": "stream",
     "text": [
      "[1, {'Ronaldo': 7}, (1, 3), [2, 3, 4], {'c', 'b', 'a'}, 'Piyush']\n",
      "[1, {'Ronaldo': 7}, (1, 3), [2, 3, 4], {'c', 'b', 'a'}, 'Piyush', True]\n",
      "[1, {'Ronaldo': 7}, (1, 3), [2, 3, 4], {'c', 'b', 'a'}, 'Piyush', True]\n",
      "2\n",
      "0\n",
      "[1, {'Ronaldo': 7}, (1, 3), [2, 3, 4], {'c', 'b', 'a'}, 'Piyush', True, 'Zlatan', 'Messi', 'Neymar']\n",
      "['Hey', 1, {'Ronaldo': 7}, (1, 3), [2, 3, 4], {'c', 'b', 'a'}, 'Piyush', True]\n",
      "['Hey', 1, {'Ronaldo': 7}, (1, 3), [2, 3, 4], {'c', 'b', 'a'}, 'Piyush']\n",
      "['Hey', {'Ronaldo': 7}, (1, 3), [2, 3, 4], {'c', 'b', 'a'}, 'Piyush']\n",
      "['Piyush', {'c', 'b', 'a'}, [2, 3, 4], (1, 3), {'Ronaldo': 7}, 'Hey']\n",
      "['Piyush', {'c', 'b', 'a'}, [2, 3, 4], 'Hey', (1, 3), {'Ronaldo': 7}]\n",
      "6 3 3 3 2 1 []\n"
     ]
    }
   ],
   "source": [
    "#02.List Methods\n",
    "\n",
    "List=[1,{\"Ronaldo\":7},(1,3),[2,3,4],{\"a\",\"b\",\"c\"},\"Piyush\"]\n",
    "\n",
    "print(List)\n",
    "\n",
    "#append()\tAdds an element at the end of the list\n",
    "List.append(True)\n",
    "print(List)\n",
    "\n",
    "#copy()\tReturns a copy of the list\n",
    "A_List=List.copy()\n",
    "print(A_List)\n",
    "\n",
    "#count()\tReturns the number of elements with the specified value\n",
    "print(List.count(1))\n",
    "\n",
    "#index()\tReturns the index of the first element with the specified value\n",
    "print(List.index(1))\n",
    "\n",
    "#extend()\tAdd the elements of a list (or any iterable), to the end of the current list\n",
    "B_List=[\"Zlatan\",\"Messi\",\"Neymar\"]\n",
    "A_List.extend(B_List)\n",
    "print(A_List)\n",
    "\n",
    "#insert()\tAdds an element at the specified position\n",
    "List.insert(0,'Hey')\n",
    "print(List)\n",
    "\n",
    "#pop()\tRemoves the element at the specified position\n",
    "List.pop()\n",
    "print(List)\n",
    "\n",
    "#remove()\tRemoves the first item with the specified value\n",
    "List.remove(1)\n",
    "print(List)\n",
    "\n",
    "#reverse()\tReverses the order of the list\n",
    "List.reverse()\n",
    "print(List)\n",
    "\n",
    "#sort()\tSorts the list\n",
    "def myfunc(e):\n",
    "    return len(e)\n",
    "List.sort(key=myfunc,reverse=True)\n",
    "print(List)\n",
    "for x in List:\n",
    "    print(len(x), end=\" \")\n",
    "\n",
    "#clear()\tRemoves all the elements from the list\n",
    "List.clear()\n",
    "print(List)"
   ]
  },
  {
   "cell_type": "code",
   "execution_count": 83,
   "id": "0d4603ac",
   "metadata": {},
   "outputs": [
    {
     "name": "stdout",
     "output_type": "stream",
     "text": [
      "Ola\n",
      "0\n",
      "4\n"
     ]
    }
   ],
   "source": [
    "#03.Tuple Methods\n",
    "\n",
    "tup=(1,2,(3,4),[\"Hey\",\"Ola\",\"Hi\",\"Bonjour\"],\"India\",\"USA\",{'MH':'MUmbai'})\n",
    "\n",
    "print(tup[3][1])\n",
    "\n",
    "#count()\tReturns the number of times a specified value occurs in a tuple\n",
    "print(tup.count(4))\n",
    "\n",
    "#index()\tSearches the tuple for a specified value and returns the position of where it was found\n",
    "print(tup.index(\"India\"))"
   ]
  },
  {
   "cell_type": "code",
   "execution_count": 240,
   "id": "ee5af98d",
   "metadata": {},
   "outputs": [
    {
     "name": "stdout",
     "output_type": "stream",
     "text": [
      "{'Ronaldo': 7, 'Messi': 10, 'Virat': 18, 'Sachin': 10, 'Others': [1, 2, 3, 4]}\n",
      "{'Varad': 'FZ1', 'Sudhanshu': 'FZ1'}\n",
      "7\n",
      "dict_items([('Ronaldo', 7), ('Messi', 10), ('Virat', 18), ('Sachin', 10), ('Others', [1, 2, 3, 4])])\n",
      "dict_keys(['Ronaldo', 'Messi', 'Virat', 'Sachin', 'Others'])\n",
      "dict_values([7, 10, 18, 10, [1, 2, 3, 4]])\n",
      "18\n",
      "('Others', [1, 2, 3, 4])\n",
      "dict_items([('Ronaldo', 7), ('Messi', 10), ('Sachin', 10)])\n",
      "18\n",
      "dict_items([('Ronaldo', 7), ('Messi', 10), ('Sachin', 10), ('Virat', 18)])\n",
      "dict_items([])\n"
     ]
    }
   ],
   "source": [
    "#04.Dictionary\n",
    "\n",
    "dict={\"Ronaldo\":7,\"Messi\":10,\"Virat\":18,\"Sachin\":10,\"Others\":[1,2,3,4]}\n",
    "\n",
    "#copy()\tReturns a copy of the dictionary\n",
    "new_dict=dict.copy()\n",
    "print(new_dict)\n",
    "\n",
    "#fromkeys()\tReturns a dictionary with the specified keys and value\n",
    "x=('Varad','Sudhanshu')\n",
    "y=('FZ1')\n",
    "dict1=dict.fromkeys(x,y)\n",
    "print(dict1)\n",
    "\n",
    "#get()\tReturns the value of the specified key\n",
    "print(dict.get(\"Ronaldo\"))\n",
    "\n",
    "#items()\tReturns a list containing a tuple for each key value pair\n",
    "print(dict.items())\n",
    "\n",
    "#keys()\tReturns a list containing the dictionary's keys\n",
    "print(dict.keys())\n",
    "\n",
    "#values()\tReturns a list of all the values in the dictionary\n",
    "print(dict.values())\n",
    "\n",
    "#pop()\tRemoves the element with the specified key\n",
    "print(dict.pop(\"Virat\"))\n",
    "\n",
    "#popitem()\tRemoves the last inserted key-value pai\n",
    "print(dict.popitem())\n",
    "\n",
    "#setdefault()\tReturns the value of the specified key. If the key does not exist: insert the key, with the specified value\n",
    "print(dict.items())\n",
    "print(dict.setdefault(\"Virat\",18))\n",
    "print(dict.items())\n",
    "\n",
    "#UPDATE is not working\n",
    "#print(dict.update({\"Other\":[3,5,8,9]})\n",
    "#print(dict.update({\"Genzeon\":\"Tower3\"})\n",
    "\n",
    "#clear()\tRemoves all the elements from the dictionary\n",
    "dict.clear()\n",
    "print(dict.items())\n"
   ]
  },
  {
   "cell_type": "code",
   "execution_count": 162,
   "id": "7f543cbe",
   "metadata": {},
   "outputs": [
    {
     "name": "stdout",
     "output_type": "stream",
     "text": [
      "{1, 2, 3, 4, 'varad', 'shikha', 'str', 'sujit'}\n",
      "{1, 2, 3, 4, 'varad', 'shikha', 'str', 'sujit', 'Krishna'}\n",
      "{1, 2, 3, 4, 'varad', 'shikha', 'str', 'sujit', 'Krishna'}\n",
      "{'Ronaldo'}\n",
      "{0, 9, 5, 7}\n",
      "{9, 5, 7}\n",
      "{1, 2, 3, 4, 'varad', 'shikha', 'str', 'sujit', 'Krishna'}\n",
      "{1, 2, 3, 4, 'varad', 'shikha', 'str', 'sujit', 'Krishna'}\n",
      "False\n",
      "True\n",
      "True\n",
      "True\n",
      "True\n",
      "{2, 3, 4, 'varad', 'shikha', 'str', 'sujit', 'Krishna'}\n",
      "{3, 4, 'varad', 'shikha', 'str', 'sujit', 'Krishna'}\n",
      "{3, 4, 'varad', 5, 7, 9, 'shikha', 'str', 'sujit', 'Krishna'}\n",
      "--------\n",
      "{1, 2, 3, 4, 'varad', 'shikha', 'str', 'sujit', 'Krishna'}\n",
      "{3, 4, 'varad', 'shikha', 'str', 'sujit', 'Krishna'}\n",
      "{1, 2, 3, 4, 'varad', 'shikha', 'str', 'sujit', 'Krishna'}\n"
     ]
    }
   ],
   "source": [
    "#05.Set Methods\n",
    "\n",
    "set={1,2,3,4,\"str\",\"varad\",\"shikha\",\"sujit\",True}\n",
    "\n",
    "#add()\tAdds an element to the set\n",
    "set.add(\"varad\")\n",
    "print(set)\n",
    "\n",
    "set.add(\"Krishna\")\n",
    "print(set)\n",
    "\n",
    "#copy()\tReturns a copy of the set\n",
    "set2=set.copy()\n",
    "print(set2)\n",
    "\n",
    "#difference()\tReturns a set containing the difference between two or more sets\n",
    "set2.add(\"Ronaldo\")\n",
    "x=set2.difference(set)\n",
    "print(x)\n",
    "\n",
    "#difference_update()\tRemoves the items in this set that are also included in another, specified set\n",
    "set3={5,7,9,0}\n",
    "set3.difference_update(set)\n",
    "print(set3)\n",
    "\n",
    "#discard()\tRemove the specified item\n",
    "set3.discard(0)\n",
    "print(set3)\n",
    "\n",
    "#intersection()\tReturns a set, that is the intersection of two or more sets\n",
    "print(set2.intersection(set))\n",
    "\n",
    "#intersection_update()\tRemoves the items in this set that are not present in other, specified set(s)\n",
    "set2.intersection_update(set)\n",
    "print(set2)\n",
    "\n",
    "#isdisjoint()\tReturns whether two sets have a intersection or not\n",
    "print(set2.isdisjoint(set))\n",
    "\n",
    "#issubset()\tReturns whether another set contains this set or not\n",
    "print(set.issubset(set2))\n",
    "print(set2.issubset(set))\n",
    "\n",
    "#issuperset()\tReturns whether this set contains another set or not\n",
    "print(set.issuperset(set2))\n",
    "print(set2.issuperset(set))\n",
    "\n",
    "#pop()\tRemoves an element from the set\n",
    "set.pop()\n",
    "print(set)\n",
    "\n",
    "#remove()\tRemoves the specified element\n",
    "set.remove(2)\n",
    "print(set)\n",
    "\n",
    "#union()\tReturn a set containing the union of sets\n",
    "U=set.union(set3)\n",
    "print(U)\n",
    "\n",
    "#update()\tUpdate the set with another set, or any other iterable\n",
    "print(\"--------\")\n",
    "print(set2)\n",
    "print(set)\n",
    "set2.update(set)\n",
    "print(set2)\n",
    "\n",
    "\n"
   ]
  },
  {
   "cell_type": "code",
   "execution_count": 163,
   "id": "1e96a92f",
   "metadata": {},
   "outputs": [
    {
     "name": "stdout",
     "output_type": "stream",
     "text": [
      "Enter a number27\n",
      "Decimal: 27\n",
      "Binary: 0b11011\n",
      "Octal: 0o33\n",
      "Hexadecimal: 0x1b\n"
     ]
    }
   ],
   "source": [
    "#06.Write a python program to convert Decimal to Binary, Octal and Hexadecimal with direct method.\n",
    "\n",
    "decimal = int(input(\"Enter a number\"))\n",
    "\n",
    "binary = bin(decimal)\n",
    "octal = oct(decimal)\n",
    "hexadecimal = hex(decimal)\n",
    "\n",
    "print(\"Decimal:\", decimal)\n",
    "print(\"Binary:\", binary)\n",
    "print(\"Octal:\", octal)\n",
    "print(\"Hexadecimal:\", hexadecimal)"
   ]
  },
  {
   "cell_type": "code",
   "execution_count": 167,
   "id": "e9f410cb",
   "metadata": {},
   "outputs": [
    {
     "name": "stdout",
     "output_type": "stream",
     "text": [
      "110\n",
      "90\n",
      "1000\n",
      "10.0\n",
      "0\n",
      "100000000000000000000\n",
      "10\n"
     ]
    }
   ],
   "source": [
    "#07.Arithmetic Operators\n",
    "a=100 \n",
    "b=10\n",
    "#\tAddition\n",
    "print(a+b)\n",
    "\n",
    "#\tSubtraction\n",
    "print(a-b)\n",
    "\n",
    "#\tMultiplication\n",
    "print(a*b)\n",
    "\n",
    "#\tDivision\n",
    "print(a/b)\n",
    "\n",
    "#Modulus\n",
    "print(a%b)\n",
    "\n",
    "#\tExponentiation\n",
    "print(a**b)\n",
    "\n",
    "#Floor division\n",
    "print(a//b)"
   ]
  },
  {
   "cell_type": "code",
   "execution_count": 174,
   "id": "b5370941",
   "metadata": {},
   "outputs": [
    {
     "name": "stdout",
     "output_type": "stream",
     "text": [
      "110\n",
      "100\n",
      "1000\n",
      "100.0\n",
      "0\n",
      "9765625\n",
      "976562\n",
      "2\n",
      "10\n",
      "0\n",
      "0\n",
      "0\n"
     ]
    }
   ],
   "source": [
    "#08.Assignment Operators\n",
    "a=100 \n",
    "b=10\n",
    "a+=b\n",
    "print(a)\n",
    "\n",
    "a-=b\n",
    "print(a)\n",
    "\n",
    "a*=b\n",
    "print(a)\n",
    "\n",
    "a/=b\n",
    "print(a)\n",
    "\n",
    "a=100\n",
    "a%=b\n",
    "print(a)\n",
    "\n",
    "a=5\n",
    "a**=b\n",
    "print(a)\n",
    "\n",
    "a//=b\n",
    "print(a)\n",
    "\n",
    "a&=b\n",
    "print(a)\n",
    "\n",
    "a|=b\n",
    "print(a)\n",
    "\n",
    "a^=b\n",
    "print(a)\n",
    "\n",
    "a>>=b\n",
    "print(a)\n",
    "\n",
    "a<<=b\n",
    "print(a)"
   ]
  },
  {
   "cell_type": "code",
   "execution_count": 242,
   "id": "ce7634b6",
   "metadata": {},
   "outputs": [
    {
     "name": "stdout",
     "output_type": "stream",
     "text": [
      "True\n",
      "False\n",
      "False\n",
      "False\n",
      "True\n",
      "True\n"
     ]
    }
   ],
   "source": [
    "#09.Comparison Operators\n",
    "a=10\n",
    "b=10\n",
    "#\tEqual\n",
    "print(a==b)\n",
    "\n",
    "#\tNot equal\n",
    "print(a!=b)\n",
    "\n",
    "#Greater than\n",
    "print(a>b)\n",
    "\n",
    "#\tLess than\n",
    "print(a<b)\n",
    "\n",
    "#Greater than or equal to\n",
    "print(a>=b)\n",
    "\n",
    "#\tLess than or equal to\n",
    "print(a<=b)"
   ]
  },
  {
   "cell_type": "code",
   "execution_count": 183,
   "id": "1682b363",
   "metadata": {},
   "outputs": [
    {
     "name": "stdout",
     "output_type": "stream",
     "text": [
      "True\n",
      "True\n",
      "False\n"
     ]
    }
   ],
   "source": [
    "#10.Logical Operators\n",
    "a=10 \n",
    "b=10\n",
    "#\tReturns True if both statements are true\n",
    "print(a>8 and a<15)\n",
    "\n",
    "#\tReturns True if one of the statements is true\n",
    "print(a>4 or b<7)\n",
    "\n",
    "#\tReverse the result, returns False if the result is true\n",
    "print(not(a and b))"
   ]
  },
  {
   "cell_type": "code",
   "execution_count": 246,
   "id": "ee171770",
   "metadata": {},
   "outputs": [
    {
     "name": "stdout",
     "output_type": "stream",
     "text": [
      "10\n",
      "10\n",
      "0\n",
      "-11\n",
      "10240\n",
      "0\n"
     ]
    }
   ],
   "source": [
    "#11.Bitwise Operators\n",
    "a=10 \n",
    "b=10\n",
    "#Sets each bit to 1 if both bits are 1\n",
    "print(a&b)\n",
    "\n",
    "#\tSets each bit to 1 if one of two bits is 1\n",
    "print(a|b)\n",
    "\n",
    "#Sets each bit to 1 if only one of two bits is 1\n",
    "print(a^b)\n",
    "\n",
    "#Inverts all the bits\n",
    "print(~a)\n",
    "\n",
    "#Shift left by pushing zeros in from the right and let the leftmost bits fall off\n",
    "print(a<<b)\n",
    "\n",
    "#Shift right by pushing copies of the leftmost bit in from the left, and let the rightmost bits fall off\n",
    "print(a>>b)"
   ]
  },
  {
   "cell_type": "code",
   "execution_count": 189,
   "id": "3cae8389",
   "metadata": {},
   "outputs": [
    {
     "name": "stdout",
     "output_type": "stream",
     "text": [
      "True\n",
      "True\n"
     ]
    }
   ],
   "source": [
    "#12.Memebership Operators\n",
    "x=[1,2,3]\n",
    "y=[1,\"str\"]\n",
    "\n",
    "#\tReturns True if a sequence with the specified value is present in the object\n",
    "print(3 in x)\n",
    "\n",
    "#Returns True if a sequence with the specified value is not present in the object\n",
    "print(\"str\" in y)"
   ]
  },
  {
   "cell_type": "code",
   "execution_count": 245,
   "id": "825ff1ed",
   "metadata": {},
   "outputs": [
    {
     "name": "stdout",
     "output_type": "stream",
     "text": [
      "False\n",
      "True\n"
     ]
    }
   ],
   "source": [
    "#13.Identity Operators\n",
    "\n",
    "#Returns True if both variables are the same object\n",
    "print(x is y)\n",
    "\n",
    "#Returns True if both variables are not the same object\n",
    "print(x is not y)"
   ]
  },
  {
   "cell_type": "code",
   "execution_count": 204,
   "id": "21984536",
   "metadata": {},
   "outputs": [
    {
     "name": "stdout",
     "output_type": "stream",
     "text": [
      "[6, 5, 4, 3, 2, 1]\n",
      "[1, 2, 3, 4]\n",
      "[1, 2, 3, 4, 5]\n"
     ]
    }
   ],
   "source": [
    "#14.Negative Indexing for List and slicing\n",
    "\n",
    "List=[1,2,3,4,5,6]\n",
    "\n",
    "print(List[::-1])\n",
    "\n",
    "print(List[0:4])\n",
    "\n",
    "print(List[-6:-1])"
   ]
  },
  {
   "cell_type": "code",
   "execution_count": 211,
   "id": "72e7bd0e",
   "metadata": {},
   "outputs": [
    {
     "name": "stdout",
     "output_type": "stream",
     "text": [
      "\n"
     ]
    }
   ],
   "source": [
    "#15.Predict the output for the given code snippet and justify the result.\n",
    "\n",
    "str='A series of characters designated as one object known as a string'\n",
    "print(str[::-1][4:3])\n",
    "\n",
    "#Since the starting index (4) is greater than the ending index (3), an empty string will be returned.\n",
    "\n",
    "#Therefore, the output of the code will be an empty string ('')."
   ]
  },
  {
   "cell_type": "code",
   "execution_count": 226,
   "id": "b5a9b4f0",
   "metadata": {},
   "outputs": [
    {
     "name": "stdout",
     "output_type": "stream",
     "text": [
      "WAS I TAC A RO RAC A TI SAW\n"
     ]
    }
   ],
   "source": [
    "#16.Write a python code to get desired output\n",
    "\n",
    "p_phrase=\"was it a car or a cat I saw\"\n",
    "List=list(p_phrase.upper())\n",
    "List.reverse()\n",
    "p_phrase=''.join(List)\n",
    "print(p_phrase)"
   ]
  },
  {
   "cell_type": "code",
   "execution_count": 231,
   "id": "ff6362b5",
   "metadata": {},
   "outputs": [
    {
     "name": "stdout",
     "output_type": "stream",
     "text": [
      "enter value of x5\n",
      "ZZZZZOOOOOOOOOO"
     ]
    }
   ],
   "source": [
    "#17. You are required to generate a word similar to ZOO, X and Y that denote the number\n",
    "#of Zs and Os respectively. The generated word similar to ZOO where Y= 2 * X.\n",
    "#Input X= 2 Output ZZOOOO\n",
    "#Input X= 5 Output ZZZZZOOOOOOOOOO\n",
    "\n",
    "x=int(input(\"enter value of x\"))\n",
    "y=2*x\n",
    "\n",
    "for x in range(x):\n",
    "    print(\"Z\",end=\"\")\n",
    "for y in range(y):\n",
    "    print(\"O\",end=\"\")\n"
   ]
  },
  {
   "cell_type": "code",
   "execution_count": 239,
   "id": "4a5bc43a",
   "metadata": {},
   "outputs": [
    {
     "name": "stdout",
     "output_type": "stream",
     "text": [
      "[[10, 10, 10], [10, 10, 10], [10, 10, 10]]\n",
      "[[-8, -6, -4], [-2, 0, 2], [4, 6, 8]]\n",
      "[[30, 24, 18], [84, 69, 54], [138, 114, 90]]\n"
     ]
    }
   ],
   "source": [
    "#18. Matrix Subtraction, Addition, Multiplication\n",
    "\n",
    "\n",
    "#Matrix Addition\n",
    "Matrix1=[[1,2,3],[4,5,6],[7,8,9]]\n",
    "Matrix2=[[9,8,7],[6,5,4],[3,2,1]]\n",
    "\n",
    "Matrix3=[]\n",
    "\n",
    "for i in range(len(Matrix1)):\n",
    "    row=[]\n",
    "    for j in range(len(Matrix1[i])):\n",
    "        row.append(Matrix1[i][j]+Matrix2[i][j])\n",
    "    Matrix3.append(row)\n",
    "print(Matrix3)    \n",
    "    \n",
    "    \n",
    "#Matrix Subtraction\n",
    "Matrix1=[[1,2,3],[4,5,6],[7,8,9]]\n",
    "Matrix2=[[9,8,7],[6,5,4],[3,2,1]]\n",
    "\n",
    "Matrix3=[]\n",
    "\n",
    "for i in range(len(Matrix1)):\n",
    "    row=[]\n",
    "    for j in range(len(Matrix1[i])):\n",
    "        row.append(Matrix1[i][j]-Matrix2[i][j])\n",
    "    Matrix3.append(row)\n",
    "print(Matrix3)    \n",
    "\n",
    "\n",
    "#Matrix Multiplication(Still not fully clear)\n",
    "Matrix1=[[1,2,3],[4,5,6],[7,8,9]]\n",
    "Matrix2=[[9,8,7],[6,5,4],[3,2,1]]\n",
    "\n",
    "Matrix3=[]\n",
    "\n",
    "for i in range(len(Matrix1)):\n",
    "        row = []\n",
    "        for j in range(len(Matrix2[0])):\n",
    "            sum = 0\n",
    "            for k in range(len(Matrix2)):\n",
    "                sum += Matrix1[i][k] * Matrix2[k][j]\n",
    "            row.append(sum)\n",
    "        Matrix3.append(row)\n",
    "print(Matrix3)"
   ]
  },
  {
   "cell_type": "code",
   "execution_count": null,
   "id": "7667e64b",
   "metadata": {},
   "outputs": [],
   "source": []
  }
 ],
 "metadata": {
  "kernelspec": {
   "display_name": "Python 3 (ipykernel)",
   "language": "python",
   "name": "python3"
  },
  "language_info": {
   "codemirror_mode": {
    "name": "ipython",
    "version": 3
   },
   "file_extension": ".py",
   "mimetype": "text/x-python",
   "name": "python",
   "nbconvert_exporter": "python",
   "pygments_lexer": "ipython3",
   "version": "3.10.9"
  }
 },
 "nbformat": 4,
 "nbformat_minor": 5
}
