{
 "cells": [
  {
   "cell_type": "code",
   "execution_count": 5,
   "id": "8523b10e",
   "metadata": {},
   "outputs": [
    {
     "name": "stdout",
     "output_type": "stream",
     "text": [
      "AAAOUA\n"
     ]
    }
   ],
   "source": [
    "\n",
    "#Q.6\n",
    "\n",
    "statelist=[\"Delhi\",\"Bihar\",\"UP\",\"Goa\",\"Gujarat\",\"Assam\",\"AP\"]\n",
    "str=\"\"\n",
    "for item in statelist:\n",
    "    a=item[len(item)-2]\n",
    "    if(a=='a'or a=='e'or a=='i'or a=='o' or a=='u'or a=='A'or a=='E'or a=='I'or a=='O' or a=='U'):\n",
    "           str+=a.upper()\n",
    "print(str[::-1])    "
   ]
  },
  {
   "cell_type": "code",
   "execution_count": 17,
   "id": "079c1d2e",
   "metadata": {},
   "outputs": [
    {
     "name": "stdout",
     "output_type": "stream",
     "text": [
      "Enter a sentenceorange,white,red,cyan,green,cyan,pink,white\n",
      "['cyan', 'green', 'orange', 'pink', 'red', 'white']\n"
     ]
    }
   ],
   "source": [
    "#Q.1\n",
    "a= list(input(\"Enter a sentence\").split(\",\"))\n",
    "st=set(a)\n",
    "li=list(st)\n",
    "li.sort()\n",
    "print(li)\n"
   ]
  },
  {
   "cell_type": "code",
   "execution_count": 1,
   "id": "b6714b58",
   "metadata": {},
   "outputs": [
    {
     "name": "stdout",
     "output_type": "stream",
     "text": [
      "Enter a sentencevarad hi\n",
      "varad-hi\n"
     ]
    }
   ],
   "source": [
    "#Q.2\n",
    "str=str(input(\"Enter a sentence\"))\n",
    "str=str.replace(\" \",\"-\")\n",
    "print(str)\n",
    "        "
   ]
  },
  {
   "cell_type": "code",
   "execution_count": 4,
   "id": "82369163",
   "metadata": {},
   "outputs": [
    {
     "name": "stdout",
     "output_type": "stream",
     "text": [
      "dItAgAaPkA"
     ]
    }
   ],
   "source": [
    "#Q3.\n",
    "\n",
    "statelist=[\"Delhi\",\"Telanaga\",\"Goa\",\"AP\",\"Kerela\"]\n",
    "for x in statelist:\n",
    "    print(x[0].lower()+x[-1].upper(),end=\"\")\n"
   ]
  },
  {
   "cell_type": "code",
   "execution_count": 20,
   "id": "182f3567",
   "metadata": {},
   "outputs": [
    {
     "name": "stdout",
     "output_type": "stream",
     "text": [
      "AO\n"
     ]
    }
   ],
   "source": [
    "#Q4.\n",
    "\n",
    "statelist=[\"Delhi\",\"Bihar\",\"Goa\",\"Gujarat\",\"Assam\"]\n",
    "vow_list=['a','e','i','o','u','A','E','I','O','U']\n",
    "str=\"\"\n",
    "\n",
    "for item in statelist:\n",
    "    #print((len(item)+1)/2)\n",
    "    i=item[int((len(item))/2)]\n",
    "    if i in vow_list:\n",
    "        str+=i\n",
    "print(str[::-1].upper())                \n",
    "        \n",
    "            "
   ]
  },
  {
   "cell_type": "markdown",
   "id": "55d9d587",
   "metadata": {},
   "source": [
    "#Q6."
   ]
  },
  {
   "cell_type": "code",
   "execution_count": 21,
   "id": "ed4a1c11",
   "metadata": {},
   "outputs": [
    {
     "name": "stdout",
     "output_type": "stream",
     "text": [
      "UOIE\n"
     ]
    }
   ],
   "source": [
    "#Q.5\n",
    "statelist=[\"Delhi\",\"Bihar\",\"UP\",\"Goa\",\"Gujarat\",\"Assam\",\"AP\"]\n",
    "vow_list=['a','e','i','o','u','A','E','I','O','U']\n",
    "str=\"\"\n",
    "\n",
    "for item in statelist:\n",
    "    if item[1] in vow_list:\n",
    "        str+=item[1]\n",
    "print(str[::-1].upper())        "
   ]
  },
  {
   "cell_type": "code",
   "execution_count": 58,
   "id": "4fd1d044",
   "metadata": {},
   "outputs": [
    {
     "name": "stdout",
     "output_type": "stream",
     "text": [
      "[]\n"
     ]
    }
   ],
   "source": [
    "#Q.7.(Why not working?)\n",
    "Countries=['Finland','Germany','Sweden','Ireland','Turkey']\n",
    "def check(Countries):\n",
    "    li=[]\n",
    "    for item in Countries:\n",
    "        if item.find('and')>=0:\n",
    "            li.append(item)        \n",
    "print(list(filter(check,Countries)))     \n",
    "        \n"
   ]
  },
  {
   "cell_type": "code",
   "execution_count": 54,
   "id": "3414a4ee",
   "metadata": {},
   "outputs": [
    {
     "name": "stdout",
     "output_type": "stream",
     "text": [
      "['Finland', 'Ireland']\n"
     ]
    }
   ],
   "source": [
    "#Q7.Without Filter\n",
    "Countries=['Finland','Germany','Sweden','Ireland','Turkey']\n",
    "li=[]\n",
    "for item in Countries:\n",
    "    if item.find('and')>=0:\n",
    "        li.append(item)       \n",
    "print(li)"
   ]
  },
  {
   "cell_type": "code",
   "execution_count": 59,
   "id": "7358cb72",
   "metadata": {},
   "outputs": [
    {
     "name": "stdout",
     "output_type": "stream",
     "text": [
      "['Finland', 'Ireland']\n"
     ]
    }
   ],
   "source": [
    "#Q7.With Filter\n",
    "Countries = ['Finland', 'Germany', 'Sweden', 'Ireland', 'Turkey']\n",
    "li = list(filter(lambda item: item.find('and') >= 0, Countries))\n",
    "print(li)"
   ]
  },
  {
   "cell_type": "code",
   "execution_count": 61,
   "id": "4429430b",
   "metadata": {},
   "outputs": [
    {
     "name": "stdout",
     "output_type": "stream",
     "text": [
      "100\n"
     ]
    }
   ],
   "source": [
    "#Q8.\n",
    "import functools\n",
    "Input=[25,12,33,12,8,10]\n",
    "\n",
    "print(functools.reduce(lambda a,b:a+b,Input))"
   ]
  },
  {
   "cell_type": "code",
   "execution_count": 10,
   "id": "ab5fb8d2",
   "metadata": {},
   "outputs": [
    {
     "name": "stdout",
     "output_type": "stream",
     "text": [
      "Enter a number12\n"
     ]
    }
   ],
   "source": [
    "#Q10\n",
    "num=int(input(\"Enter a number\"))\n",
    "temp=num\n",
    "count=0\n",
    "while(temp>0):\n",
    "    temp=int(temp/10)\n",
    "    count+=1\n",
    "with open(\"countdigit8.txt\",\"w\") as f:   \n",
    "    f.write(str(count))\n",
    "    \n",
    "    "
   ]
  },
  {
   "cell_type": "code",
   "execution_count": 4,
   "id": "1b63c520",
   "metadata": {},
   "outputs": [
    {
     "name": "stdout",
     "output_type": "stream",
     "text": [
      "Number of digits: 5\n"
     ]
    }
   ],
   "source": [
    "#Q10.\n",
    "def count_digits(number):\n",
    "    count = len(str(number))\n",
    "    with open(\"countdigit10.txt\", \"w\") as file:\n",
    "        file.write(str(count))\n",
    "    return count\n",
    "\n",
    "number = 12345\n",
    "digit_count = count_digits(number)\n",
    "print(\"Number of digits:\", digit_count)\n"
   ]
  },
  {
   "cell_type": "code",
   "execution_count": 16,
   "id": "d2c0249b",
   "metadata": {},
   "outputs": [],
   "source": [
    "import os\n",
    "\n",
    "\n",
    "os.remove(\"countdigit1.txt\")"
   ]
  },
  {
   "cell_type": "code",
   "execution_count": 1,
   "id": "a367b3d0",
   "metadata": {},
   "outputs": [
    {
     "name": "stdout",
     "output_type": "stream",
     "text": [
      "enter a number5\n"
     ]
    }
   ],
   "source": [
    "#Q.11\n",
    "\n",
    "num=int(input(\"enter a number\"))\n",
    "summ=int((num*(num+1))/2)\n",
    "with open(\"sumresult.txt\",\"w\") as f:\n",
    "    f.write(str(summ))    \n"
   ]
  },
  {
   "cell_type": "code",
   "execution_count": 14,
   "id": "bffd2ff3",
   "metadata": {},
   "outputs": [],
   "source": [
    "#Q.12\n",
    "# list=str(input(\"Enter comma separatedelements of list\")).split(\",\")\n",
    "list=['ram','laxman','sita','john']\n",
    "list1=[]\n",
    "def capitalize(list):\n",
    "    for x in list:\n",
    "#         print(x)\n",
    "        list1.append(x.capitalize())\n",
    "capitalize(list)\n",
    "# print(list1)        \n",
    "with open(\"listupper.txt\",\"w\") as f:\n",
    "    f.write(str(list1))\n",
    "\n",
    "        "
   ]
  },
  {
   "cell_type": "code",
   "execution_count": 16,
   "id": "cd3389d1",
   "metadata": {},
   "outputs": [
    {
     "name": "stdout",
     "output_type": "stream",
     "text": [
      "Enter a stringvarad\n"
     ]
    }
   ],
   "source": [
    "#Q13.\n",
    "str1=str(input(\"Enter a string\"))\n",
    "with open(\"stringinput.txt\",\"w\") as f:\n",
    "    f.write(str1)\n",
    "with open(\"stringinput.txt\",\"r\") as f:\n",
    "    temp=f.read()\n",
    "temp=temp[::-1]\n",
    "with open(\"reversestr.txt\",\"w\") as f:\n",
    "    f.write(temp)"
   ]
  },
  {
   "cell_type": "code",
   "execution_count": 1,
   "id": "4628e700",
   "metadata": {},
   "outputs": [
    {
     "name": "stdout",
     "output_type": "stream",
     "text": [
      "['Germany', 'Sweden', 'Turkey']\n"
     ]
    }
   ],
   "source": [
    "#Q14\n",
    "Countries = ['Finland', 'Germany', 'Sweden', 'Ireland', 'Turkey']\n",
    "li = list(filter(lambda item: item.find('and') == -1, Countries))\n",
    "print(li)"
   ]
  },
  {
   "cell_type": "code",
   "execution_count": 8,
   "id": "2bf688a7",
   "metadata": {},
   "outputs": [
    {
     "name": "stdout",
     "output_type": "stream",
     "text": [
      "Enter 3 numbers with space separation2 3 4\n",
      "<class 'list'>\n",
      "[\n"
     ]
    },
    {
     "ename": "ValueError",
     "evalue": "invalid literal for int() with base 10: '['",
     "output_type": "error",
     "traceback": [
      "\u001b[1;31m---------------------------------------------------------------------------\u001b[0m",
      "\u001b[1;31mValueError\u001b[0m                                Traceback (most recent call last)",
      "Cell \u001b[1;32mIn[8], line 13\u001b[0m\n\u001b[0;32m     11\u001b[0m \u001b[38;5;28;01mfor\u001b[39;00m x \u001b[38;5;129;01min\u001b[39;00m \u001b[38;5;28mlist\u001b[39m:\n\u001b[0;32m     12\u001b[0m     \u001b[38;5;28mprint\u001b[39m(x)\n\u001b[1;32m---> 13\u001b[0m     \u001b[38;5;28;01mif\u001b[39;00m \u001b[38;5;28;43mint\u001b[39;49m\u001b[43m(\u001b[49m\u001b[43mx\u001b[49m\u001b[43m)\u001b[49m\u001b[38;5;241m>\u001b[39m\u001b[38;5;28mmax\u001b[39m:\n\u001b[0;32m     14\u001b[0m         \u001b[38;5;28mmax\u001b[39m\u001b[38;5;241m=\u001b[39m\u001b[38;5;28mint\u001b[39m(x)\n\u001b[0;32m     15\u001b[0m \u001b[38;5;28mprint\u001b[39m(\u001b[38;5;28mmax\u001b[39m)\n",
      "\u001b[1;31mValueError\u001b[0m: invalid literal for int() with base 10: '['"
     ]
    }
   ],
   "source": [
    "#Q15.\n",
    "num=str(input(\"Enter 3 numbers with space separation\")).split(\" \")\n",
    "list=[]\n",
    "# print(type(num))\n",
    "with open(\"input.txt\",\"w\") as f:\n",
    "    f.write(str(num))\n",
    "with open(\"input.txt\",\"r\") as f:\n",
    "    list=f.read()\n",
    "max=0\n",
    "\n",
    "for x in list:\n",
    "    print(x)\n",
    "    if int(x)>max:\n",
    "        max=int(x)\n",
    "print(max)        "
   ]
  },
  {
   "cell_type": "code",
   "execution_count": 19,
   "id": "c860559c",
   "metadata": {},
   "outputs": [
    {
     "name": "stdout",
     "output_type": "stream",
     "text": [
      "enter 3 numbers with space separation2 3 4\n"
     ]
    }
   ],
   "source": [
    "#Q15.\n",
    "num=str(input(\"enter 3 numbers with space separation\"))\n",
    "with open(\"input.txt\",\"w\") as f:\n",
    "    f.write(str(num))\n",
    "with open(\"input.txt\",\"r\") as f:\n",
    "    temp=f.read()\n",
    "temp=temp.split(\" \")\n",
    "for x in temp:\n",
    "    max1=0\n",
    "    if int(x) > max1:\n",
    "        max1=x\n",
    "with open(\"largest.txt\",\"w\") as f:\n",
    "    f.write(max1)"
   ]
  },
  {
   "cell_type": "code",
   "execution_count": 20,
   "id": "764d1ee3",
   "metadata": {},
   "outputs": [
    {
     "name": "stdout",
     "output_type": "stream",
     "text": [
      "oa"
     ]
    }
   ],
   "source": [
    "#Q4\n",
    "#approach 1\n",
    "\n",
    "import math\n",
    "statelist=[\"Delhi\",\"Bihar\",\"Goa\",\"Gujarat\",\"Assam\"]\n",
    "\n",
    "for i in statelist:\n",
    "    keng = (math.floor(len(i)/2))\n",
    "    char = i[keng]\n",
    "    #print(char)\n",
    "    if char in ['a','e','i','o','u']:\n",
    "        print(char,end=\"\")\n",
    "  \n"
   ]
  },
  {
   "cell_type": "code",
   "execution_count": 21,
   "id": "acd6231f",
   "metadata": {},
   "outputs": [
    {
     "name": "stdout",
     "output_type": "stream",
     "text": [
      "['u', 'o', 'i', 'e']\n"
     ]
    }
   ],
   "source": [
    "#5\n",
    "#approach 1\n",
    "\n",
    "statelist=[\"Delhi\",\"Bihar\",\"UP\",\"Goa\",\"Gujarat\",\"Assam\",\"AP\"]\n",
    "list=[]\n",
    "for i in statelist:\n",
    "    char = i[1]\n",
    "    if char in ['a','e','i','o','u']:\n",
    "        list.append(char)\n",
    "        \n",
    "list.sort()\n",
    "list.reverse()\n",
    "print(list)"
   ]
  },
  {
   "cell_type": "code",
   "execution_count": 22,
   "id": "994cf331",
   "metadata": {},
   "outputs": [
    {
     "name": "stdout",
     "output_type": "stream",
     "text": [
      "dItAgAaPkA\n"
     ]
    }
   ],
   "source": [
    "#question 3(2)\n",
    "\n",
    "statelist=[\"Delhi\",\"Telangana\",\"Goa\",\"AP\",\"Kerala\"]\n",
    "\n",
    "output_string = ''.join([state[0].lower() + state[-1].upper() for state in statelist])\n",
    "\n",
    "print(output_string)"
   ]
  },
  {
   "cell_type": "code",
   "execution_count": 2,
   "id": "0de31fbd",
   "metadata": {},
   "outputs": [
    {
     "name": "stdout",
     "output_type": "stream",
     "text": [
      "This-program-converts-spaces-into-hyphen\n"
     ]
    }
   ],
   "source": [
    "#Q2.\n",
    "input_string = \"This program converts spaces into hyphen\"\n",
    "output_string2=\"\"\n",
    "for iter in input_string:\n",
    "    if iter==\" \":\n",
    "        output_string2+=\"-\"\n",
    "    else:\n",
    "        output_string2+=iter\n",
    "\n",
    "print(output_string2)\n"
   ]
  },
  {
   "cell_type": "code",
   "execution_count": 5,
   "id": "52cf6e5b",
   "metadata": {},
   "outputs": [
    {
     "name": "stdout",
     "output_type": "stream",
     "text": [
      "Enter numbers, separated by spaces: 25 12 33 12 8 10\n",
      "100\n"
     ]
    }
   ],
   "source": [
    "#Q8.\n",
    "from functools import reduce\n",
    "import operator\n",
    "\n",
    "#input_list = [25, 12, 33, 12, 8, 10]\n",
    "input_list = input(\"Enter numbers, separated by spaces: \").split()\n",
    "\n",
    "# Convert the input elements to integers\n",
    "input_list = [int(element) for element in input_list]\n",
    "result = reduce(operator.add, input_list)\n",
    "\n",
    "print(result)\n"
   ]
  },
  {
   "cell_type": "code",
   "execution_count": 7,
   "id": "ceaac53d",
   "metadata": {},
   "outputs": [
    {
     "name": "stdout",
     "output_type": "stream",
     "text": [
      "['Finland', 'Ireland']\n"
     ]
    }
   ],
   "source": [
    "#Q7.\n",
    "#without using filter()\n",
    "countries = [\"Finland\", \"Germany\", \"Sweden\", \"Ireland\", \"Turkey\"]\n",
    "filtered_countries = []\n",
    "\n",
    "for country in countries:\n",
    "    if \"and\" in country:\n",
    "        filtered_countries.append(country)\n",
    "print(filtered_countries)\n"
   ]
  },
  {
   "cell_type": "code",
   "execution_count": 8,
   "id": "a3206e13",
   "metadata": {},
   "outputs": [],
   "source": [
    "#Q12.\n",
    "ls=[]\n",
    "def caps(list1):\n",
    "    for i in list1:\n",
    "        ls.append(i.capitalize())   \n",
    "\n",
    "lis=[\"abc\",\"fd\",\"sdf\"]\n",
    "caps(lis)\n",
    "        \n",
    "f1=open(\"listupper.txt\",\"w\")\n",
    "f1.write(str(ls))\n",
    "f1.close( )"
   ]
  },
  {
   "cell_type": "code",
   "execution_count": 9,
   "id": "8f60c6d1",
   "metadata": {},
   "outputs": [
    {
     "name": "stdout",
     "output_type": "stream",
     "text": [
      "Exception Occured \n"
     ]
    }
   ],
   "source": [
    "#Q.9\n",
    "#9\n",
    "class InvalidProductBillException(Exception):\n",
    "    pass \n",
    "with open(\"Bill.txt\",\"w\") as f:\n",
    "    pass\n",
    "with open(\"Bill.txt\" , \"r\") as f: \n",
    "    ans = f.read() \n",
    "try:\n",
    "    if(ans < '0'): \n",
    "        raise InvalidProductBillException \n",
    "    else: \n",
    "        print(\"You need to pay amount\",ans)\n",
    "except InvalidProductBillException as ie: \n",
    "    print(\"Exception Occured\", ie)\n",
    "f.close()"
   ]
  },
  {
   "cell_type": "code",
   "execution_count": null,
   "id": "41b97994",
   "metadata": {},
   "outputs": [],
   "source": []
  }
 ],
 "metadata": {
  "kernelspec": {
   "display_name": "Python 3 (ipykernel)",
   "language": "python",
   "name": "python3"
  },
  "language_info": {
   "codemirror_mode": {
    "name": "ipython",
    "version": 3
   },
   "file_extension": ".py",
   "mimetype": "text/x-python",
   "name": "python",
   "nbconvert_exporter": "python",
   "pygments_lexer": "ipython3",
   "version": "3.10.9"
  }
 },
 "nbformat": 4,
 "nbformat_minor": 5
}
