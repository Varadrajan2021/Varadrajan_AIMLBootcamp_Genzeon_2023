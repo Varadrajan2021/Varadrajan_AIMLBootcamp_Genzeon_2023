{
 "cells": [
  {
   "cell_type": "code",
   "execution_count": 1,
   "id": "d6e0c340",
   "metadata": {},
   "outputs": [],
   "source": [
    "list=[num**2 for num in range(0,4) if num%2==0]"
   ]
  },
  {
   "cell_type": "code",
   "execution_count": 2,
   "id": "c5760dbc",
   "metadata": {},
   "outputs": [],
   "source": [
    "another_list=[x if x%2==0 else 'ODD' for x in range(0,11)]"
   ]
  },
  {
   "cell_type": "code",
   "execution_count": 3,
   "id": "da007158",
   "metadata": {},
   "outputs": [
    {
     "data": {
      "text/plain": [
       "[0, 4]"
      ]
     },
     "execution_count": 3,
     "metadata": {},
     "output_type": "execute_result"
    }
   ],
   "source": [
    "list"
   ]
  },
  {
   "cell_type": "code",
   "execution_count": 4,
   "id": "ce4fad0c",
   "metadata": {},
   "outputs": [
    {
     "data": {
      "text/plain": [
       "[0, 'ODD', 2, 'ODD', 4, 'ODD', 6, 'ODD', 8, 'ODD', 10]"
      ]
     },
     "execution_count": 4,
     "metadata": {},
     "output_type": "execute_result"
    }
   ],
   "source": [
    "another_list"
   ]
  },
  {
   "cell_type": "code",
   "execution_count": 5,
   "id": "5551a730",
   "metadata": {},
   "outputs": [],
   "source": [
    "list=[]\n",
    "\n",
    "for x in[2,4,6]:\n",
    "    for y in [200,300,400]:\n",
    "        list.append(x*y)"
   ]
  },
  {
   "cell_type": "code",
   "execution_count": 6,
   "id": "07617b05",
   "metadata": {},
   "outputs": [
    {
     "data": {
      "text/plain": [
       "[400, 600, 800, 800, 1200, 1600, 1200, 1800, 2400]"
      ]
     },
     "execution_count": 6,
     "metadata": {},
     "output_type": "execute_result"
    }
   ],
   "source": [
    "list"
   ]
  },
  {
   "cell_type": "code",
   "execution_count": 9,
   "id": "f9bbfd7d",
   "metadata": {},
   "outputs": [],
   "source": [
    "list=[x*y for x in[2,4,6] for y in [20,30,40] ]"
   ]
  },
  {
   "cell_type": "code",
   "execution_count": 10,
   "id": "d7a2a06f",
   "metadata": {},
   "outputs": [
    {
     "data": {
      "text/plain": [
       "[40, 60, 80, 80, 120, 160, 120, 180, 240]"
      ]
     },
     "execution_count": 10,
     "metadata": {},
     "output_type": "execute_result"
    }
   ],
   "source": [
    "list"
   ]
  },
  {
   "cell_type": "code",
   "execution_count": 11,
   "id": "3643b394",
   "metadata": {},
   "outputs": [],
   "source": [
    "list.reverse()\n"
   ]
  },
  {
   "cell_type": "code",
   "execution_count": 12,
   "id": "80203628",
   "metadata": {},
   "outputs": [
    {
     "data": {
      "text/plain": [
       "[240, 180, 120, 160, 120, 80, 80, 60, 40]"
      ]
     },
     "execution_count": 12,
     "metadata": {},
     "output_type": "execute_result"
    }
   ],
   "source": [
    "list"
   ]
  },
  {
   "cell_type": "code",
   "execution_count": 28,
   "id": "55b62f5a",
   "metadata": {},
   "outputs": [],
   "source": [
    "def reverse_str(str='Default'):\n",
    "    return str[::-1]"
   ]
  },
  {
   "cell_type": "code",
   "execution_count": 29,
   "id": "055de7c7",
   "metadata": {},
   "outputs": [],
   "source": [
    "c=reverse_str()"
   ]
  },
  {
   "cell_type": "code",
   "execution_count": 30,
   "id": "ae0ff35c",
   "metadata": {},
   "outputs": [
    {
     "data": {
      "text/plain": [
       "'tluafeD'"
      ]
     },
     "execution_count": 30,
     "metadata": {},
     "output_type": "execute_result"
    }
   ],
   "source": [
    "c"
   ]
  },
  {
   "cell_type": "code",
   "execution_count": 1,
   "id": "7031f95c",
   "metadata": {},
   "outputs": [
    {
     "ename": "SyntaxError",
     "evalue": "invalid decimal literal (3998968598.py, line 3)",
     "output_type": "error",
     "traceback": [
      "\u001b[1;36m  Cell \u001b[1;32mIn[1], line 3\u001b[1;36m\u001b[0m\n\u001b[1;33m    c=7+9i\u001b[0m\n\u001b[1;37m        ^\u001b[0m\n\u001b[1;31mSyntaxError\u001b[0m\u001b[1;31m:\u001b[0m invalid decimal literal\n"
     ]
    }
   ],
   "source": [
    "a=1\n",
    "b=5.0\n",
    "c=7+9i\n",
    "d=\"hi\""
   ]
  },
  {
   "cell_type": "code",
   "execution_count": 2,
   "id": "ea5b1248",
   "metadata": {},
   "outputs": [
    {
     "ename": "NameError",
     "evalue": "name 'c' is not defined",
     "output_type": "error",
     "traceback": [
      "\u001b[1;31m---------------------------------------------------------------------------\u001b[0m",
      "\u001b[1;31mNameError\u001b[0m                                 Traceback (most recent call last)",
      "Cell \u001b[1;32mIn[2], line 1\u001b[0m\n\u001b[1;32m----> 1\u001b[0m \u001b[38;5;28mprint\u001b[39m(\u001b[43mc\u001b[49m)\n",
      "\u001b[1;31mNameError\u001b[0m: name 'c' is not defined"
     ]
    }
   ],
   "source": [
    "print(c)"
   ]
  },
  {
   "cell_type": "code",
   "execution_count": 1,
   "id": "6a0a15f6",
   "metadata": {},
   "outputs": [],
   "source": [
    "list=[1,3,5,6,7,9]\n",
    "def eve_check(list):\n",
    "    count=0\n",
    "    for num in list:\n",
    "        count=count+1\n",
    "        if num%2==0:\n",
    "            #print(num)\n",
    "            print(count)\n",
    "            return True\n",
    "        "
   ]
  },
  {
   "cell_type": "code",
   "execution_count": 2,
   "id": "70e8532d",
   "metadata": {},
   "outputs": [],
   "source": [
    "example=[1,2,3,4,6,6]"
   ]
  },
  {
   "cell_type": "code",
   "execution_count": 5,
   "id": "3efcbc69",
   "metadata": {},
   "outputs": [],
   "source": [
    "from random import shuffle"
   ]
  },
  {
   "cell_type": "code",
   "execution_count": 15,
   "id": "db8f02f7",
   "metadata": {},
   "outputs": [],
   "source": [
    "result=shuffle(example)"
   ]
  },
  {
   "cell_type": "code",
   "execution_count": 9,
   "id": "5776d4bf",
   "metadata": {},
   "outputs": [
    {
     "name": "stdout",
     "output_type": "stream",
     "text": [
      "None\n"
     ]
    }
   ],
   "source": [
    "print(result)"
   ]
  },
  {
   "cell_type": "code",
   "execution_count": 11,
   "id": "f78afe56",
   "metadata": {},
   "outputs": [],
   "source": [
    "def shuf_list(example):\n",
    "    shuffle(example)\n",
    "    return example"
   ]
  },
  {
   "cell_type": "code",
   "execution_count": 13,
   "id": "c6ba2bb7",
   "metadata": {},
   "outputs": [],
   "source": [
    "result=shuf_list(example)"
   ]
  },
  {
   "cell_type": "code",
   "execution_count": 14,
   "id": "bedd1169",
   "metadata": {},
   "outputs": [
    {
     "data": {
      "text/plain": [
       "[6, 6, 4, 3, 1, 2]"
      ]
     },
     "execution_count": 14,
     "metadata": {},
     "output_type": "execute_result"
    }
   ],
   "source": [
    "result"
   ]
  },
  {
   "cell_type": "code",
   "execution_count": 16,
   "id": "3cd9180f",
   "metadata": {},
   "outputs": [],
   "source": [
    "shuffle(example)"
   ]
  },
  {
   "cell_type": "code",
   "execution_count": 17,
   "id": "7e34f854",
   "metadata": {},
   "outputs": [
    {
     "data": {
      "text/plain": [
       "[4, 6, 1, 2, 6, 3]"
      ]
     },
     "execution_count": 17,
     "metadata": {},
     "output_type": "execute_result"
    }
   ],
   "source": [
    "example"
   ]
  },
  {
   "cell_type": "code",
   "execution_count": 18,
   "id": "d596a237",
   "metadata": {},
   "outputs": [],
   "source": [
    "def player_guess():\n",
    "    guess=''\n",
    "    \n",
    "    while guess not in ['0','1','2']:\n",
    "        guess=input(\"pick a number:0,1,2\")\n",
    "    return int(guess)    \n",
    "    "
   ]
  },
  {
   "cell_type": "code",
   "execution_count": 20,
   "id": "6bc52ed2",
   "metadata": {},
   "outputs": [
    {
     "name": "stdout",
     "output_type": "stream",
     "text": [
      "pick a number:0,1,23\n",
      "pick a number:0,1,22\n"
     ]
    },
    {
     "data": {
      "text/plain": [
       "2"
      ]
     },
     "execution_count": 20,
     "metadata": {},
     "output_type": "execute_result"
    }
   ],
   "source": [
    "player_guess()"
   ]
  },
  {
   "cell_type": "code",
   "execution_count": 21,
   "id": "72d97958",
   "metadata": {},
   "outputs": [],
   "source": [
    "def check_guess(example,guess):\n",
    "    if example[guess]=='O':\n",
    "        print(\"correct\")\n",
    "    else:\n",
    "        print(\"Wrong guess\")\n",
    "        print(example)"
   ]
  },
  {
   "cell_type": "code",
   "execution_count": 38,
   "id": "7e8d27a0",
   "metadata": {},
   "outputs": [
    {
     "name": "stdout",
     "output_type": "stream",
     "text": [
      "pick a number:0,1,22\n",
      "Wrong guess\n",
      "['', '', 'O']\n"
     ]
    }
   ],
   "source": [
    "##########################SHUFFLE GAME(Not Complete)###########################\n",
    "\n",
    "\n",
    "#Initial list\n",
    "example=['','O','']\n",
    "# Shuffle list\n",
    "shuffled_list= shuf_list(example)\n",
    "#USer guess\n",
    "guess=player_guess()\n",
    "#check guess\n",
    "check_guess(shuffled_list,guess)\n"
   ]
  },
  {
   "cell_type": "code",
   "execution_count": 39,
   "id": "eef41fbb",
   "metadata": {},
   "outputs": [],
   "source": [
    "def myfunc(a,b):\n",
    "    #Returns 5% of  the sum of a and b\n",
    "    return sum((a,b))*0.05"
   ]
  },
  {
   "cell_type": "code",
   "execution_count": 40,
   "id": "aa40c481",
   "metadata": {},
   "outputs": [
    {
     "data": {
      "text/plain": [
       "5.0"
      ]
     },
     "execution_count": 40,
     "metadata": {},
     "output_type": "execute_result"
    }
   ],
   "source": [
    "myfunc(40,60)"
   ]
  },
  {
   "cell_type": "code",
   "execution_count": 41,
   "id": "01e99002",
   "metadata": {},
   "outputs": [],
   "source": [
    "def myfunc(*args):\n",
    "    return sum(args)*0.05"
   ]
  },
  {
   "cell_type": "code",
   "execution_count": 43,
   "id": "194ecea5",
   "metadata": {},
   "outputs": [
    {
     "data": {
      "text/plain": [
       "10.0"
      ]
     },
     "execution_count": 43,
     "metadata": {},
     "output_type": "execute_result"
    }
   ],
   "source": [
    "myfunc(40,60,50,20,30)"
   ]
  },
  {
   "cell_type": "code",
   "execution_count": 48,
   "id": "109ff122",
   "metadata": {},
   "outputs": [],
   "source": [
    "def my_func(**kwargs):\n",
    "    if 'fruit' in kwargs:\n",
    "        print('my fruit of choice is {}'.format(kwargs['fruit']))\n",
    "    else:\n",
    "        print('I did not find any fruit here')\n"
   ]
  },
  {
   "cell_type": "code",
   "execution_count": 49,
   "id": "386c832b",
   "metadata": {},
   "outputs": [
    {
     "name": "stdout",
     "output_type": "stream",
     "text": [
      "my fruit of choice is apple\n"
     ]
    }
   ],
   "source": [
    "my_func(fruit='apple')"
   ]
  },
  {
   "cell_type": "code",
   "execution_count": 50,
   "id": "7ed77743",
   "metadata": {},
   "outputs": [],
   "source": [
    "def myfunc(*args,**kwargs):\n",
    "    print('I would like {} {}'.format(args[0],kwargs['food']))"
   ]
  },
  {
   "cell_type": "code",
   "execution_count": 51,
   "id": "f392d45c",
   "metadata": {},
   "outputs": [
    {
     "name": "stdout",
     "output_type": "stream",
     "text": [
      "I would like 10 eggs\n"
     ]
    }
   ],
   "source": [
    "myfunc(10,20,30,fruit='orange',food='eggs')"
   ]
  },
  {
   "cell_type": "code",
   "execution_count": null,
   "id": "3a795215",
   "metadata": {},
   "outputs": [],
   "source": []
  }
 ],
 "metadata": {
  "kernelspec": {
   "display_name": "Python 3 (ipykernel)",
   "language": "python",
   "name": "python3"
  },
  "language_info": {
   "codemirror_mode": {
    "name": "ipython",
    "version": 3
   },
   "file_extension": ".py",
   "mimetype": "text/x-python",
   "name": "python",
   "nbconvert_exporter": "python",
   "pygments_lexer": "ipython3",
   "version": "3.10.9"
  }
 },
 "nbformat": 4,
 "nbformat_minor": 5
}
