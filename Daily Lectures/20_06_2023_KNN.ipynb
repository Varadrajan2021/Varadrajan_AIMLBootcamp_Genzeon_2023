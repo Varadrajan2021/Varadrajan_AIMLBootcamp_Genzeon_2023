{
  "nbformat": 4,
  "nbformat_minor": 0,
  "metadata": {
    "colab": {
      "provenance": []
    },
    "kernelspec": {
      "name": "python3",
      "display_name": "Python 3"
    },
    "language_info": {
      "name": "python"
    }
  },
  "cells": [
    {
      "cell_type": "code",
      "source": [
        "import numpy as np\n",
        "import math\n",
        "\n",
        "k=3\n",
        "\n",
        "X_train=np.array([[7,7],[7,4],[3,4],[1,4]])\n",
        "Y_train=np.array([0,0,1,1])\n",
        "\n",
        "X_test=np.array([[3,7],[7,3],[3,3]])\n",
        "def eucl_dist(i,j):\n",
        "  return np.sqrt(np.sum((i-j)**2))\n",
        "\n",
        "def knn_algo(X_train,Y_train,X_test,k):\n",
        "  y_pred=[]\n",
        "\n",
        "  for j in range(len(X_test)):\n",
        "      distances=[eucl_dist(i,j) for i in X_train]\n",
        "      print(distances)\n",
        "      indices=np.argsort(distances)[:k]\n",
        "      print(indices)\n",
        "\n",
        "      #classes of nearest neighbors(not unique)\n",
        "      k_nearest_neighbors=Y_train[indices]\n",
        "      print(k_nearest_neighbors)\n",
        "\n",
        "      #how many nearest with unique each class\n",
        "      unique_class,class_count=np.unique(k_nearest_neighbors,return_counts=True)\n",
        "      #print(unique_class)\n",
        "      #print(class_count)\n",
        "\n",
        "      #taking index of most fav class and finding that class at that index in unique_class\n",
        "      predicted_class=unique_class[np.argmax(class_count)]\n",
        "\n",
        "      #appending that founf unique class in y_pred\n",
        "      y_pred.append(predicted_class)\n",
        "  return y_pred\n",
        "\n",
        "y_pred=knn_algo(X_train,Y_train,X_test,k)\n",
        "print(y_pred)\n",
        "\n",
        "\n",
        "\n"
      ],
      "metadata": {
        "colab": {
          "base_uri": "https://localhost:8080/"
        },
        "id": "k1SByeR15gZ5",
        "outputId": "635136ac-4686-46f6-db5f-f6e31e079013"
      },
      "execution_count": 15,
      "outputs": [
        {
          "output_type": "stream",
          "name": "stdout",
          "text": [
            "[9.899494936611665, 8.06225774829855, 5.0, 4.123105625617661]\n",
            "[3 2 1]\n",
            "[1 1 0]\n",
            "[0 1]\n",
            "[1 2]\n",
            "[8.48528137423857, 6.708203932499369, 3.605551275463989, 3.0]\n",
            "[3 2 1]\n",
            "[1 1 0]\n",
            "[0 1]\n",
            "[1 2]\n",
            "[7.0710678118654755, 5.385164807134504, 2.23606797749979, 2.23606797749979]\n",
            "[2 3 1]\n",
            "[1 1 0]\n",
            "[0 1]\n",
            "[1 2]\n",
            "[1, 1, 1]\n"
          ]
        }
      ]
    },
    {
      "cell_type": "code",
      "source": [],
      "metadata": {
        "id": "WV2ujI1WCY2x"
      },
      "execution_count": null,
      "outputs": []
    }
  ]
}