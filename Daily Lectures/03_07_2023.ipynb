{
  "nbformat": 4,
  "nbformat_minor": 0,
  "metadata": {
    "colab": {
      "provenance": []
    },
    "kernelspec": {
      "name": "python3",
      "display_name": "Python 3"
    },
    "language_info": {
      "name": "python"
    }
  },
  "cells": [
    {
      "cell_type": "code",
      "execution_count": 1,
      "metadata": {
        "id": "Kwf6XNeNfxtU"
      },
      "outputs": [],
      "source": [
        "text1=\"natural Language Processing is a subfield of AI\"\n",
        "tag1=\"NLP\"\n",
        "text2=\"Computer Vision is a subfield of AI\"\n",
        "tag2=\"CV\""
      ]
    },
    {
      "cell_type": "code",
      "source": [
        "from sklearn.feature_extraction.text import CountVectorizer\n",
        "import pandas as pd\n",
        "\n",
        "# Define the two texts and their corresponding tags\n",
        "text1 = \"Natural Language Processing is a subfield of AI\"\n",
        "tag1 = \"NLP\"\n",
        "text2 = \"Computer Vision is a subfield of AI\"\n",
        "tag2 = \"CV\"\n",
        "\n",
        "# Initialize the CountVectorizer\n",
        "vectorizer = CountVectorizer()\n",
        "\n",
        "# Fit the vectorizer on the texts and transform them into feature vectors\n",
        "X = vectorizer.fit_transform([text1, text2])\n",
        "\n",
        "# Get the feature names (words)\n",
        "feature_names = vectorizer.get_feature_names_out()\n",
        "\n",
        "# Get the frequency table as a matrix\n",
        "frequency_table = X.toarray()\n",
        "\n",
        "# Create a DataFrame to hold the frequency table\n",
        "df = pd.DataFrame(frequency_table, columns=feature_names)\n",
        "\n",
        "# Add the text and tag columns\n",
        "df['Text'] = [text1, text2]\n",
        "df['Tag'] = [tag1, tag2]\n",
        "\n",
        "# Print the DataFrame\n",
        "print(df)\n"
      ],
      "metadata": {
        "colab": {
          "base_uri": "https://localhost:8080/"
        },
        "id": "a509yLiDh8hm",
        "outputId": "b4d54aa6-5d0f-405d-bf84-b0160a0633cd"
      },
      "execution_count": 6,
      "outputs": [
        {
          "output_type": "stream",
          "name": "stdout",
          "text": [
            "   ai  computer  is  language  natural  of  processing  subfield  vision  \\\n",
            "0   1         0   1         1        1   1           1         1       0   \n",
            "1   1         1   1         0        0   1           0         1       1   \n",
            "\n",
            "                                              Text  Tag  \n",
            "0  Natural Language Processing is a subfield of AI  NLP  \n",
            "1              Computer Vision is a subfield of AI   CV  \n"
          ]
        }
      ]
    },
    {
      "cell_type": "code",
      "source": [
        "df"
      ],
      "metadata": {
        "colab": {
          "base_uri": "https://localhost:8080/",
          "height": 112
        },
        "id": "wI4yJ1sWiJYh",
        "outputId": "3a5ef475-ea12-4ce5-80d5-c144c002a441"
      },
      "execution_count": 7,
      "outputs": [
        {
          "output_type": "execute_result",
          "data": {
            "text/plain": [
              "   ai  computer  is  language  natural  of  processing  subfield  vision  \\\n",
              "0   1         0   1         1        1   1           1         1       0   \n",
              "1   1         1   1         0        0   1           0         1       1   \n",
              "\n",
              "                                              Text  Tag  \n",
              "0  Natural Language Processing is a subfield of AI  NLP  \n",
              "1              Computer Vision is a subfield of AI   CV  "
            ],
            "text/html": [
              "\n",
              "  <div id=\"df-10288530-e466-49a5-928e-65ad9c7041ca\">\n",
              "    <div class=\"colab-df-container\">\n",
              "      <div>\n",
              "<style scoped>\n",
              "    .dataframe tbody tr th:only-of-type {\n",
              "        vertical-align: middle;\n",
              "    }\n",
              "\n",
              "    .dataframe tbody tr th {\n",
              "        vertical-align: top;\n",
              "    }\n",
              "\n",
              "    .dataframe thead th {\n",
              "        text-align: right;\n",
              "    }\n",
              "</style>\n",
              "<table border=\"1\" class=\"dataframe\">\n",
              "  <thead>\n",
              "    <tr style=\"text-align: right;\">\n",
              "      <th></th>\n",
              "      <th>ai</th>\n",
              "      <th>computer</th>\n",
              "      <th>is</th>\n",
              "      <th>language</th>\n",
              "      <th>natural</th>\n",
              "      <th>of</th>\n",
              "      <th>processing</th>\n",
              "      <th>subfield</th>\n",
              "      <th>vision</th>\n",
              "      <th>Text</th>\n",
              "      <th>Tag</th>\n",
              "    </tr>\n",
              "  </thead>\n",
              "  <tbody>\n",
              "    <tr>\n",
              "      <th>0</th>\n",
              "      <td>1</td>\n",
              "      <td>0</td>\n",
              "      <td>1</td>\n",
              "      <td>1</td>\n",
              "      <td>1</td>\n",
              "      <td>1</td>\n",
              "      <td>1</td>\n",
              "      <td>1</td>\n",
              "      <td>0</td>\n",
              "      <td>Natural Language Processing is a subfield of AI</td>\n",
              "      <td>NLP</td>\n",
              "    </tr>\n",
              "    <tr>\n",
              "      <th>1</th>\n",
              "      <td>1</td>\n",
              "      <td>1</td>\n",
              "      <td>1</td>\n",
              "      <td>0</td>\n",
              "      <td>0</td>\n",
              "      <td>1</td>\n",
              "      <td>0</td>\n",
              "      <td>1</td>\n",
              "      <td>1</td>\n",
              "      <td>Computer Vision is a subfield of AI</td>\n",
              "      <td>CV</td>\n",
              "    </tr>\n",
              "  </tbody>\n",
              "</table>\n",
              "</div>\n",
              "      <button class=\"colab-df-convert\" onclick=\"convertToInteractive('df-10288530-e466-49a5-928e-65ad9c7041ca')\"\n",
              "              title=\"Convert this dataframe to an interactive table.\"\n",
              "              style=\"display:none;\">\n",
              "        \n",
              "  <svg xmlns=\"http://www.w3.org/2000/svg\" height=\"24px\"viewBox=\"0 0 24 24\"\n",
              "       width=\"24px\">\n",
              "    <path d=\"M0 0h24v24H0V0z\" fill=\"none\"/>\n",
              "    <path d=\"M18.56 5.44l.94 2.06.94-2.06 2.06-.94-2.06-.94-.94-2.06-.94 2.06-2.06.94zm-11 1L8.5 8.5l.94-2.06 2.06-.94-2.06-.94L8.5 2.5l-.94 2.06-2.06.94zm10 10l.94 2.06.94-2.06 2.06-.94-2.06-.94-.94-2.06-.94 2.06-2.06.94z\"/><path d=\"M17.41 7.96l-1.37-1.37c-.4-.4-.92-.59-1.43-.59-.52 0-1.04.2-1.43.59L10.3 9.45l-7.72 7.72c-.78.78-.78 2.05 0 2.83L4 21.41c.39.39.9.59 1.41.59.51 0 1.02-.2 1.41-.59l7.78-7.78 2.81-2.81c.8-.78.8-2.07 0-2.86zM5.41 20L4 18.59l7.72-7.72 1.47 1.35L5.41 20z\"/>\n",
              "  </svg>\n",
              "      </button>\n",
              "      \n",
              "  <style>\n",
              "    .colab-df-container {\n",
              "      display:flex;\n",
              "      flex-wrap:wrap;\n",
              "      gap: 12px;\n",
              "    }\n",
              "\n",
              "    .colab-df-convert {\n",
              "      background-color: #E8F0FE;\n",
              "      border: none;\n",
              "      border-radius: 50%;\n",
              "      cursor: pointer;\n",
              "      display: none;\n",
              "      fill: #1967D2;\n",
              "      height: 32px;\n",
              "      padding: 0 0 0 0;\n",
              "      width: 32px;\n",
              "    }\n",
              "\n",
              "    .colab-df-convert:hover {\n",
              "      background-color: #E2EBFA;\n",
              "      box-shadow: 0px 1px 2px rgba(60, 64, 67, 0.3), 0px 1px 3px 1px rgba(60, 64, 67, 0.15);\n",
              "      fill: #174EA6;\n",
              "    }\n",
              "\n",
              "    [theme=dark] .colab-df-convert {\n",
              "      background-color: #3B4455;\n",
              "      fill: #D2E3FC;\n",
              "    }\n",
              "\n",
              "    [theme=dark] .colab-df-convert:hover {\n",
              "      background-color: #434B5C;\n",
              "      box-shadow: 0px 1px 3px 1px rgba(0, 0, 0, 0.15);\n",
              "      filter: drop-shadow(0px 1px 2px rgba(0, 0, 0, 0.3));\n",
              "      fill: #FFFFFF;\n",
              "    }\n",
              "  </style>\n",
              "\n",
              "      <script>\n",
              "        const buttonEl =\n",
              "          document.querySelector('#df-10288530-e466-49a5-928e-65ad9c7041ca button.colab-df-convert');\n",
              "        buttonEl.style.display =\n",
              "          google.colab.kernel.accessAllowed ? 'block' : 'none';\n",
              "\n",
              "        async function convertToInteractive(key) {\n",
              "          const element = document.querySelector('#df-10288530-e466-49a5-928e-65ad9c7041ca');\n",
              "          const dataTable =\n",
              "            await google.colab.kernel.invokeFunction('convertToInteractive',\n",
              "                                                     [key], {});\n",
              "          if (!dataTable) return;\n",
              "\n",
              "          const docLinkHtml = 'Like what you see? Visit the ' +\n",
              "            '<a target=\"_blank\" href=https://colab.research.google.com/notebooks/data_table.ipynb>data table notebook</a>'\n",
              "            + ' to learn more about interactive tables.';\n",
              "          element.innerHTML = '';\n",
              "          dataTable['output_type'] = 'display_data';\n",
              "          await google.colab.output.renderOutput(dataTable, element);\n",
              "          const docLink = document.createElement('div');\n",
              "          docLink.innerHTML = docLinkHtml;\n",
              "          element.appendChild(docLink);\n",
              "        }\n",
              "      </script>\n",
              "    </div>\n",
              "  </div>\n",
              "  "
            ]
          },
          "metadata": {},
          "execution_count": 7
        }
      ]
    },
    {
      "cell_type": "markdown",
      "source": [
        "**Enhancing Vectorizer with Lemmatizer**"
      ],
      "metadata": {
        "id": "IadBxRle_5oB"
      }
    },
    {
      "cell_type": "code",
      "source": [
        "import nltk\n",
        "nltk.download(['punkt','wordnet']) #lexical DB for english lang #punkt- tokenizer moel fir various lang\n",
        "nltk.download('omw-1.4')#open multilingual wordnet- 1.4- Wordnet for multiple languages"
      ],
      "metadata": {
        "colab": {
          "base_uri": "https://localhost:8080/"
        },
        "id": "G3znKwFtixHy",
        "outputId": "165c1afd-e705-4ae4-cc1b-2a351892e911"
      },
      "execution_count": 2,
      "outputs": [
        {
          "output_type": "stream",
          "name": "stderr",
          "text": [
            "[nltk_data] Downloading package punkt to /root/nltk_data...\n",
            "[nltk_data]   Package punkt is already up-to-date!\n",
            "[nltk_data] Downloading package wordnet to /root/nltk_data...\n",
            "[nltk_data]   Package wordnet is already up-to-date!\n",
            "[nltk_data] Downloading package omw-1.4 to /root/nltk_data...\n"
          ]
        },
        {
          "output_type": "execute_result",
          "data": {
            "text/plain": [
              "True"
            ]
          },
          "metadata": {},
          "execution_count": 2
        }
      ]
    },
    {
      "cell_type": "code",
      "source": [
        "#pukt- tokenizer\n",
        "#wordnet- lemmatizer\n",
        "from nltk.stem import WordNetLemmatizer\n",
        "lemm= WordNetLemmatizer()\n",
        "\n",
        "print(lemm.lemmatize(\"mouse\"))\n",
        "print(lemm.lemmatize(\"feet\"))\n",
        "print(lemm.lemmatize(\"caring\"))\n",
        "print(lemm.lemmatize(\"misery\"))\n",
        "print(lemm.lemmatize(\"houses\"))\n",
        "print(lemm.lemmatize(\"joking\"))"
      ],
      "metadata": {
        "colab": {
          "base_uri": "https://localhost:8080/"
        },
        "id": "0MMe22cqAD6z",
        "outputId": "6ac78d73-ef1f-4a61-b8f6-50d8b033d3dd"
      },
      "execution_count": 6,
      "outputs": [
        {
          "output_type": "stream",
          "name": "stdout",
          "text": [
            "mouse\n",
            "foot\n",
            "caring\n",
            "misery\n",
            "house\n",
            "joking\n"
          ]
        }
      ]
    },
    {
      "cell_type": "code",
      "source": [
        "sentence=\"My grandma is very caring. The striped bats are hanging on their feet\"\n",
        "\n",
        "#Tokenization\n",
        "li_words=nltk.word_tokenize(sentence)\n",
        "print(li_words)"
      ],
      "metadata": {
        "colab": {
          "base_uri": "https://localhost:8080/"
        },
        "id": "d7bqMbtNBOeE",
        "outputId": "17ea54e2-1956-47a6-97d8-7e10effbae39"
      },
      "execution_count": 39,
      "outputs": [
        {
          "output_type": "stream",
          "name": "stdout",
          "text": [
            "['My', 'grandma', 'is', 'very', 'caring', '.', 'The', 'striped', 'bats', 'are', 'hanging', 'on', 'their', 'feet']\n"
          ]
        }
      ]
    },
    {
      "cell_type": "code",
      "source": [
        "#lemmatization\n",
        "output=[lemm.lemmatize(w,get_wordnet_pos_tag(w)) for w in li_words]\n",
        "print(output)"
      ],
      "metadata": {
        "colab": {
          "base_uri": "https://localhost:8080/"
        },
        "id": "CRn2_Uq5BsJy",
        "outputId": "09e0db8c-057a-4d48-a3d2-4218ca1471e1"
      },
      "execution_count": 36,
      "outputs": [
        {
          "output_type": "stream",
          "name": "stdout",
          "text": [
            "P\n",
            "N\n",
            "V\n",
            "R\n",
            "V\n",
            ".\n",
            "D\n",
            "V\n",
            "N\n",
            "V\n",
            "V\n",
            "I\n",
            "P\n",
            "N\n",
            "['My', 'gandma', 'be', 'very', 'care', '.', 'The', 'strip', 'bat', 'be', 'hang', 'on', 'their', 'foot']\n"
          ]
        }
      ]
    },
    {
      "cell_type": "markdown",
      "source": [
        "**Provide POs(Part Of Speech ) tag as second arument to lemmatize()**"
      ],
      "metadata": {
        "id": "hloPoTQJDIhy"
      }
    },
    {
      "cell_type": "code",
      "source": [
        "print(lemm.lemmatize(\"caring\",\"v\"))"
      ],
      "metadata": {
        "colab": {
          "base_uri": "https://localhost:8080/"
        },
        "id": "uVXGodcSB6rg",
        "outputId": "60a1cac8-3c27-470a-f62c-a0ae5b447d93"
      },
      "execution_count": 12,
      "outputs": [
        {
          "output_type": "stream",
          "name": "stdout",
          "text": [
            "care\n"
          ]
        }
      ]
    },
    {
      "cell_type": "code",
      "source": [
        "print(lemm.lemmatize(\"stripes\",\"v\"))\n",
        "print(lemm.lemmatize(\"stripes\",\"n\"))"
      ],
      "metadata": {
        "colab": {
          "base_uri": "https://localhost:8080/"
        },
        "id": "zvh3ZEIUDVHi",
        "outputId": "9832ee1b-65a3-4870-96e4-67997f15829d"
      },
      "execution_count": 15,
      "outputs": [
        {
          "output_type": "stream",
          "name": "stdout",
          "text": [
            "strip\n",
            "stripe\n"
          ]
        }
      ]
    },
    {
      "cell_type": "code",
      "source": [
        "print(lemm.lemmatize(\"hanging\",\"v\"))\n",
        "print(lemm.lemmatize(\"are\",\"v\"))"
      ],
      "metadata": {
        "colab": {
          "base_uri": "https://localhost:8080/"
        },
        "id": "Pss2CHZPDZFk",
        "outputId": "33d54e37-8438-4131-b980-ec33b1a7783d"
      },
      "execution_count": 17,
      "outputs": [
        {
          "output_type": "stream",
          "name": "stdout",
          "text": [
            "hang\n",
            "be\n"
          ]
        }
      ]
    },
    {
      "cell_type": "markdown",
      "source": [
        "**WordNet lemmatizer with POS tag**"
      ],
      "metadata": {
        "id": "IhmWm7gqD3Kq"
      }
    },
    {
      "cell_type": "code",
      "source": [
        "nltk.download('averaged_perception_tagger')"
      ],
      "metadata": {
        "colab": {
          "base_uri": "https://localhost:8080/"
        },
        "id": "faVq6VaCEQ8f",
        "outputId": "9cc69369-6e35-44d2-cd63-6426a49c7862"
      },
      "execution_count": 18,
      "outputs": [
        {
          "output_type": "stream",
          "name": "stderr",
          "text": [
            "[nltk_data] Error loading averaged_perception_tagger: Package\n",
            "[nltk_data]     'averaged_perception_tagger' not found in index\n"
          ]
        },
        {
          "output_type": "execute_result",
          "data": {
            "text/plain": [
              "False"
            ]
          },
          "metadata": {},
          "execution_count": 18
        }
      ]
    },
    {
      "cell_type": "code",
      "source": [
        "nltk.download('averaged_perceptron_tagger')"
      ],
      "metadata": {
        "colab": {
          "base_uri": "https://localhost:8080/"
        },
        "id": "gRfGfdGNEaX6",
        "outputId": "a1fdd594-85ec-4e36-ede1-691e48438fc5"
      },
      "execution_count": 20,
      "outputs": [
        {
          "output_type": "stream",
          "name": "stderr",
          "text": [
            "[nltk_data] Downloading package averaged_perceptron_tagger to\n",
            "[nltk_data]     /root/nltk_data...\n",
            "[nltk_data]   Unzipping taggers/averaged_perceptron_tagger.zip.\n"
          ]
        },
        {
          "output_type": "execute_result",
          "data": {
            "text/plain": [
              "True"
            ]
          },
          "metadata": {},
          "execution_count": 20
        }
      ]
    },
    {
      "cell_type": "code",
      "source": [
        "\n",
        "def get_wordnet_pos_tag(word):\n",
        "  tag=nltk.pos_tag([word])\n",
        "  return tag\n",
        "\n",
        "get_wordnet_pos_tag(\"caring\")\n",
        "get_wordnet_pos_tag(\"beautiful\")\n",
        "get_wordnet_pos_tag(\"he\")\n",
        "get_wordnet_pos_tag(\"other\")"
      ],
      "metadata": {
        "colab": {
          "base_uri": "https://localhost:8080/"
        },
        "id": "1YRRk__TDhNJ",
        "outputId": "8d9a0dde-af05-490a-8e35-ac86985e1225"
      },
      "execution_count": 29,
      "outputs": [
        {
          "output_type": "execute_result",
          "data": {
            "text/plain": [
              "[('other', 'JJ')]"
            ]
          },
          "metadata": {},
          "execution_count": 29
        }
      ]
    },
    {
      "cell_type": "code",
      "source": [
        "\n",
        "\n",
        "from nltk.corpus.reader import wordnet\n",
        "def get_wordnet_pos_tag(word):\n",
        "  tag=nltk.pos_tag([word])[0][1][0]\n",
        "  tag_dict={\n",
        "      \"J\":wordnet.ADJ,\n",
        "      \"R\":wordnet.ADV,\n",
        "      \"N\":wordnet.NOUN,\n",
        "      \"V\":wordnet.VERB\n",
        "  }\n",
        "  print(tag)\n",
        "  return tag_dict.get(tag,wordnet.NOUN)#default tag-NOUN- when the word not classified as any predefined part of speech\n",
        "get_wordnet_pos_tag(\"caring\")\n",
        "# get_wordnet_pos_tag(\"beautiful\")\n",
        "# get_wordnet_pos_tag(\"he\")\n",
        "# get_wordnet_pos_tag(\"other\")"
      ],
      "metadata": {
        "colab": {
          "base_uri": "https://localhost:8080/",
          "height": 53
        },
        "id": "avKH4a_QEXMu",
        "outputId": "35abfdd2-ed80-4026-a99d-c34df514bf57"
      },
      "execution_count": 34,
      "outputs": [
        {
          "output_type": "stream",
          "name": "stdout",
          "text": [
            "V\n"
          ]
        },
        {
          "output_type": "execute_result",
          "data": {
            "text/plain": [
              "'v'"
            ],
            "application/vnd.google.colaboratory.intrinsic+json": {
              "type": "string"
            }
          },
          "metadata": {},
          "execution_count": 34
        }
      ]
    },
    {
      "cell_type": "code",
      "source": [
        "lemm=WordNetLemmatizer()\n",
        "word=\"brave\"\n",
        "print(lemm.lemmatize(word,get_wordnet_pos_tag(word)))"
      ],
      "metadata": {
        "colab": {
          "base_uri": "https://localhost:8080/"
        },
        "id": "yO-Wl9gOFh5Q",
        "outputId": "b5d1711b-6979-4b63-9c89-bd8f7c717aab"
      },
      "execution_count": 35,
      "outputs": [
        {
          "output_type": "stream",
          "name": "stdout",
          "text": [
            "N\n",
            "brave\n"
          ]
        }
      ]
    },
    {
      "cell_type": "markdown",
      "source": [
        "**Spacy Lemmatizer**"
      ],
      "metadata": {
        "id": "93_KM9kZII3e"
      }
    },
    {
      "cell_type": "code",
      "source": [
        "import spacy\n",
        "sp_nlp=spacy.load('en_core_web_sm')#updated model name\n",
        "sentence=\"My grandma is very caring. The striped bats are hanging on their feet\"\n",
        "\n",
        "#parse he sentence using the lang model-'en_core_web_\n",
        "doc=sp_nlp(sentence)#various nlp tasks- tokenization happens\n",
        "print(doc)\n",
        "\n",
        "#extract lemma(base form) for each token in sentence\n",
        "output=[token.lemma_ for token in doc]\n",
        "print(output)"
      ],
      "metadata": {
        "colab": {
          "base_uri": "https://localhost:8080/"
        },
        "id": "TqmzL9OvHLlF",
        "outputId": "f8914afa-6ec3-4002-c27c-e936bd1b93ab"
      },
      "execution_count": 40,
      "outputs": [
        {
          "output_type": "stream",
          "name": "stdout",
          "text": [
            "My grandma is very caring. The striped bats are hanging on their feet\n",
            "['my', 'grandma', 'be', 'very', 'caring', '.', 'the', 'stripe', 'bat', 'be', 'hang', 'on', 'their', 'foot']\n"
          ]
        }
      ]
    },
    {
      "cell_type": "code",
      "source": [],
      "metadata": {
        "id": "uAyUIoi4IwZu"
      },
      "execution_count": null,
      "outputs": []
    }
  ]
}