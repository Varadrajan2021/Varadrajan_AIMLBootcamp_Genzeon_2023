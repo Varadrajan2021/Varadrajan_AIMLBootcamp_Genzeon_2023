{
 "cells": [
  {
   "cell_type": "code",
   "execution_count": 4,
   "id": "91cd1bfd",
   "metadata": {},
   "outputs": [
    {
     "name": "stdout",
     "output_type": "stream",
     "text": [
      "el\n"
     ]
    }
   ],
   "source": [
    "#tuples\n",
    "tup0=(1,2,3,4)\n",
    "tup1=(\"hi\",1.3,2,4)\n",
    "tup2=(\"hello\",tup0,tup1)\n",
    "\n",
    "#indexing\n",
    "\n",
    "tup2[1]\n",
    "\n",
    "#slicing\n",
    "print(tup2[0][1:3])"
   ]
  },
  {
   "cell_type": "code",
   "execution_count": 2,
   "id": "1d9ff21d",
   "metadata": {},
   "outputs": [
    {
     "name": "stdout",
     "output_type": "stream",
     "text": [
      "(1, 2, 3, 4)\n"
     ]
    }
   ],
   "source": [
    "print(tup2[1])"
   ]
  },
  {
   "cell_type": "code",
   "execution_count": 3,
   "id": "32f65057",
   "metadata": {},
   "outputs": [
    {
     "name": "stdout",
     "output_type": "stream",
     "text": [
      "hi\n"
     ]
    }
   ],
   "source": [
    "print(tup2[2][0])"
   ]
  },
  {
   "cell_type": "code",
   "execution_count": 5,
   "id": "2e77224a",
   "metadata": {},
   "outputs": [
    {
     "data": {
      "text/plain": [
       "1"
      ]
     },
     "execution_count": 5,
     "metadata": {},
     "output_type": "execute_result"
    }
   ],
   "source": [
    "#tuple methods\n",
    "\n",
    "tup0.count(1)"
   ]
  },
  {
   "cell_type": "code",
   "execution_count": 6,
   "id": "da661671",
   "metadata": {},
   "outputs": [
    {
     "data": {
      "text/plain": [
       "1"
      ]
     },
     "execution_count": 6,
     "metadata": {},
     "output_type": "execute_result"
    }
   ],
   "source": [
    "tup0.index(2)"
   ]
  },
  {
   "cell_type": "code",
   "execution_count": 9,
   "id": "55572b16",
   "metadata": {},
   "outputs": [
    {
     "ename": "TypeError",
     "evalue": "'>' not supported between instances of 'tuple' and 'str'",
     "output_type": "error",
     "traceback": [
      "\u001b[1;31m---------------------------------------------------------------------------\u001b[0m",
      "\u001b[1;31mTypeError\u001b[0m                                 Traceback (most recent call last)",
      "Cell \u001b[1;32mIn[9], line 1\u001b[0m\n\u001b[1;32m----> 1\u001b[0m \u001b[38;5;28mprint\u001b[39m(\u001b[38;5;28;43mmax\u001b[39;49m\u001b[43m(\u001b[49m\u001b[43mtup2\u001b[49m\u001b[43m)\u001b[49m)\n\u001b[0;32m      2\u001b[0m \u001b[38;5;28mprint\u001b[39m(\u001b[38;5;28mmin\u001b[39m(tup2))\n\u001b[0;32m      3\u001b[0m \u001b[38;5;28mprint\u001b[39m(\u001b[38;5;28mlen\u001b[39m(tup2))\n",
      "\u001b[1;31mTypeError\u001b[0m: '>' not supported between instances of 'tuple' and 'str'"
     ]
    }
   ],
   "source": [
    "\n",
    "print(max(tup2))\n",
    "print(min(tup2))\n",
    "print(len(tup2))"
   ]
  },
  {
   "cell_type": "code",
   "execution_count": 12,
   "id": "1f6c554f",
   "metadata": {},
   "outputs": [
    {
     "name": "stdout",
     "output_type": "stream",
     "text": [
      "{1, 3, 5, 7}\n",
      "{1, 2, 4, 5}\n",
      "{1, 2, 4, 5}\n",
      "{1, 2, 4, 5}\n"
     ]
    }
   ],
   "source": [
    "#set\n",
    "s2={1,2,3,\"hi\",(1,2,3,4)}\n",
    "\n",
    "l=[1,3,5,7]\n",
    "\n",
    "s3= set(l)\n",
    "\n",
    "print(s3)\n",
    "\n",
    "s2.add(6)\n",
    "\n",
    "s2.update([2,3,4])\n",
    "\n",
    "s2.discard(4)\n",
    "\n",
    "s2.remove(2)\n",
    "\n",
    "\n",
    "#set operations\n",
    "\n",
    "a={1,2}\n",
    "b={4,5}\n",
    "print(a|b)\n",
    "print(a.union(b))\n",
    "print(b.union(a))\n",
    "\n",
    "\n"
   ]
  },
  {
   "cell_type": "code",
   "execution_count": 13,
   "id": "64d9e9e1",
   "metadata": {},
   "outputs": [],
   "source": [
    "#intersection\n",
    "#union\n",
    "#difference"
   ]
  },
  {
   "cell_type": "code",
   "execution_count": 15,
   "id": "b4214f2d",
   "metadata": {},
   "outputs": [],
   "source": [
    "#dictionary\n",
    "dic={'name':'srk','address':'Mumbai'}"
   ]
  },
  {
   "cell_type": "code",
   "execution_count": 16,
   "id": "f0a367ec",
   "metadata": {},
   "outputs": [
    {
     "name": "stdout",
     "output_type": "stream",
     "text": [
      "srk\n",
      "dict_keys(['name', 'address'])\n",
      "dict_values(['srk', 'Mumbai'])\n",
      "srk\n"
     ]
    }
   ],
   "source": [
    "print(dic['name'])\n",
    "print(dic.keys())\n",
    "print(dic.values())\n",
    "print(dic.get('name'))"
   ]
  },
  {
   "cell_type": "code",
   "execution_count": 18,
   "id": "49114ca8",
   "metadata": {},
   "outputs": [
    {
     "name": "stdout",
     "output_type": "stream",
     "text": [
      "enter a numbetr4\n",
      "4\n"
     ]
    }
   ],
   "source": [
    "#scanf statement to take int only\n",
    "a=int(input(\"enter a numbetr\"))\n",
    "print(a)\n",
    "\n",
    "#by default it take strings\n",
    "b=input(\"enter a string\")\n",
    "print(b)"
   ]
  },
  {
   "cell_type": "code",
   "execution_count": 21,
   "id": "9274d177",
   "metadata": {},
   "outputs": [
    {
     "name": "stdout",
     "output_type": "stream",
     "text": [
      "trainees are learning python programming at Genzeon\n",
      "trainees are learning python programming at Genzeon\n"
     ]
    }
   ],
   "source": [
    "#string formats\n",
    "name=\"Genzeon\"\n",
    "language=\"python\"\n",
    "c=\"trainees\"\n",
    "\n",
    "print(c,\"are learning\",language,\"programming at\",name)\n",
    "\n",
    "\n",
    "#format\n",
    "print(\"{1} are learning {0} programming at {2}\".format(language,c,name))"
   ]
  },
  {
   "cell_type": "code",
   "execution_count": 23,
   "id": "de303943",
   "metadata": {},
   "outputs": [
    {
     "name": "stdout",
     "output_type": "stream",
     "text": [
      "trainees are learning python programmimg at Genzeon\n",
      "trainees are learning python programming at Genzeon\n"
     ]
    }
   ],
   "source": [
    "#placeholder\n",
    "print(\"%s are learning %s programmimg at %s\"%(c,language,name))\n",
    "\n",
    "#rawstring\n",
    "print(f\"{c} are learning {language} programming at {name}\")"
   ]
  },
  {
   "cell_type": "code",
   "execution_count": 24,
   "id": "64502e34",
   "metadata": {},
   "outputs": [
    {
     "name": "stdout",
     "output_type": "stream",
     "text": [
      "true\n",
      "10\n"
     ]
    }
   ],
   "source": [
    "#Decision Making\n",
    "\n",
    "#if statement\n",
    "var=10\n",
    "if var>0:\n",
    "    print(\"true\")\n",
    "    print(var)"
   ]
  },
  {
   "cell_type": "code",
   "execution_count": 26,
   "id": "5bdb2322",
   "metadata": {},
   "outputs": [
    {
     "name": "stdout",
     "output_type": "stream",
     "text": [
      "true\n"
     ]
    }
   ],
   "source": [
    "#ifelse\n",
    "var1=-1\n",
    "if var>0:\n",
    "    print(\"true\")\n",
    "else:\n",
    "    print(\"false\")"
   ]
  },
  {
   "cell_type": "code",
   "execution_count": 36,
   "id": "1fca7355",
   "metadata": {},
   "outputs": [
    {
     "name": "stdout",
     "output_type": "stream",
     "text": [
      "Enter Your Age45\n",
      "Enjoy\n"
     ]
    }
   ],
   "source": [
    "#nested if\n",
    "age=int(input(\"Enter Your Age\"))\n",
    "if(age<=5):\n",
    "    print(\"HI child\")\n",
    "else:\n",
    "    if(age>5 and age<=18):\n",
    "        print(\"Hey Welcome Aboard\")\n",
    "    else:        \n",
    "        if(age>18 and age<=60):\n",
    "            print(\"Enjoy\")\n",
    "        else:\n",
    "            print(\"Enjoy n take rest\")\n",
    "    \n",
    "    "
   ]
  },
  {
   "cell_type": "code",
   "execution_count": 43,
   "id": "b8a15bf2",
   "metadata": {},
   "outputs": [
    {
     "name": "stdout",
     "output_type": "stream",
     "text": [
      "55\n"
     ]
    }
   ],
   "source": [
    "#Loop\n",
    "#for loop\n",
    "ln=[1,2,3,4,5,6,7,8,9,10]\n",
    "sum=0\n",
    "for val in ln:\n",
    "    sum=sum+val\n",
    "print(sum)    "
   ]
  },
  {
   "cell_type": "code",
   "execution_count": 40,
   "id": "23e1ea5f",
   "metadata": {},
   "outputs": [
    {
     "name": "stdout",
     "output_type": "stream",
     "text": [
      "0\n",
      "1\n",
      "2\n",
      "3\n",
      "4\n",
      "5\n",
      "6\n",
      "7\n",
      "8\n",
      "9\n",
      "10\n"
     ]
    }
   ],
   "source": [
    "for val in range(len(ln)):\n",
    "    print(val)"
   ]
  },
  {
   "cell_type": "code",
   "execution_count": 52,
   "id": "727e3fd7",
   "metadata": {},
   "outputs": [
    {
     "name": "stdout",
     "output_type": "stream",
     "text": [
      "1*1= 1\n",
      "1*2= 2\n",
      "1*3= 3\n",
      "1*4= 4\n",
      "1*5= 5\n",
      "1*6= 6\n",
      "1*7= 7\n",
      "1*8= 8\n",
      "1*9= 9\n",
      "1*10= 10\n",
      "2*1= 2\n",
      "2*2= 4\n",
      "2*3= 6\n",
      "2*4= 8\n",
      "2*5= 10\n",
      "2*6= 12\n",
      "2*7= 14\n",
      "2*8= 16\n",
      "2*9= 18\n",
      "2*10= 20\n",
      "3*1= 3\n",
      "3*2= 6\n",
      "3*3= 9\n",
      "3*4= 12\n",
      "3*5= 15\n",
      "3*6= 18\n",
      "3*7= 21\n",
      "3*8= 24\n",
      "3*9= 27\n",
      "3*10= 30\n",
      "4*1= 4\n",
      "4*2= 8\n",
      "4*3= 12\n",
      "4*4= 16\n",
      "4*5= 20\n",
      "4*6= 24\n",
      "4*7= 28\n",
      "4*8= 32\n",
      "4*9= 36\n",
      "4*10= 40\n",
      "5*1= 5\n",
      "5*2= 10\n",
      "5*3= 15\n",
      "5*4= 20\n",
      "5*5= 25\n",
      "5*6= 30\n",
      "5*7= 35\n",
      "5*8= 40\n",
      "5*9= 45\n",
      "5*10= 50\n",
      "6*1= 6\n",
      "6*2= 12\n",
      "6*3= 18\n",
      "6*4= 24\n",
      "6*5= 30\n",
      "6*6= 36\n",
      "6*7= 42\n",
      "6*8= 48\n",
      "6*9= 54\n",
      "6*10= 60\n",
      "7*1= 7\n",
      "7*2= 14\n",
      "7*3= 21\n",
      "7*4= 28\n",
      "7*5= 35\n",
      "7*6= 42\n",
      "7*7= 49\n",
      "7*8= 56\n",
      "7*9= 63\n",
      "7*10= 70\n",
      "8*1= 8\n",
      "8*2= 16\n",
      "8*3= 24\n",
      "8*4= 32\n",
      "8*5= 40\n",
      "8*6= 48\n",
      "8*7= 56\n",
      "8*8= 64\n",
      "8*9= 72\n",
      "8*10= 80\n",
      "9*1= 9\n",
      "9*2= 18\n",
      "9*3= 27\n",
      "9*4= 36\n",
      "9*5= 45\n",
      "9*6= 54\n",
      "9*7= 63\n",
      "9*8= 72\n",
      "9*9= 81\n",
      "9*10= 90\n",
      "10*1= 10\n",
      "10*2= 20\n",
      "10*3= 30\n",
      "10*4= 40\n",
      "10*5= 50\n",
      "10*6= 60\n",
      "10*7= 70\n",
      "10*8= 80\n",
      "10*9= 90\n",
      "10*10= 100\n"
     ]
    }
   ],
   "source": [
    "for x in ln:\n",
    "    for y in ln:\n",
    "        print(f\"{x}*{y}=\",x*y)"
   ]
  },
  {
   "cell_type": "code",
   "execution_count": 62,
   "id": "9d054026",
   "metadata": {},
   "outputs": [
    {
     "name": "stdout",
     "output_type": "stream",
     "text": [
      "enter the list of tables you wanna write4\n",
      "Table1\n",
      "1*1=1\n",
      "1*2=2\n",
      "1*3=3\n",
      "1*4=4\n",
      "1*5=5\n",
      "1*6=6\n",
      "1*7=7\n",
      "1*8=8\n",
      "1*9=9\n",
      "1*10=10\n",
      "Table2\n",
      "2*1=2\n",
      "2*2=4\n",
      "2*3=6\n",
      "2*4=8\n",
      "2*5=10\n",
      "2*6=12\n",
      "2*7=14\n",
      "2*8=16\n",
      "2*9=18\n",
      "2*10=20\n",
      "Table3\n",
      "3*1=3\n",
      "3*2=6\n",
      "3*3=9\n",
      "3*4=12\n",
      "3*5=15\n",
      "3*6=18\n",
      "3*7=21\n",
      "3*8=24\n",
      "3*9=27\n",
      "3*10=30\n",
      "Table4\n",
      "4*1=4\n",
      "4*2=8\n",
      "4*3=12\n",
      "4*4=16\n",
      "4*5=20\n",
      "4*6=24\n",
      "4*7=28\n",
      "4*8=32\n",
      "4*9=36\n",
      "4*10=40\n"
     ]
    }
   ],
   "source": [
    "num=int(input(\"enter the list of tables you wanna write\"))\n",
    "i=1\n",
    "while(i<=num):\n",
    "    print(f\"Table{i}\")\n",
    "    j=1\n",
    "    while(j<11):\n",
    "        print(f\"{i}*{j}={i*j}\")\n",
    "        j=j+1\n",
    "    i=i+1         "
   ]
  },
  {
   "cell_type": "code",
   "execution_count": null,
   "id": "640a948c",
   "metadata": {},
   "outputs": [],
   "source": [
    "#Control Statemenbts\n",
    "\n",
    "#break\n",
    "for l in \"python\":\n",
    "    if l==\"h\":\n",
    "        break\n",
    "    print(l)    "
   ]
  },
  {
   "cell_type": "code",
   "execution_count": 55,
   "id": "197278e0",
   "metadata": {},
   "outputs": [
    {
     "name": "stdout",
     "output_type": "stream",
     "text": [
      "current values: 10\n",
      "current values: 9\n",
      "current values: 8\n",
      "current values: 7\n",
      "current values: 6\n"
     ]
    }
   ],
   "source": [
    "int1=10\n",
    "while(int1>0):\n",
    "    print(\"current values:\",int1)\n",
    "    int1=int1-1\n",
    "    if int1==5:\n",
    "        break\n",
    "    "
   ]
  },
  {
   "cell_type": "code",
   "execution_count": 59,
   "id": "7cc03a4a",
   "metadata": {},
   "outputs": [
    {
     "name": "stdout",
     "output_type": "stream",
     "text": [
      "9\n",
      "8\n",
      "7\n",
      "6\n",
      "4\n",
      "3\n",
      "2\n",
      "1\n",
      "0\n"
     ]
    }
   ],
   "source": [
    "#continue\n",
    "int1=10\n",
    "while(int1>0):\n",
    "    #print(\"current values:\",int1)\n",
    "    int1=int1-1\n",
    "    if int1==5:\n",
    "        continue\n",
    "    print(int1)    "
   ]
  },
  {
   "cell_type": "code",
   "execution_count": 58,
   "id": "bcb13938",
   "metadata": {},
   "outputs": [
    {
     "name": "stdout",
     "output_type": "stream",
     "text": [
      "p\n",
      "y\n",
      "t\n",
      "pass block\n",
      "h\n",
      "o\n",
      "n\n"
     ]
    }
   ],
   "source": [
    "#pass\n",
    "for l in \"python\":\n",
    "    if l==\"h\":\n",
    "        pass\n",
    "        print(\"pass block\")\n",
    "    print(l)    \n"
   ]
  },
  {
   "cell_type": "code",
   "execution_count": 63,
   "id": "5900c9f4",
   "metadata": {},
   "outputs": [
    {
     "name": "stdout",
     "output_type": "stream",
     "text": [
      "A\n",
      "B\n",
      "C\n",
      "D\n",
      "E\n",
      "F\n",
      "G\n",
      "H\n",
      "I\n",
      "J\n",
      "K\n",
      "L\n",
      "M\n",
      "N\n",
      "O\n",
      "P\n",
      "Q\n",
      "R\n",
      "S\n",
      "T\n",
      "U\n",
      "V\n",
      "W\n",
      "X\n",
      "Y\n",
      "Z\n"
     ]
    }
   ],
   "source": [
    "for i in range(65,91):\n",
    "    print(chr(i))"
   ]
  },
  {
   "cell_type": "code",
   "execution_count": null,
   "id": "a51987a3",
   "metadata": {},
   "outputs": [],
   "source": []
  }
 ],
 "metadata": {
  "kernelspec": {
   "display_name": "Python 3 (ipykernel)",
   "language": "python",
   "name": "python3"
  },
  "language_info": {
   "codemirror_mode": {
    "name": "ipython",
    "version": 3
   },
   "file_extension": ".py",
   "mimetype": "text/x-python",
   "name": "python",
   "nbconvert_exporter": "python",
   "pygments_lexer": "ipython3",
   "version": "3.10.9"
  }
 },
 "nbformat": 4,
 "nbformat_minor": 5
}
