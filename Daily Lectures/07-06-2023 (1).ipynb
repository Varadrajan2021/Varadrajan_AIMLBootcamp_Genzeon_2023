{
 "cells": [
  {
   "cell_type": "code",
   "execution_count": 2,
   "id": "c346648d",
   "metadata": {},
   "outputs": [
    {
     "name": "stdout",
     "output_type": "stream",
     "text": [
      "Hello \tVarad\n"
     ]
    }
   ],
   "source": [
    "#functions\n",
    "def greet(name):\n",
    "    '''this function greets a person'''\n",
    "    print(\"Hello \\t\"+name)\n",
    "    \n",
    "greet(\"Varad\")    "
   ]
  },
  {
   "cell_type": "code",
   "execution_count": 5,
   "id": "31baa96f",
   "metadata": {},
   "outputs": [
    {
     "name": "stdout",
     "output_type": "stream",
     "text": [
      "6\n",
      "12\n",
      "6\n"
     ]
    }
   ],
   "source": [
    "#default\n",
    "def A(a,b=1,c=2):\n",
    "    return a+b+c\n",
    "print(A(3))\n",
    "print(A(4,4,4))\n",
    "print(A(2,2))"
   ]
  },
  {
   "cell_type": "code",
   "execution_count": 6,
   "id": "d6c3fea9",
   "metadata": {},
   "outputs": [
    {
     "name": "stdout",
     "output_type": "stream",
     "text": [
      "7\n",
      "6\n"
     ]
    }
   ],
   "source": [
    "#keyword\n",
    "def A(a,b=1,c=2):\n",
    "    return a+b+c\n",
    "print(A(a=2,b=3))\n",
    "print(A(c=3,b=2,a=1))"
   ]
  },
  {
   "cell_type": "code",
   "execution_count": 8,
   "id": "d19c61bb",
   "metadata": {},
   "outputs": [
    {
     "name": "stdout",
     "output_type": "stream",
     "text": [
      "60\n"
     ]
    }
   ],
   "source": [
    "#positional\n",
    "def add(a,b,c):\n",
    "    return a+b+c\n",
    "print(add(10,20,30))\n",
    "\n"
   ]
  },
  {
   "cell_type": "code",
   "execution_count": 10,
   "id": "c90e4a32",
   "metadata": {},
   "outputs": [
    {
     "name": "stdout",
     "output_type": "stream",
     "text": [
      "{'Apples': 10, 'Bananas': 20, 'Chiku': 30}\n",
      "10\n"
     ]
    }
   ],
   "source": [
    "#arbitary keyword\n",
    "def key_arg(**kwargs):\n",
    "    return kwargs\n",
    "\n",
    "my_dict=key_arg(Apples=10,Bananas=20,Chiku=30)\n",
    "print(my_dict)\n",
    "print(my_dict['Apples'])"
   ]
  },
  {
   "cell_type": "code",
   "execution_count": 11,
   "id": "db494327",
   "metadata": {},
   "outputs": [
    {
     "name": "stdout",
     "output_type": "stream",
     "text": [
      "(1, 2, 3, 4, 5, 6)\n",
      "21\n"
     ]
    }
   ],
   "source": [
    "#arbitary positional\n",
    "def add_num(*n):\n",
    "    print(n)\n",
    "    print(sum(n))\n",
    "    \n",
    "add_num(1,2,3,4,5,6)    "
   ]
  },
  {
   "cell_type": "code",
   "execution_count": 13,
   "id": "bc5d399e",
   "metadata": {},
   "outputs": [
    {
     "name": "stdout",
     "output_type": "stream",
     "text": [
      "HI\n",
      "hi\n"
     ]
    }
   ],
   "source": [
    "#higher order functions \n",
    "def shout(text):\n",
    "    return text.upper()\n",
    "def whisper(text):\n",
    "    return text.lower()\n",
    "def explain(func):\n",
    "    greet=func(\"Hi\")\n",
    "    print(greet)\n",
    "    \n",
    "explain(shout)\n",
    "explain(whisper)"
   ]
  },
  {
   "cell_type": "code",
   "execution_count": 16,
   "id": "3d34f4ac",
   "metadata": {},
   "outputs": [
    {
     "name": "stdout",
     "output_type": "stream",
     "text": [
      "5\n",
      "5\n",
      "8\n"
     ]
    }
   ],
   "source": [
    "#lambda\n",
    "\n",
    "def incr(x):\n",
    "    x=x+1\n",
    "    return x\n",
    "print(incr(4))\n",
    "\n",
    "print((lambda x:x+1)(4))\n",
    "print((lambda x,y:x**y)(2,3))\n",
    "\n",
    "#lambda is not applicable for list--->So use 'map' there"
   ]
  },
  {
   "cell_type": "code",
   "execution_count": 26,
   "id": "4a1c5379",
   "metadata": {},
   "outputs": [
    {
     "ename": "TypeError",
     "evalue": "'list' object is not callable",
     "output_type": "error",
     "traceback": [
      "\u001b[1;31m---------------------------------------------------------------------------\u001b[0m",
      "\u001b[1;31mTypeError\u001b[0m                                 Traceback (most recent call last)",
      "Cell \u001b[1;32mIn[26], line 8\u001b[0m\n\u001b[0;32m      3\u001b[0m li\u001b[38;5;241m=\u001b[39m[\u001b[38;5;241m1\u001b[39m,\u001b[38;5;241m2\u001b[39m,\u001b[38;5;241m3\u001b[39m,\u001b[38;5;241m4\u001b[39m,\u001b[38;5;241m5\u001b[39m]\n\u001b[0;32m      4\u001b[0m \u001b[38;5;66;03m#res_list=list(map(inc,list))\u001b[39;00m\n\u001b[0;32m      5\u001b[0m \u001b[38;5;66;03m#print(res_list)\u001b[39;00m\n\u001b[1;32m----> 8\u001b[0m \u001b[38;5;28mprint\u001b[39m(\u001b[38;5;28;43mlist\u001b[39;49m\u001b[43m(\u001b[49m\u001b[38;5;28;43mmap\u001b[39;49m\u001b[43m(\u001b[49m\u001b[38;5;28;43;01mlambda\u001b[39;49;00m\u001b[43m \u001b[49m\u001b[43mx\u001b[49m\u001b[43m:\u001b[49m\u001b[43mx\u001b[49m\u001b[38;5;241;43m+\u001b[39;49m\u001b[38;5;241;43m2\u001b[39;49m\u001b[43m,\u001b[49m\u001b[43mli\u001b[49m\u001b[43m)\u001b[49m\u001b[43m)\u001b[49m)\n",
      "\u001b[1;31mTypeError\u001b[0m: 'list' object is not callable"
     ]
    }
   ],
   "source": [
    "#list() is working in googlecollab but not here\n",
    "\n",
    "def inc(num):\n",
    "    return num+2\n",
    "li=[1,2,3,4,5]\n",
    "#res_list=list(map(inc,list))\n",
    "#print(res_list)\n",
    "\n",
    "\n",
    "print(list(map(lambda x:x+2,li)))"
   ]
  },
  {
   "cell_type": "code",
   "execution_count": 27,
   "id": "602e1429",
   "metadata": {},
   "outputs": [
    {
     "data": {
      "text/plain": [
       "'the num 6 is even'"
      ]
     },
     "execution_count": 27,
     "metadata": {},
     "output_type": "execute_result"
    }
   ],
   "source": [
    "def eor(num):\n",
    "    if num%2==0:\n",
    "        return \"the num {} is even\".format(num)\n",
    "    else:\n",
    "        return \"the num is {} id odd\".format(num)\n",
    "eor(6)    "
   ]
  },
  {
   "cell_type": "code",
   "execution_count": 28,
   "id": "8d14449b",
   "metadata": {},
   "outputs": [
    {
     "ename": "TypeError",
     "evalue": "'list' object is not callable",
     "output_type": "error",
     "traceback": [
      "\u001b[1;31m---------------------------------------------------------------------------\u001b[0m",
      "\u001b[1;31mTypeError\u001b[0m                                 Traceback (most recent call last)",
      "Cell \u001b[1;32mIn[28], line 2\u001b[0m\n\u001b[0;32m      1\u001b[0m l\u001b[38;5;241m=\u001b[39m[\u001b[38;5;241m1\u001b[39m,\u001b[38;5;241m2\u001b[39m,\u001b[38;5;241m3\u001b[39m,\u001b[38;5;241m4\u001b[39m]\n\u001b[1;32m----> 2\u001b[0m \u001b[38;5;28;43mlist\u001b[39;49m\u001b[43m(\u001b[49m\u001b[38;5;28;43mmap\u001b[39;49m\u001b[43m(\u001b[49m\u001b[43meor\u001b[49m\u001b[43m,\u001b[49m\u001b[43ml\u001b[49m\u001b[43m)\u001b[49m\u001b[43m)\u001b[49m\n",
      "\u001b[1;31mTypeError\u001b[0m: 'list' object is not callable"
     ]
    }
   ],
   "source": [
    "l=[1,2,3,4]\n",
    "list(map(eor,l))"
   ]
  },
  {
   "cell_type": "code",
   "execution_count": 29,
   "id": "5a9d7529",
   "metadata": {},
   "outputs": [
    {
     "ename": "TypeError",
     "evalue": "'list' object is not callable",
     "output_type": "error",
     "traceback": [
      "\u001b[1;31m---------------------------------------------------------------------------\u001b[0m",
      "\u001b[1;31mTypeError\u001b[0m                                 Traceback (most recent call last)",
      "Cell \u001b[1;32mIn[29], line 2\u001b[0m\n\u001b[0;32m      1\u001b[0m l4\u001b[38;5;241m=\u001b[39m[\u001b[38;5;124m'\u001b[39m\u001b[38;5;124mapples\u001b[39m\u001b[38;5;124m'\u001b[39m,\u001b[38;5;124m'\u001b[39m\u001b[38;5;124mbananas\u001b[39m\u001b[38;5;124m'\u001b[39m,\u001b[38;5;124m'\u001b[39m\u001b[38;5;124mchikus\u001b[39m\u001b[38;5;124m'\u001b[39m]\n\u001b[1;32m----> 2\u001b[0m r\u001b[38;5;241m=\u001b[39m\u001b[38;5;28;43mlist\u001b[39;49m\u001b[43m(\u001b[49m\u001b[38;5;28;43mmap\u001b[39;49m\u001b[43m(\u001b[49m\u001b[38;5;28;43;01mlambda\u001b[39;49;00m\u001b[43m \u001b[49m\u001b[43mx\u001b[49m\u001b[43m:\u001b[49m\u001b[43mx\u001b[49m\u001b[38;5;241;43m.\u001b[39;49m\u001b[43mcapitalize\u001b[49m\u001b[43m(\u001b[49m\u001b[43m)\u001b[49m\u001b[43m,\u001b[49m\u001b[43ml4\u001b[49m\u001b[43m)\u001b[49m\u001b[43m)\u001b[49m\n\u001b[0;32m      3\u001b[0m \u001b[38;5;28mprint\u001b[39m(r)\n",
      "\u001b[1;31mTypeError\u001b[0m: 'list' object is not callable"
     ]
    }
   ],
   "source": [
    "l4=['apples','bananas','chikus']\n",
    "r=list(map(lambda x:x.capitalize(),l4))\n",
    "print(r)"
   ]
  },
  {
   "cell_type": "code",
   "execution_count": 30,
   "id": "931171a8",
   "metadata": {},
   "outputs": [
    {
     "ename": "TypeError",
     "evalue": "'list' object is not callable",
     "output_type": "error",
     "traceback": [
      "\u001b[1;31m---------------------------------------------------------------------------\u001b[0m",
      "\u001b[1;31mTypeError\u001b[0m                                 Traceback (most recent call last)",
      "Cell \u001b[1;32mIn[30], line 3\u001b[0m\n\u001b[0;32m      1\u001b[0m \u001b[38;5;66;03m#filter\u001b[39;00m\n\u001b[0;32m      2\u001b[0m l6\u001b[38;5;241m=\u001b[39m[\u001b[38;5;241m5\u001b[39m,\u001b[38;5;241m6\u001b[39m,\u001b[38;5;241m7\u001b[39m,\u001b[38;5;241m8\u001b[39m,\u001b[38;5;241m9\u001b[39m,\u001b[38;5;241m45\u001b[39m,\u001b[38;5;241m67\u001b[39m,\u001b[38;5;241m89\u001b[39m]\n\u001b[1;32m----> 3\u001b[0m temp\u001b[38;5;241m=\u001b[39m\u001b[38;5;28;43mlist\u001b[39;49m\u001b[43m(\u001b[49m\u001b[38;5;28;43mfilter\u001b[39;49m\u001b[43m(\u001b[49m\u001b[38;5;28;43;01mlambda\u001b[39;49;00m\u001b[43m \u001b[49m\u001b[43mx\u001b[49m\u001b[43m:\u001b[49m\u001b[43mx\u001b[49m\u001b[38;5;241;43m%\u001b[39;49m\u001b[38;5;241;43m2\u001b[39;49m\u001b[38;5;241;43m==\u001b[39;49m\u001b[38;5;241;43m0\u001b[39;49m\u001b[43m,\u001b[49m\u001b[43ml6\u001b[49m\u001b[43m)\u001b[49m\u001b[43m)\u001b[49m\n\u001b[0;32m      4\u001b[0m \u001b[38;5;28mprint\u001b[39m(temp)\n",
      "\u001b[1;31mTypeError\u001b[0m: 'list' object is not callable"
     ]
    }
   ],
   "source": [
    "#filter\n",
    "l6=[5,6,7,8,9,45,67,89]\n",
    "temp=list(filter(lambda x:x%2==0,l6))\n",
    "print(temp)"
   ]
  },
  {
   "cell_type": "code",
   "execution_count": 68,
   "id": "e5167d7f",
   "metadata": {},
   "outputs": [
    {
     "ename": "TypeError",
     "evalue": "'list' object is not callable",
     "output_type": "error",
     "traceback": [
      "\u001b[1;31m---------------------------------------------------------------------------\u001b[0m",
      "\u001b[1;31mTypeError\u001b[0m                                 Traceback (most recent call last)",
      "Cell \u001b[1;32mIn[68], line 5\u001b[0m\n\u001b[0;32m      3\u001b[0m         \u001b[38;5;28;01mreturn\u001b[39;00m n\n\u001b[0;32m      4\u001b[0m my1\u001b[38;5;241m=\u001b[39m[\u001b[38;5;241m7\u001b[39m,\u001b[38;5;241m4\u001b[39m,\u001b[38;5;241m8\u001b[39m,\u001b[38;5;241m6\u001b[39m,\u001b[38;5;241m9\u001b[39m,\u001b[38;5;241m2\u001b[39m,\u001b[38;5;241m4\u001b[39m]\n\u001b[1;32m----> 5\u001b[0m \u001b[38;5;28mprint\u001b[39m(\u001b[38;5;28;43mlist\u001b[39;49m\u001b[43m(\u001b[49m\u001b[38;5;28;43mfilter\u001b[39;49m\u001b[43m(\u001b[49m\u001b[43modd_num\u001b[49m\u001b[43m,\u001b[49m\u001b[43mmy1\u001b[49m\u001b[43m)\u001b[49m\u001b[43m)\u001b[49m)\n",
      "\u001b[1;31mTypeError\u001b[0m: 'list' object is not callable"
     ]
    }
   ],
   "source": [
    "def odd_num(n):\n",
    "    if n%2!=0:\n",
    "        return n\n",
    "my1=[7,4,8,6,9,2,4]\n",
    "print(list(filter(odd_num,my1)))"
   ]
  },
  {
   "cell_type": "code",
   "execution_count": 33,
   "id": "c7469b61",
   "metadata": {},
   "outputs": [
    {
     "ename": "TypeError",
     "evalue": "'list' object is not callable",
     "output_type": "error",
     "traceback": [
      "\u001b[1;31m---------------------------------------------------------------------------\u001b[0m",
      "\u001b[1;31mTypeError\u001b[0m                                 Traceback (most recent call last)",
      "Cell \u001b[1;32mIn[33], line 2\u001b[0m\n\u001b[0;32m      1\u001b[0m \u001b[38;5;28mstr\u001b[39m\u001b[38;5;241m=\u001b[39m\u001b[38;5;124m\"\u001b[39m\u001b[38;5;124mvarad\u001b[39m\u001b[38;5;124m\"\u001b[39m\n\u001b[1;32m----> 2\u001b[0m li\u001b[38;5;241m=\u001b[39m\u001b[38;5;28;43mlist\u001b[39;49m\u001b[43m(\u001b[49m\u001b[38;5;28;43mstr\u001b[39;49m\u001b[43m)\u001b[49m\n\u001b[0;32m      3\u001b[0m \u001b[38;5;28mprint\u001b[39m(li)\n",
      "\u001b[1;31mTypeError\u001b[0m: 'list' object is not callable"
     ]
    }
   ],
   "source": [
    "str=\"varad\"\n",
    "li=list(str)\n",
    "print(li)"
   ]
  },
  {
   "cell_type": "code",
   "execution_count": 34,
   "id": "99b24131",
   "metadata": {},
   "outputs": [
    {
     "data": {
      "text/plain": [
       "[]"
      ]
     },
     "execution_count": 34,
     "metadata": {},
     "output_type": "execute_result"
    }
   ],
   "source": [
    "#modules\n",
    "import os\n",
    "os.mkdir(\"hi\")\n",
    "os.chdir(\"hi\")\n",
    "os.getcwd()\n",
    "os.listdir()\n",
    "#os.rmdir()"
   ]
  },
  {
   "cell_type": "code",
   "execution_count": 35,
   "id": "b2d86933",
   "metadata": {},
   "outputs": [
    {
     "name": "stdout",
     "output_type": "stream",
     "text": [
      "3.141592653589793\n",
      "2.718281828459045\n",
      "2.0\n"
     ]
    }
   ],
   "source": [
    "import math as m\n",
    "print(m.pi)\n",
    "print(m.e)\n",
    "print(m.sqrt(4))\n"
   ]
  },
  {
   "cell_type": "code",
   "execution_count": 37,
   "id": "64da92e8",
   "metadata": {},
   "outputs": [
    {
     "name": "stdout",
     "output_type": "stream",
     "text": [
      "['C:\\\\Users\\\\VKunsavalikar\\\\Documents\\\\Python_Varad', 'C:\\\\ProgramData\\\\anaconda3\\\\python310.zip', 'C:\\\\ProgramData\\\\anaconda3\\\\DLLs', 'C:\\\\ProgramData\\\\anaconda3\\\\lib', 'C:\\\\ProgramData\\\\anaconda3', '', 'C:\\\\ProgramData\\\\anaconda3\\\\lib\\\\site-packages', 'C:\\\\ProgramData\\\\anaconda3\\\\lib\\\\site-packages\\\\win32', 'C:\\\\ProgramData\\\\anaconda3\\\\lib\\\\site-packages\\\\win32\\\\lib', 'C:\\\\ProgramData\\\\anaconda3\\\\lib\\\\site-packages\\\\Pythonwin']\n",
      "3.10.9 | packaged by Anaconda, Inc. | (main, Mar  1 2023, 18:18:15) [MSC v.1916 64 bit (AMD64)]\n"
     ]
    }
   ],
   "source": [
    "import sys \n",
    "print(sys.path)\n",
    "\n",
    "print(sys.version)"
   ]
  },
  {
   "cell_type": "code",
   "execution_count": 39,
   "id": "53f7f5f4",
   "metadata": {},
   "outputs": [
    {
     "name": "stdout",
     "output_type": "stream",
     "text": [
      "56\n",
      "3\n",
      "1\n"
     ]
    }
   ],
   "source": [
    "import statistics as st\n",
    "print(st.mean([24,46,98]))\n",
    "print(st.median([1,2,3,4,5]))\n",
    "print(st.mode([1,2,3,1,1]))"
   ]
  },
  {
   "cell_type": "code",
   "execution_count": 40,
   "id": "c2598016",
   "metadata": {},
   "outputs": [
    {
     "name": "stdout",
     "output_type": "stream",
     "text": [
      "13\n",
      "58\n",
      "0.3234975693273078\n"
     ]
    }
   ],
   "source": [
    "import random as r\n",
    "print(r.randrange(1,50))\n",
    "print(r.randint(1,100))\n",
    "print(r.random())"
   ]
  },
  {
   "cell_type": "code",
   "execution_count": 42,
   "id": "3707aa80",
   "metadata": {},
   "outputs": [
    {
     "name": "stdout",
     "output_type": "stream",
     "text": [
      "guess th numbeer4\n",
      "bachgya\n"
     ]
    }
   ],
   "source": [
    "import random \n",
    "gn=random.randint(1,10)\n",
    "gn2=int(input(\"guess th numbeer\"))\n",
    "if gn2==gn:\n",
    "    print(\"Bullseye\")\n",
    "else:\n",
    "    print(\"bachgya\")"
   ]
  },
  {
   "cell_type": "code",
   "execution_count": 44,
   "id": "4eb8a092",
   "metadata": {},
   "outputs": [
    {
     "name": "stdout",
     "output_type": "stream",
     "text": [
      "10\n",
      "1\n"
     ]
    }
   ],
   "source": [
    "#OOPS\n",
    "\n",
    "class co:\n",
    "    def addn(self,a,b):\n",
    "        return a+b\n",
    "    def subn(self,a,b):\n",
    "        return a-b\n",
    "obj=co()\n",
    "print(obj.addn(5,5))\n",
    "print(obj.subn(5,4))"
   ]
  },
  {
   "cell_type": "code",
   "execution_count": 56,
   "id": "1218dd7e",
   "metadata": {},
   "outputs": [
    {
     "name": "stdout",
     "output_type": "stream",
     "text": [
      "makes sound Meow makes sound CAT\n",
      "makes sound Bhow-Bhow makes sound DOG\n"
     ]
    }
   ],
   "source": [
    "#inheritance\n",
    "\n",
    "#single AND heirarchical\n",
    "class Animal:\n",
    "    def animal_sounds(self):\n",
    "        return \"makes sound\"\n",
    "class Cat(Animal):\n",
    "    def cat_sounds(self):\n",
    "        return \"Meow \"+self.animal_sounds()\n",
    "    def __str__(self):\n",
    "        return \"CAT\"\n",
    "class Dog(Animal):\n",
    "    def cat_sounds(self):\n",
    "        return \"Bhow-Bhow \" +self.animal_sounds()\n",
    "    def __str__(self):\n",
    "        return \"DOG\"    \n",
    "\n",
    "c=Cat()\n",
    "d=Dog()\n",
    "print(c.animal_sounds(),c.cat_sounds(),c)\n",
    "print(d.animal_sounds(),d.cat_sounds(),d)\n",
    "    "
   ]
  },
  {
   "cell_type": "code",
   "execution_count": 57,
   "id": "dac07dcd",
   "metadata": {},
   "outputs": [],
   "source": [
    "# HW:multiple inheritance"
   ]
  },
  {
   "cell_type": "code",
   "execution_count": 59,
   "id": "5736176e",
   "metadata": {},
   "outputs": [
    {
     "name": "stdout",
     "output_type": "stream",
     "text": [
      "exception occured name 'x' is not defined\n"
     ]
    }
   ],
   "source": [
    "#Exceptions\n",
    "try:\n",
    "    print(x)\n",
    "except NameError as ne:\n",
    "    print(\"exception occured\",ne)"
   ]
  },
  {
   "cell_type": "code",
   "execution_count": 66,
   "id": "3391a3b8",
   "metadata": {},
   "outputs": [
    {
     "name": "stdout",
     "output_type": "stream",
     "text": [
      "enter voter age65\n"
     ]
    }
   ],
   "source": [
    "class INVALIDAGE(Exception):\n",
    "    pass\n",
    "age=int(input(\"enter voter age\"))\n",
    "try:\n",
    "    if age<18:\n",
    "        raise INVALIDAGE\n",
    "except INVALIDAGE:\n",
    "        print(\"error raised deu to invalid age\")"
   ]
  },
  {
   "cell_type": "code",
   "execution_count": 1,
   "id": "a666ecde",
   "metadata": {},
   "outputs": [],
   "source": [
    "#file management\n",
    "f=open(\"sample.txt\",'x')\n",
    "# x-> create blank file\n"
   ]
  },
  {
   "cell_type": "code",
   "execution_count": 11,
   "id": "dd8e6d37",
   "metadata": {
    "scrolled": true
   },
   "outputs": [
    {
     "ename": "TypeError",
     "evalue": "remove() missing required argument 'path' (pos 1)",
     "output_type": "error",
     "traceback": [
      "\u001b[1;31m---------------------------------------------------------------------------\u001b[0m",
      "\u001b[1;31mTypeError\u001b[0m                                 Traceback (most recent call last)",
      "Cell \u001b[1;32mIn[11], line 2\u001b[0m\n\u001b[0;32m      1\u001b[0m \u001b[38;5;28;01mimport\u001b[39;00m \u001b[38;5;21;01mos\u001b[39;00m\n\u001b[1;32m----> 2\u001b[0m \u001b[38;5;28;01mwith\u001b[39;00m \u001b[43mos\u001b[49m\u001b[38;5;241;43m.\u001b[39;49m\u001b[43mremove\u001b[49m\u001b[43m(\u001b[49m\u001b[43m)\u001b[49m:\n\u001b[0;32m      3\u001b[0m     os\u001b[38;5;241m.\u001b[39mremove(\u001b[38;5;124m\"\u001b[39m\u001b[38;5;124msample.txt\u001b[39m\u001b[38;5;124m\"\u001b[39m)\n",
      "\u001b[1;31mTypeError\u001b[0m: remove() missing required argument 'path' (pos 1)"
     ]
    }
   ],
   "source": [
    "import os\n",
    "with os.remove():\n",
    "    os.remove(\"sample.txt\")"
   ]
  },
  {
   "cell_type": "code",
   "execution_count": 3,
   "id": "c897f21d",
   "metadata": {},
   "outputs": [],
   "source": [
    "f=open(\"sample.txt\",\"w\")\n",
    "f.write(\"Welcome To Python\")\n",
    "f.close()"
   ]
  },
  {
   "cell_type": "code",
   "execution_count": 5,
   "id": "95df6236",
   "metadata": {},
   "outputs": [
    {
     "name": "stdout",
     "output_type": "stream",
     "text": [
      "Welcome To Python\n"
     ]
    }
   ],
   "source": [
    "f=open(\"sample.txt\",\"r\")\n",
    "print(f.read())\n",
    "f.close()"
   ]
  },
  {
   "cell_type": "code",
   "execution_count": 14,
   "id": "e5c5238e",
   "metadata": {},
   "outputs": [
    {
     "name": "stdout",
     "output_type": "stream",
     "text": [
      "Wel\n",
      "3\n",
      "3\n",
      "0\n",
      "Welcome To Python\n",
      "[]\n"
     ]
    }
   ],
   "source": [
    "f=open(\"sample.txt\",\"r\")\n",
    "print(f.read(3))\n",
    "print(f.tell())\n",
    "print(f.seek(3))\n",
    "print(f.seek(0))\n",
    "print(f.readline())\n",
    "print(f.readlines())\n",
    "f.close()\n"
   ]
  },
  {
   "cell_type": "code",
   "execution_count": 19,
   "id": "f9c5678b",
   "metadata": {},
   "outputs": [],
   "source": [
    "# import shutil\n",
    "# f=open(\"hi.txt\",\"x\")\n",
    "# f=open(\"hey.txt\",\"x\")\n",
    "\n",
    "# source_file=\"Documents/Python_Varad/hi\"\n",
    "\n",
    "# destination_file=\"Documents/Python_Varad/hey\"\n",
    "\n",
    "# shutil.copyfile(source_file,destination_file)"
   ]
  },
  {
   "cell_type": "code",
   "execution_count": 20,
   "id": "f2ec1837",
   "metadata": {},
   "outputs": [],
   "source": [
    "#copy files\n",
    "\n",
    "f1=open(\"f1.txt\",\"x\")\n",
    "f2=open(\"f2.txt\",\"x\")\n",
    "\n",
    "f1=open(\"f1.txt\",\"w\")\n",
    "f1.write(\"Hi world\")\n",
    "f1.close()\n",
    "\n",
    "f1=open(\"f1.txt\",\"r\")\n",
    "temp=f1.read()\n",
    "f1.close()\n",
    "\n",
    "f2=open(\"f2.txt\",\"w\")\n",
    "f2.write(temp)\n",
    "f2.close()\n",
    "\n"
   ]
  },
  {
   "cell_type": "code",
   "execution_count": 23,
   "id": "53afc004",
   "metadata": {},
   "outputs": [
    {
     "name": "stdout",
     "output_type": "stream",
     "text": [
      "['a', 's', 'd']\n"
     ]
    }
   ],
   "source": [
    "#Pickle-->Serialization and Deserialization\n",
    "import pickle\n",
    "myl=['a','s','d']\n",
    "f3=open(\"f3.txt\",'wb')#wb-->write binary\n",
    "pickle.dump(myl,f3)\n",
    "f3.close()\n",
    "\n",
    "\n",
    "#Unpickle\n",
    "import pickle\n",
    "pickle_off=open(\"f3.txt\",'rb')\n",
    "e=pickle.load(pickle_off)\n",
    "print(e)"
   ]
  },
  {
   "cell_type": "code",
   "execution_count": 24,
   "id": "4548c12c",
   "metadata": {},
   "outputs": [
    {
     "name": "stdout",
     "output_type": "stream",
     "text": [
      "Not a matching\n"
     ]
    }
   ],
   "source": [
    "#regular expressions\n",
    "import re\n",
    "pattern=r\"COOKIE\"\n",
    "sequence=\"Cookie\"\n",
    "if re.match(pattern,sequence):\n",
    "    print(\"Matching\")\n",
    "else:\n",
    "    print(\"Not a matching\")"
   ]
  },
  {
   "cell_type": "code",
   "execution_count": 25,
   "id": "7fc51c80",
   "metadata": {},
   "outputs": [
    {
     "name": "stdout",
     "output_type": "stream",
     "text": [
      "enter a mail idvaradrajan123@gmail.com\n",
      "varadrajan123@gmail.com\n"
     ]
    }
   ],
   "source": [
    "import re\n",
    "mail=input(\"enter a mail id\")\n",
    "str1=r'[A-Za-z0-9._-]+@[A-Za-z)-9>-]+[A-Z|a-z]{2,}'\n",
    "print(re.search(str1,mail).group())"
   ]
  },
  {
   "cell_type": "code",
   "execution_count": null,
   "id": "222417db",
   "metadata": {},
   "outputs": [],
   "source": []
  }
 ],
 "metadata": {
  "kernelspec": {
   "display_name": "Python 3 (ipykernel)",
   "language": "python",
   "name": "python3"
  },
  "language_info": {
   "codemirror_mode": {
    "name": "ipython",
    "version": 3
   },
   "file_extension": ".py",
   "mimetype": "text/x-python",
   "name": "python",
   "nbconvert_exporter": "python",
   "pygments_lexer": "ipython3",
   "version": "3.10.9"
  }
 },
 "nbformat": 4,
 "nbformat_minor": 5
}
