{
  "nbformat": 4,
  "nbformat_minor": 0,
  "metadata": {
    "colab": {
      "provenance": []
    },
    "kernelspec": {
      "name": "python3",
      "display_name": "Python 3"
    },
    "language_info": {
      "name": "python"
    }
  },
  "cells": [
    {
      "cell_type": "code",
      "execution_count": null,
      "metadata": {
        "colab": {
          "base_uri": "https://localhost:8080/"
        },
        "id": "YCr_HJlRlMol",
        "outputId": "ea4cbb2f-cb64-44ca-f23b-56047e969ab3"
      },
      "outputs": [
        {
          "output_type": "stream",
          "name": "stdout",
          "text": [
            "Enter the value of k3\n",
            "labels:  [1 1 2 0 0 0]\n",
            "centroids:  [[4 2]\n",
            " [1 4]\n",
            " [1 0]]\n"
          ]
        }
      ],
      "source": [
        "import numpy as np\n",
        "data=np.array([[1,2],[1,4],[1,0],[4,2],[4,4],[4,0]])\n",
        "k=int(input(\"Enter the value of k\"))\n",
        "\n",
        "def clusters(data,k):\n",
        "  indices = np.random.choice(range(len(data)), size=k, replace=False)\n",
        "\n",
        "  #Debug\n",
        "  #print(indices)#indices of randomly choosen ball\n",
        "\n",
        "  centroids = data[indices]\n",
        "\n",
        "\n",
        "  #Debug\n",
        "  #print(centroids)#Initial Centroids\n",
        "\n",
        "  labels=np.zeros(len(data),dtype=int)\n",
        "\n",
        "  #print(labels)#array to store labels of data points\n",
        "\n",
        "  for i, point in enumerate(data):\n",
        "    distances = np.linalg.norm(point - centroids, axis=1)# calculates Euclidean distances between current data and all centroids\n",
        "    #print(\"distances\",distances)\n",
        "    cluster_index = np.argmin(distances)#min distance wala index\n",
        "    #print(cluster_index)\n",
        "    labels[i]=cluster_index#adding that index into labels array\n",
        "\n",
        "  return labels,centroids\n",
        "labels, centroids= clusters(data,k)\n",
        "print(\"labels: \",labels)\n",
        "print(\"centroids: \",centroids)"
      ]
    },
    {
      "cell_type": "code",
      "source": [],
      "metadata": {
        "id": "AxHCMP7TpYtt"
      },
      "execution_count": null,
      "outputs": []
    }
  ]
}