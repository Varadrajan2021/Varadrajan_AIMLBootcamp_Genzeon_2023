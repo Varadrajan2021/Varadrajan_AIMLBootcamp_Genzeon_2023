{
  "cells": [
    {
      "cell_type": "markdown",
      "metadata": {
        "id": "view-in-github",
        "colab_type": "text"
      },
      "source": [
        "<a href=\"https://colab.research.google.com/github/Varadrajan41/Varadrajan_AIMLBootcamp_Genzeon_2023/blob/main/Python_5_6_2023.ipynb\" target=\"_parent\"><img src=\"https://colab.research.google.com/assets/colab-badge.svg\" alt=\"Open In Colab\"/></a>"
      ]
    },
    {
      "cell_type": "code",
      "execution_count": null,
      "id": "652eab9d",
      "metadata": {
        "id": "652eab9d"
      },
      "outputs": [],
      "source": [
        "#text type\n",
        "s=\"hello world\"\n"
      ]
    },
    {
      "cell_type": "code",
      "execution_count": null,
      "id": "37b1fa6d",
      "metadata": {
        "id": "37b1fa6d"
      },
      "outputs": [],
      "source": [
        "#sequence type\n",
        "list=[1,2,3]\n",
        "my_tup=(1,2,3)"
      ]
    },
    {
      "cell_type": "code",
      "execution_count": null,
      "id": "2e2dc805",
      "metadata": {
        "id": "2e2dc805"
      },
      "outputs": [],
      "source": [
        "#mapping type\n",
        "dict1={\"name\":\"varad\"}"
      ]
    },
    {
      "cell_type": "code",
      "execution_count": null,
      "id": "6edbe8bf",
      "metadata": {
        "id": "6edbe8bf"
      },
      "outputs": [],
      "source": [
        "#binary type\n",
        "x=b\"hello\" #byte\n",
        "x=bytearray(5) #bytearray\n",
        "x=memoryview(bytes(4)) #memory view\n",
        "\n",
        "#nonetype\n",
        "x=None"
      ]
    },
    {
      "cell_type": "code",
      "execution_count": null,
      "id": "14cd910b",
      "metadata": {
        "id": "14cd910b",
        "outputId": "b5f4a97e-e7ce-42b8-b6cf-16658d5416c1"
      },
      "outputs": [
        {
          "name": "stdout",
          "output_type": "stream",
          "text": [
            "3.0 4\n"
          ]
        }
      ],
      "source": [
        "#type conversion \n",
        "#explicit\n",
        "a=3\n",
        "b=4.0\n",
        "c=float(a)\n",
        "d=int(b)\n",
        "print(c,d)\n"
      ]
    },
    {
      "cell_type": "code",
      "execution_count": null,
      "id": "d6e6b76f",
      "metadata": {
        "id": "d6e6b76f",
        "outputId": "d0448f14-f376-48d0-fbf9-365363de3a9e"
      },
      "outputs": [
        {
          "name": "stdout",
          "output_type": "stream",
          "text": [
            "7.0\n"
          ]
        }
      ],
      "source": [
        "#implicit\n",
        "e=a+b\n",
        "print(e)"
      ]
    },
    {
      "cell_type": "code",
      "execution_count": null,
      "id": "f259f9bb",
      "metadata": {
        "id": "f259f9bb",
        "outputId": "f239d6ca-2408-48fd-b5a8-53877675c8e8"
      },
      "outputs": [
        {
          "ename": "IndentationError",
          "evalue": "unexpected indent (908507927.py, line 2)",
          "output_type": "error",
          "traceback": [
            "\u001b[1;36m  Cell \u001b[1;32mIn[7], line 2\u001b[1;36m\u001b[0m\n\u001b[1;33m    a=10\u001b[0m\n\u001b[1;37m    ^\u001b[0m\n\u001b[1;31mIndentationError\u001b[0m\u001b[1;31m:\u001b[0m unexpected indent\n"
          ]
        }
      ],
      "source": [
        "#operators\n",
        " a=10\n",
        " b=20\n",
        "    print(a+b)\n",
        "    print(a-b)\n",
        "    print(a*b)\n",
        "    print(a/b) # will give float answer \n",
        "    print(a%b)\n",
        "    print(a//b) # will give int answer"
      ]
    },
    {
      "cell_type": "code",
      "execution_count": null,
      "id": "05cb5431",
      "metadata": {
        "id": "05cb5431",
        "outputId": "3b31de09-2f55-4a5e-cadb-e392be934a57"
      },
      "outputs": [
        {
          "name": "stdout",
          "output_type": "stream",
          "text": [
            "30\n",
            "-10\n",
            "200\n",
            "0.5\n",
            "10\n",
            "0\n"
          ]
        }
      ],
      "source": [
        "a=10\n",
        "b=20\n",
        "print(a+b)\n",
        "print(a-b)\n",
        "print(a*b)\n",
        "print(a/b) # will give float answer \n",
        "print(a%b)\n",
        "print(a//b) # will give int answer"
      ]
    },
    {
      "cell_type": "code",
      "execution_count": null,
      "id": "612861b2",
      "metadata": {
        "scrolled": true,
        "id": "612861b2",
        "outputId": "1b216110-cd40-4d9c-9c25-481a70ac2ecf"
      },
      "outputs": [
        {
          "data": {
            "text/plain": [
              "True"
            ]
          },
          "execution_count": 9,
          "metadata": {},
          "output_type": "execute_result"
        }
      ],
      "source": [
        "# comparison operator \n",
        "a==b\n",
        "a!=b\n",
        "a>b\n",
        "a<b\n",
        "a>=b\n",
        "a<=b"
      ]
    },
    {
      "cell_type": "code",
      "execution_count": null,
      "id": "4a1fc7eb",
      "metadata": {
        "id": "4a1fc7eb"
      },
      "outputs": [],
      "source": [
        "#assignment operator\n",
        "c=a+b\n",
        "c+=a\n",
        "c-+a\n",
        "c*=a\n",
        "c/=a\n",
        "c%=a\n",
        "c**=a\n"
      ]
    },
    {
      "cell_type": "code",
      "execution_count": null,
      "id": "073b8ade",
      "metadata": {
        "id": "073b8ade",
        "outputId": "031d9fe6-429b-407a-f1f7-cf960ea531b2"
      },
      "outputs": [
        {
          "name": "stdout",
          "output_type": "stream",
          "text": [
            "x and y is False\n",
            "x or y is True\n",
            "x not is False\n"
          ]
        }
      ],
      "source": [
        "#logical operatoe\n",
        "x=True\n",
        "y=False\n",
        "print(\"x and y is\", x and y)\n",
        "print(\"x or y is\", x or y)\n",
        "print(\"x not is\", not x)"
      ]
    },
    {
      "cell_type": "code",
      "execution_count": null,
      "id": "eb0f9062",
      "metadata": {
        "id": "eb0f9062",
        "outputId": "9599e93c-4018-492d-8b21-863dacc29bc4"
      },
      "outputs": [
        {
          "name": "stdout",
          "output_type": "stream",
          "text": [
            "8\n"
          ]
        }
      ],
      "source": [
        "#bitwise operators\n",
        "a=11\n",
        "b=12\n",
        "print(a&b)\n",
        "print(a|b)\n",
        "print(a^b)\n",
        "print()#Not\n",
        "print(a>>2)\n",
        "print(a<<2)\n"
      ]
    },
    {
      "cell_type": "code",
      "execution_count": null,
      "id": "e6695b66",
      "metadata": {
        "id": "e6695b66",
        "outputId": "4b8fc8cd-1eea-435e-a5c9-50f2bb83d1b2"
      },
      "outputs": [
        {
          "name": "stdout",
          "output_type": "stream",
          "text": [
            "{1: 'a', 2: 'b'}\n"
          ]
        }
      ],
      "source": [
        "#memebership operators\n",
        "\n",
        "# ['in' & 'not in']\n",
        "\n",
        "x=\"hello world\"\n",
        "y={1:'a',2:'b'}\n",
        "print(y)"
      ]
    },
    {
      "cell_type": "code",
      "execution_count": null,
      "id": "c4fd5441",
      "metadata": {
        "id": "c4fd5441",
        "outputId": "c6c093e0-3bab-4f92-9b5b-7c1bfca72d69"
      },
      "outputs": [
        {
          "name": "stdout",
          "output_type": "stream",
          "text": [
            "False\n"
          ]
        }
      ],
      "source": [
        "print('H' in x)"
      ]
    },
    {
      "cell_type": "code",
      "execution_count": null,
      "id": "ac412925",
      "metadata": {
        "id": "ac412925",
        "outputId": "1830e3af-1c56-4620-9ceb-c903cb9a43b2"
      },
      "outputs": [
        {
          "name": "stdout",
          "output_type": "stream",
          "text": [
            "True\n"
          ]
        }
      ],
      "source": [
        "print(1 in y)"
      ]
    },
    {
      "cell_type": "code",
      "execution_count": null,
      "id": "ce468921",
      "metadata": {
        "id": "ce468921",
        "outputId": "509574ed-2de9-48b5-d7f9-aef196e7b421"
      },
      "outputs": [
        {
          "name": "stdout",
          "output_type": "stream",
          "text": [
            "False\n"
          ]
        }
      ],
      "source": [
        "print('a'in y)"
      ]
    },
    {
      "cell_type": "code",
      "execution_count": null,
      "id": "18eebc8e",
      "metadata": {
        "id": "18eebc8e",
        "outputId": "487aeeca-2562-4a71-b98c-ee4a8fa08b38"
      },
      "outputs": [
        {
          "name": "stdout",
          "output_type": "stream",
          "text": [
            "False\n",
            "True\n",
            "False\n"
          ]
        }
      ],
      "source": [
        "# Identity operators\n",
        "x1=5\n",
        "y1=5\n",
        "x2=\"Hello\"\n",
        "y2=\"Hello\"\n",
        "x3=[1,2,3]\n",
        "y3=[1,2,3]\n",
        "print(x1 is not y1)\n",
        "print(x2 is y2)\n",
        "print(x3 is y3) # False cz its a referencial memeory loation"
      ]
    },
    {
      "cell_type": "code",
      "execution_count": null,
      "id": "0ebad98f",
      "metadata": {
        "id": "0ebad98f",
        "outputId": "5300d9e1-99da-4d98-e49c-2a6e1b92ae04"
      },
      "outputs": [
        {
          "name": "stdout",
          "output_type": "stream",
          "text": [
            "Genzeon\n",
            "enzeon\n",
            "Genz\n"
          ]
        }
      ],
      "source": [
        "# STring\n",
        "str1=\"Genzeon\"\n",
        "    \n",
        "#indexing\n",
        "print(str1[:])\n",
        "print(str1[1:])\n",
        "print(str1[:4])"
      ]
    },
    {
      "cell_type": "code",
      "execution_count": null,
      "id": "6571ec1c",
      "metadata": {
        "id": "6571ec1c",
        "outputId": "000dfd24-dff4-42f8-88aa-93f6c3ef3f46"
      },
      "outputs": [
        {
          "name": "stdout",
          "output_type": "stream",
          "text": [
            "Genzeo\n"
          ]
        }
      ],
      "source": [
        "print(str1[-7:-1])"
      ]
    },
    {
      "cell_type": "code",
      "execution_count": null,
      "id": "05b3711f",
      "metadata": {
        "id": "05b3711f",
        "outputId": "61ed383e-2c43-4fbe-c396-0df12f8c3970"
      },
      "outputs": [
        {
          "name": "stdout",
          "output_type": "stream",
          "text": [
            "Gne\n"
          ]
        }
      ],
      "source": [
        "print(str1[0:5:2])"
      ]
    },
    {
      "cell_type": "code",
      "execution_count": null,
      "id": "526822a6",
      "metadata": {
        "id": "526822a6",
        "outputId": "0d508c6f-b861-4378-8c8a-b8dab6aac8b7"
      },
      "outputs": [
        {
          "name": "stdout",
          "output_type": "stream",
          "text": [
            "noezneG\n"
          ]
        }
      ],
      "source": [
        "print(str1[::-1])"
      ]
    },
    {
      "cell_type": "code",
      "execution_count": null,
      "id": "7fa940d5",
      "metadata": {
        "id": "7fa940d5",
        "outputId": "edacd2f6-1602-47fd-df0c-e1a1cf0d8f96"
      },
      "outputs": [
        {
          "name": "stdout",
          "output_type": "stream",
          "text": [
            "hipython\n",
            "hihihihi\n"
          ]
        }
      ],
      "source": [
        "#String Operatipons\n",
        "a=\"hi\"\n",
        "b=\"python\"\n",
        "c=a+b\n",
        "d=a*4\n",
        "print(c)\n",
        "print(d)"
      ]
    },
    {
      "cell_type": "code",
      "execution_count": null,
      "id": "1d5316ec",
      "metadata": {
        "id": "1d5316ec",
        "outputId": "0c8a7f19-a9e2-4a42-8ae9-523db3f893cd"
      },
      "outputs": [
        {
          "name": "stdout",
          "output_type": "stream",
          "text": [
            "WE ARE LEARNING PYTHON AT GENZON\n",
            "we are learning python at genzon\n",
            "We Are Learning Python At Genzon\n",
            "wE ARE LEARNING PYTHON AT gENZON\n",
            "We are learning python at genzon\n",
            "We are learning python at Genzon\n",
            "We are learning python at Genzon\n",
            "We are learning python at Genzon\n"
          ]
        }
      ],
      "source": [
        "my_str=\"We are learning python at Genzon\"\n",
        "print(my_str.upper())\n",
        "print(my_str.lower())\n",
        "print(my_str.title())\n",
        "print(my_str.swapcase())\n",
        "print(my_str.capitalize())\n",
        "print(my_str.lstrip())\n",
        "print(my_str.rstrip())\n",
        "print(my_str.strip())"
      ]
    },
    {
      "cell_type": "code",
      "execution_count": null,
      "id": "969c885e",
      "metadata": {
        "id": "969c885e",
        "outputId": "faf58fc7-a434-4d35-f814-a737f6565f92"
      },
      "outputs": [
        {
          "data": {
            "text/plain": [
              "['__add__',\n",
              " '__class__',\n",
              " '__contains__',\n",
              " '__delattr__',\n",
              " '__dir__',\n",
              " '__doc__',\n",
              " '__eq__',\n",
              " '__format__',\n",
              " '__ge__',\n",
              " '__getattribute__',\n",
              " '__getitem__',\n",
              " '__getnewargs__',\n",
              " '__gt__',\n",
              " '__hash__',\n",
              " '__init__',\n",
              " '__init_subclass__',\n",
              " '__iter__',\n",
              " '__le__',\n",
              " '__len__',\n",
              " '__lt__',\n",
              " '__mod__',\n",
              " '__mul__',\n",
              " '__ne__',\n",
              " '__new__',\n",
              " '__reduce__',\n",
              " '__reduce_ex__',\n",
              " '__repr__',\n",
              " '__rmod__',\n",
              " '__rmul__',\n",
              " '__setattr__',\n",
              " '__sizeof__',\n",
              " '__str__',\n",
              " '__subclasshook__',\n",
              " 'capitalize',\n",
              " 'casefold',\n",
              " 'center',\n",
              " 'count',\n",
              " 'encode',\n",
              " 'endswith',\n",
              " 'expandtabs',\n",
              " 'find',\n",
              " 'format',\n",
              " 'format_map',\n",
              " 'index',\n",
              " 'isalnum',\n",
              " 'isalpha',\n",
              " 'isascii',\n",
              " 'isdecimal',\n",
              " 'isdigit',\n",
              " 'isidentifier',\n",
              " 'islower',\n",
              " 'isnumeric',\n",
              " 'isprintable',\n",
              " 'isspace',\n",
              " 'istitle',\n",
              " 'isupper',\n",
              " 'join',\n",
              " 'ljust',\n",
              " 'lower',\n",
              " 'lstrip',\n",
              " 'maketrans',\n",
              " 'partition',\n",
              " 'removeprefix',\n",
              " 'removesuffix',\n",
              " 'replace',\n",
              " 'rfind',\n",
              " 'rindex',\n",
              " 'rjust',\n",
              " 'rpartition',\n",
              " 'rsplit',\n",
              " 'rstrip',\n",
              " 'split',\n",
              " 'splitlines',\n",
              " 'startswith',\n",
              " 'strip',\n",
              " 'swapcase',\n",
              " 'title',\n",
              " 'translate',\n",
              " 'upper',\n",
              " 'zfill']"
            ]
          },
          "execution_count": 27,
          "metadata": {},
          "output_type": "execute_result"
        }
      ],
      "source": [
        "dir(str)"
      ]
    },
    {
      "cell_type": "code",
      "execution_count": null,
      "id": "d6d05dec",
      "metadata": {
        "id": "d6d05dec",
        "outputId": "dd3171cc-990c-4b23-e9b1-633e533f4657"
      },
      "outputs": [
        {
          "data": {
            "text/plain": [
              "'Hi i am a docstring'"
            ]
          },
          "execution_count": 29,
          "metadata": {},
          "output_type": "execute_result"
        }
      ],
      "source": [
        "'''Hi i am a docstring'''#docstring"
      ]
    },
    {
      "cell_type": "code",
      "execution_count": null,
      "id": "54a36e75",
      "metadata": {
        "id": "54a36e75",
        "outputId": "021c0f51-1e59-4662-c60c-bba148babc67"
      },
      "outputs": [
        {
          "name": "stdout",
          "output_type": "stream",
          "text": [
            "[1, 2, 3, 4]\n",
            "[1, 'hello', 3, 4]\n",
            "[5, 6, [1, 'hello', 3, 4], [1, 2, 3, 4], 9, 10]\n"
          ]
        }
      ],
      "source": [
        "#List\n",
        "list=[1,2,3,4]\n",
        "my_list=[1,\"hello\",3,4]\n",
        "nest_list=[5,6,my_list,list,9,10]\n",
        "print(list)\n",
        "print(my_list)\n",
        "print(nest_list)"
      ]
    },
    {
      "cell_type": "code",
      "execution_count": null,
      "id": "86c33ca8",
      "metadata": {
        "id": "86c33ca8",
        "outputId": "c2e7b3f4-0c08-498d-9afd-22b7527cd1d6"
      },
      "outputs": [
        {
          "name": "stdout",
          "output_type": "stream",
          "text": [
            "e\n"
          ]
        }
      ],
      "source": [
        "print(my_list[1][1])"
      ]
    },
    {
      "cell_type": "code",
      "execution_count": null,
      "id": "ae70918f",
      "metadata": {
        "id": "ae70918f",
        "outputId": "b8bb45b2-11b8-4e13-9dab-4d6aed9a0eef"
      },
      "outputs": [
        {
          "name": "stdout",
          "output_type": "stream",
          "text": [
            "['hello', 3]\n"
          ]
        }
      ],
      "source": [
        "print(nest_list[2][1:3])"
      ]
    },
    {
      "cell_type": "code",
      "execution_count": null,
      "id": "de485a05",
      "metadata": {
        "id": "de485a05",
        "outputId": "18de1bb8-f207-4749-b324-b3c0cdd97ea6"
      },
      "outputs": [
        {
          "name": "stdout",
          "output_type": "stream",
          "text": [
            "ell\n"
          ]
        }
      ],
      "source": [
        "print(nest_list[2][1][1:4])"
      ]
    },
    {
      "cell_type": "code",
      "execution_count": null,
      "id": "c954c219",
      "metadata": {
        "id": "c954c219",
        "outputId": "d3ee5890-da79-4392-ee9b-4826212d760a"
      },
      "outputs": [
        {
          "name": "stdout",
          "output_type": "stream",
          "text": [
            "[1, 2, 3, 4, 6, 7, 8]\n",
            "[1, 2, 3, 6, 7, 8]\n",
            "[3, 6, 7, 8]\n"
          ]
        }
      ],
      "source": [
        "#List Methods\n",
        "lis=[1,2,3]\n",
        "lis.append(4)\n",
        "lis.extend([6,7,8])\n",
        "print(lis)\n",
        "\n",
        "del lis[3]\n",
        "print(lis)\n",
        "\n",
        "del lis[0:2]\n",
        "print(lis)\n"
      ]
    },
    {
      "cell_type": "code",
      "execution_count": null,
      "id": "f0df7cea",
      "metadata": {
        "id": "f0df7cea"
      },
      "outputs": [],
      "source": [
        "lis=[2,3,5,78,2,52,5,4]\n",
        "lis.sort()"
      ]
    },
    {
      "cell_type": "code",
      "execution_count": null,
      "id": "c63a65b4",
      "metadata": {
        "id": "c63a65b4",
        "outputId": "0bc12139-ff4b-4bb0-e76e-4fe4aaf17ed2"
      },
      "outputs": [
        {
          "data": {
            "text/plain": [
              "[2, 2, 3, 4, 5, 5, 52, 78]"
            ]
          },
          "execution_count": 47,
          "metadata": {},
          "output_type": "execute_result"
        }
      ],
      "source": [
        "lis"
      ]
    },
    {
      "cell_type": "code",
      "execution_count": null,
      "id": "e7a76bc3",
      "metadata": {
        "id": "e7a76bc3",
        "outputId": "3a1061a4-09e5-45e3-8df0-0d9fc1ac9813"
      },
      "outputs": [
        {
          "data": {
            "text/plain": [
              "2"
            ]
          },
          "execution_count": 50,
          "metadata": {},
          "output_type": "execute_result"
        }
      ],
      "source": [
        "lis.count(5)"
      ]
    },
    {
      "cell_type": "code",
      "execution_count": null,
      "id": "0de4478a",
      "metadata": {
        "id": "0de4478a"
      },
      "outputs": [],
      "source": [
        "#after remove() if we search it  it does not give error\n",
        "#after delete() if we search it  it does give error."
      ]
    }
  ],
  "metadata": {
    "kernelspec": {
      "display_name": "Python 3 (ipykernel)",
      "language": "python",
      "name": "python3"
    },
    "language_info": {
      "codemirror_mode": {
        "name": "ipython",
        "version": 3
      },
      "file_extension": ".py",
      "mimetype": "text/x-python",
      "name": "python",
      "nbconvert_exporter": "python",
      "pygments_lexer": "ipython3",
      "version": "3.10.9"
    },
    "colab": {
      "provenance": [],
      "include_colab_link": true
    }
  },
  "nbformat": 4,
  "nbformat_minor": 5
}