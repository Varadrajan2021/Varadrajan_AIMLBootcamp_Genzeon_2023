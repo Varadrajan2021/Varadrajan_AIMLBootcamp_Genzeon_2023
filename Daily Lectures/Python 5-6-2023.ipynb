{
 "cells": [
  {
   "cell_type": "code",
   "execution_count": 1,
   "id": "652eab9d",
   "metadata": {},
   "outputs": [],
   "source": [
    "#text type\n",
    "s=\"hello world\"\n"
   ]
  },
  {
   "cell_type": "code",
   "execution_count": 2,
   "id": "37b1fa6d",
   "metadata": {},
   "outputs": [],
   "source": [
    "#sequence type\n",
    "list=[1,2,3]\n",
    "my_tup=(1,2,3)"
   ]
  },
  {
   "cell_type": "code",
   "execution_count": 3,
   "id": "2e2dc805",
   "metadata": {},
   "outputs": [],
   "source": [
    "#mapping type\n",
    "dict1={\"name\":\"varad\"}"
   ]
  },
  {
   "cell_type": "code",
   "execution_count": 4,
   "id": "6edbe8bf",
   "metadata": {},
   "outputs": [],
   "source": [
    "#binary type\n",
    "x=b\"hello\" #byte\n",
    "x=bytearray(5) #bytearray\n",
    "x=memoryview(bytes(4)) #memory view\n",
    "\n",
    "#nonetype\n",
    "x=None"
   ]
  },
  {
   "cell_type": "code",
   "execution_count": 5,
   "id": "14cd910b",
   "metadata": {},
   "outputs": [
    {
     "name": "stdout",
     "output_type": "stream",
     "text": [
      "3.0 4\n"
     ]
    }
   ],
   "source": [
    "#type conversion \n",
    "#explicit\n",
    "a=3\n",
    "b=4.0\n",
    "c=float(a)\n",
    "d=int(b)\n",
    "print(c,d)\n"
   ]
  },
  {
   "cell_type": "code",
   "execution_count": 6,
   "id": "d6e6b76f",
   "metadata": {},
   "outputs": [
    {
     "name": "stdout",
     "output_type": "stream",
     "text": [
      "7.0\n"
     ]
    }
   ],
   "source": [
    "#implicit\n",
    "e=a+b\n",
    "print(e)"
   ]
  },
  {
   "cell_type": "code",
   "execution_count": 7,
   "id": "f259f9bb",
   "metadata": {},
   "outputs": [
    {
     "ename": "IndentationError",
     "evalue": "unexpected indent (908507927.py, line 2)",
     "output_type": "error",
     "traceback": [
      "\u001b[1;36m  Cell \u001b[1;32mIn[7], line 2\u001b[1;36m\u001b[0m\n\u001b[1;33m    a=10\u001b[0m\n\u001b[1;37m    ^\u001b[0m\n\u001b[1;31mIndentationError\u001b[0m\u001b[1;31m:\u001b[0m unexpected indent\n"
     ]
    }
   ],
   "source": [
    "#operators\n",
    " a=10\n",
    " b=20\n",
    "    print(a+b)\n",
    "    print(a-b)\n",
    "    print(a*b)\n",
    "    print(a/b) # will give float answer \n",
    "    print(a%b)\n",
    "    print(a//b) # will give int answer"
   ]
  },
  {
   "cell_type": "code",
   "execution_count": 8,
   "id": "05cb5431",
   "metadata": {},
   "outputs": [
    {
     "name": "stdout",
     "output_type": "stream",
     "text": [
      "30\n",
      "-10\n",
      "200\n",
      "0.5\n",
      "10\n",
      "0\n"
     ]
    }
   ],
   "source": [
    "a=10\n",
    "b=20\n",
    "print(a+b)\n",
    "print(a-b)\n",
    "print(a*b)\n",
    "print(a/b) # will give float answer \n",
    "print(a%b)\n",
    "print(a//b) # will give int answer"
   ]
  },
  {
   "cell_type": "code",
   "execution_count": 9,
   "id": "612861b2",
   "metadata": {
    "scrolled": true
   },
   "outputs": [
    {
     "data": {
      "text/plain": [
       "True"
      ]
     },
     "execution_count": 9,
     "metadata": {},
     "output_type": "execute_result"
    }
   ],
   "source": [
    "# comparison operator \n",
    "a==b\n",
    "a!=b\n",
    "a>b\n",
    "a<b\n",
    "a>=b\n",
    "a<=b"
   ]
  },
  {
   "cell_type": "code",
   "execution_count": 10,
   "id": "4a1fc7eb",
   "metadata": {},
   "outputs": [],
   "source": [
    "#assignment operator\n",
    "c=a+b\n",
    "c+=a\n",
    "c-+a\n",
    "c*=a\n",
    "c/=a\n",
    "c%=a\n",
    "c**=a\n"
   ]
  },
  {
   "cell_type": "code",
   "execution_count": 11,
   "id": "073b8ade",
   "metadata": {},
   "outputs": [
    {
     "name": "stdout",
     "output_type": "stream",
     "text": [
      "x and y is False\n",
      "x or y is True\n",
      "x not is False\n"
     ]
    }
   ],
   "source": [
    "#logical operatoe\n",
    "x=True\n",
    "y=False\n",
    "print(\"x and y is\", x and y)\n",
    "print(\"x or y is\", x or y)\n",
    "print(\"x not is\", not x)"
   ]
  },
  {
   "cell_type": "code",
   "execution_count": 13,
   "id": "eb0f9062",
   "metadata": {},
   "outputs": [
    {
     "name": "stdout",
     "output_type": "stream",
     "text": [
      "8\n"
     ]
    }
   ],
   "source": [
    "#bitwise operators\n",
    "a=11\n",
    "b=12\n",
    "print(a&b)\n",
    "print(a|b)\n",
    "print(a^b)\n",
    "print()#Not\n",
    "print(a>>2)\n",
    "print(a<<2)\n"
   ]
  },
  {
   "cell_type": "code",
   "execution_count": 14,
   "id": "e6695b66",
   "metadata": {},
   "outputs": [
    {
     "name": "stdout",
     "output_type": "stream",
     "text": [
      "{1: 'a', 2: 'b'}\n"
     ]
    }
   ],
   "source": [
    "#memebership operators\n",
    "\n",
    "# ['in' & 'not in']\n",
    "\n",
    "x=\"hello world\"\n",
    "y={1:'a',2:'b'}\n",
    "print(y)"
   ]
  },
  {
   "cell_type": "code",
   "execution_count": 15,
   "id": "c4fd5441",
   "metadata": {},
   "outputs": [
    {
     "name": "stdout",
     "output_type": "stream",
     "text": [
      "False\n"
     ]
    }
   ],
   "source": [
    "print('H' in x)"
   ]
  },
  {
   "cell_type": "code",
   "execution_count": 16,
   "id": "ac412925",
   "metadata": {},
   "outputs": [
    {
     "name": "stdout",
     "output_type": "stream",
     "text": [
      "True\n"
     ]
    }
   ],
   "source": [
    "print(1 in y)"
   ]
  },
  {
   "cell_type": "code",
   "execution_count": 17,
   "id": "ce468921",
   "metadata": {},
   "outputs": [
    {
     "name": "stdout",
     "output_type": "stream",
     "text": [
      "False\n"
     ]
    }
   ],
   "source": [
    "print('a'in y)"
   ]
  },
  {
   "cell_type": "code",
   "execution_count": 18,
   "id": "18eebc8e",
   "metadata": {},
   "outputs": [
    {
     "name": "stdout",
     "output_type": "stream",
     "text": [
      "False\n",
      "True\n",
      "False\n"
     ]
    }
   ],
   "source": [
    "# Identity operators\n",
    "x1=5\n",
    "y1=5\n",
    "x2=\"Hello\"\n",
    "y2=\"Hello\"\n",
    "x3=[1,2,3]\n",
    "y3=[1,2,3]\n",
    "print(x1 is not y1)\n",
    "print(x2 is y2)\n",
    "print(x3 is y3) # False cz its a referencial memeory loation"
   ]
  },
  {
   "cell_type": "code",
   "execution_count": 19,
   "id": "0ebad98f",
   "metadata": {},
   "outputs": [
    {
     "name": "stdout",
     "output_type": "stream",
     "text": [
      "Genzeon\n",
      "enzeon\n",
      "Genz\n"
     ]
    }
   ],
   "source": [
    "# STring\n",
    "str1=\"Genzeon\"\n",
    "    \n",
    "#indexing\n",
    "print(str1[:])\n",
    "print(str1[1:])\n",
    "print(str1[:4])"
   ]
  },
  {
   "cell_type": "code",
   "execution_count": 20,
   "id": "6571ec1c",
   "metadata": {},
   "outputs": [
    {
     "name": "stdout",
     "output_type": "stream",
     "text": [
      "Genzeo\n"
     ]
    }
   ],
   "source": [
    "print(str1[-7:-1])"
   ]
  },
  {
   "cell_type": "code",
   "execution_count": 22,
   "id": "05b3711f",
   "metadata": {},
   "outputs": [
    {
     "name": "stdout",
     "output_type": "stream",
     "text": [
      "Gne\n"
     ]
    }
   ],
   "source": [
    "print(str1[0:5:2])"
   ]
  },
  {
   "cell_type": "code",
   "execution_count": 24,
   "id": "526822a6",
   "metadata": {},
   "outputs": [
    {
     "name": "stdout",
     "output_type": "stream",
     "text": [
      "noezneG\n"
     ]
    }
   ],
   "source": [
    "print(str1[::-1])"
   ]
  },
  {
   "cell_type": "code",
   "execution_count": 25,
   "id": "7fa940d5",
   "metadata": {},
   "outputs": [
    {
     "name": "stdout",
     "output_type": "stream",
     "text": [
      "hipython\n",
      "hihihihi\n"
     ]
    }
   ],
   "source": [
    "#String Operatipons\n",
    "a=\"hi\"\n",
    "b=\"python\"\n",
    "c=a+b\n",
    "d=a*4\n",
    "print(c)\n",
    "print(d)"
   ]
  },
  {
   "cell_type": "code",
   "execution_count": 28,
   "id": "1d5316ec",
   "metadata": {},
   "outputs": [
    {
     "name": "stdout",
     "output_type": "stream",
     "text": [
      "WE ARE LEARNING PYTHON AT GENZON\n",
      "we are learning python at genzon\n",
      "We Are Learning Python At Genzon\n",
      "wE ARE LEARNING PYTHON AT gENZON\n",
      "We are learning python at genzon\n",
      "We are learning python at Genzon\n",
      "We are learning python at Genzon\n",
      "We are learning python at Genzon\n"
     ]
    }
   ],
   "source": [
    "my_str=\"We are learning python at Genzon\"\n",
    "print(my_str.upper())\n",
    "print(my_str.lower())\n",
    "print(my_str.title())\n",
    "print(my_str.swapcase())\n",
    "print(my_str.capitalize())\n",
    "print(my_str.lstrip())\n",
    "print(my_str.rstrip())\n",
    "print(my_str.strip())"
   ]
  },
  {
   "cell_type": "code",
   "execution_count": 27,
   "id": "969c885e",
   "metadata": {},
   "outputs": [
    {
     "data": {
      "text/plain": [
       "['__add__',\n",
       " '__class__',\n",
       " '__contains__',\n",
       " '__delattr__',\n",
       " '__dir__',\n",
       " '__doc__',\n",
       " '__eq__',\n",
       " '__format__',\n",
       " '__ge__',\n",
       " '__getattribute__',\n",
       " '__getitem__',\n",
       " '__getnewargs__',\n",
       " '__gt__',\n",
       " '__hash__',\n",
       " '__init__',\n",
       " '__init_subclass__',\n",
       " '__iter__',\n",
       " '__le__',\n",
       " '__len__',\n",
       " '__lt__',\n",
       " '__mod__',\n",
       " '__mul__',\n",
       " '__ne__',\n",
       " '__new__',\n",
       " '__reduce__',\n",
       " '__reduce_ex__',\n",
       " '__repr__',\n",
       " '__rmod__',\n",
       " '__rmul__',\n",
       " '__setattr__',\n",
       " '__sizeof__',\n",
       " '__str__',\n",
       " '__subclasshook__',\n",
       " 'capitalize',\n",
       " 'casefold',\n",
       " 'center',\n",
       " 'count',\n",
       " 'encode',\n",
       " 'endswith',\n",
       " 'expandtabs',\n",
       " 'find',\n",
       " 'format',\n",
       " 'format_map',\n",
       " 'index',\n",
       " 'isalnum',\n",
       " 'isalpha',\n",
       " 'isascii',\n",
       " 'isdecimal',\n",
       " 'isdigit',\n",
       " 'isidentifier',\n",
       " 'islower',\n",
       " 'isnumeric',\n",
       " 'isprintable',\n",
       " 'isspace',\n",
       " 'istitle',\n",
       " 'isupper',\n",
       " 'join',\n",
       " 'ljust',\n",
       " 'lower',\n",
       " 'lstrip',\n",
       " 'maketrans',\n",
       " 'partition',\n",
       " 'removeprefix',\n",
       " 'removesuffix',\n",
       " 'replace',\n",
       " 'rfind',\n",
       " 'rindex',\n",
       " 'rjust',\n",
       " 'rpartition',\n",
       " 'rsplit',\n",
       " 'rstrip',\n",
       " 'split',\n",
       " 'splitlines',\n",
       " 'startswith',\n",
       " 'strip',\n",
       " 'swapcase',\n",
       " 'title',\n",
       " 'translate',\n",
       " 'upper',\n",
       " 'zfill']"
      ]
     },
     "execution_count": 27,
     "metadata": {},
     "output_type": "execute_result"
    }
   ],
   "source": [
    "dir(str)"
   ]
  },
  {
   "cell_type": "code",
   "execution_count": 29,
   "id": "d6d05dec",
   "metadata": {},
   "outputs": [
    {
     "data": {
      "text/plain": [
       "'Hi i am a docstring'"
      ]
     },
     "execution_count": 29,
     "metadata": {},
     "output_type": "execute_result"
    }
   ],
   "source": [
    "'''Hi i am a docstring'''#docstring"
   ]
  },
  {
   "cell_type": "code",
   "execution_count": 32,
   "id": "54a36e75",
   "metadata": {},
   "outputs": [
    {
     "name": "stdout",
     "output_type": "stream",
     "text": [
      "[1, 2, 3, 4]\n",
      "[1, 'hello', 3, 4]\n",
      "[5, 6, [1, 'hello', 3, 4], [1, 2, 3, 4], 9, 10]\n"
     ]
    }
   ],
   "source": [
    "#List\n",
    "list=[1,2,3,4]\n",
    "my_list=[1,\"hello\",3,4]\n",
    "nest_list=[5,6,my_list,list,9,10]\n",
    "print(list)\n",
    "print(my_list)\n",
    "print(nest_list)"
   ]
  },
  {
   "cell_type": "code",
   "execution_count": 33,
   "id": "86c33ca8",
   "metadata": {},
   "outputs": [
    {
     "name": "stdout",
     "output_type": "stream",
     "text": [
      "e\n"
     ]
    }
   ],
   "source": [
    "print(my_list[1][1])"
   ]
  },
  {
   "cell_type": "code",
   "execution_count": 34,
   "id": "ae70918f",
   "metadata": {},
   "outputs": [
    {
     "name": "stdout",
     "output_type": "stream",
     "text": [
      "['hello', 3]\n"
     ]
    }
   ],
   "source": [
    "print(nest_list[2][1:3])"
   ]
  },
  {
   "cell_type": "code",
   "execution_count": 41,
   "id": "de485a05",
   "metadata": {},
   "outputs": [
    {
     "name": "stdout",
     "output_type": "stream",
     "text": [
      "ell\n"
     ]
    }
   ],
   "source": [
    "print(nest_list[2][1][1:4])"
   ]
  },
  {
   "cell_type": "code",
   "execution_count": 44,
   "id": "c954c219",
   "metadata": {},
   "outputs": [
    {
     "name": "stdout",
     "output_type": "stream",
     "text": [
      "[1, 2, 3, 4, 6, 7, 8]\n",
      "[1, 2, 3, 6, 7, 8]\n",
      "[3, 6, 7, 8]\n"
     ]
    }
   ],
   "source": [
    "#List Methods\n",
    "lis=[1,2,3]\n",
    "lis.append(4)\n",
    "lis.extend([6,7,8])\n",
    "print(lis)\n",
    "\n",
    "del lis[3]\n",
    "print(lis)\n",
    "\n",
    "del lis[0:2]\n",
    "print(lis)\n"
   ]
  },
  {
   "cell_type": "code",
   "execution_count": 45,
   "id": "f0df7cea",
   "metadata": {},
   "outputs": [],
   "source": [
    "lis=[2,3,5,78,2,52,5,4]\n",
    "lis.sort()"
   ]
  },
  {
   "cell_type": "code",
   "execution_count": 47,
   "id": "c63a65b4",
   "metadata": {},
   "outputs": [
    {
     "data": {
      "text/plain": [
       "[2, 2, 3, 4, 5, 5, 52, 78]"
      ]
     },
     "execution_count": 47,
     "metadata": {},
     "output_type": "execute_result"
    }
   ],
   "source": [
    "lis"
   ]
  },
  {
   "cell_type": "code",
   "execution_count": 50,
   "id": "e7a76bc3",
   "metadata": {},
   "outputs": [
    {
     "data": {
      "text/plain": [
       "2"
      ]
     },
     "execution_count": 50,
     "metadata": {},
     "output_type": "execute_result"
    }
   ],
   "source": [
    "lis.count(5)"
   ]
  },
  {
   "cell_type": "code",
   "execution_count": null,
   "id": "0de4478a",
   "metadata": {},
   "outputs": [],
   "source": [
    "#after remove() if we search it  it does not give error\n",
    "#after delete() if we search it  it does give error."
   ]
  }
 ],
 "metadata": {
  "kernelspec": {
   "display_name": "Python 3 (ipykernel)",
   "language": "python",
   "name": "python3"
  },
  "language_info": {
   "codemirror_mode": {
    "name": "ipython",
    "version": 3
   },
   "file_extension": ".py",
   "mimetype": "text/x-python",
   "name": "python",
   "nbconvert_exporter": "python",
   "pygments_lexer": "ipython3",
   "version": "3.10.9"
  }
 },
 "nbformat": 4,
 "nbformat_minor": 5
}
