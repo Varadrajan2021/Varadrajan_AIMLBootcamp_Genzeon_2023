{
  "nbformat": 4,
  "nbformat_minor": 0,
  "metadata": {
    "colab": {
      "provenance": []
    },
    "kernelspec": {
      "name": "python3",
      "display_name": "Python 3"
    },
    "language_info": {
      "name": "python"
    }
  },
  "cells": [
    {
      "cell_type": "markdown",
      "source": [],
      "metadata": {
        "id": "KvM1yUUxHumX"
      }
    },
    {
      "cell_type": "code",
      "execution_count": null,
      "metadata": {
        "id": "zYvykpk9mpe4"
      },
      "outputs": [],
      "source": []
    },
    {
      "cell_type": "code",
      "source": [
        "from google.colab import drive\n",
        "drive.mount('/content/drive')"
      ],
      "metadata": {
        "colab": {
          "base_uri": "https://localhost:8080/"
        },
        "id": "zugFbHrrmsWP",
        "outputId": "6e000eab-1434-44c8-e87d-977e3995d15f"
      },
      "execution_count": 1,
      "outputs": [
        {
          "output_type": "stream",
          "name": "stdout",
          "text": [
            "Mounted at /content/drive\n"
          ]
        }
      ]
    },
    {
      "cell_type": "code",
      "source": [
        "dataset='/content/drive/MyDrive/ML/Employee_StudyHours.csv'\n",
        "import pandas as pd\n",
        "df=pd.read_csv(dataset)#Reading data from file and storing it ##dataframe- terminology"
      ],
      "metadata": {
        "id": "5azUHZwRnX5b"
      },
      "execution_count": 2,
      "outputs": []
    },
    {
      "cell_type": "code",
      "source": [
        "df"
      ],
      "metadata": {
        "colab": {
          "base_uri": "https://localhost:8080/",
          "height": 1649
        },
        "id": "0BEk1vVvojBp",
        "outputId": "8529d717-9259-44a6-c667-2477b55606d6"
      },
      "execution_count": 3,
      "outputs": [
        {
          "output_type": "execute_result",
          "data": {
            "text/plain": [
              "    Hours  Scores\n",
              "0     2.5    21.0\n",
              "1     5.1    47.0\n",
              "2     3.2    27.0\n",
              "3     8.5    75.0\n",
              "4     3.5    30.0\n",
              "5     1.5    20.0\n",
              "6     9.2    88.0\n",
              "7     5.5    60.0\n",
              "8     8.3    81.0\n",
              "9     2.7    25.0\n",
              "10    7.7    85.0\n",
              "11    NaN    85.0\n",
              "12    5.9    62.0\n",
              "13    4.5    41.0\n",
              "14    3.3    42.0\n",
              "15    1.1    17.0\n",
              "16    8.9    95.0\n",
              "17    2.5    30.0\n",
              "18    3.4     NaN\n",
              "19    1.9    24.0\n",
              "20    6.1    67.0\n",
              "21    7.4    69.0\n",
              "22    2.7    30.0\n",
              "23    4.8    54.0\n",
              "24    3.8    35.0\n",
              "25    6.9    76.0\n",
              "26    7.8    86.0\n",
              "27    1.3    19.0\n",
              "28    2.6    30.0\n",
              "29    6.1    63.0\n",
              "30    NaN     NaN\n",
              "31    5.6    60.0"
            ],
            "text/html": [
              "\n",
              "  <div id=\"df-707bc183-5242-46a9-b1c6-b82876ee2b17\">\n",
              "    <div class=\"colab-df-container\">\n",
              "      <div>\n",
              "<style scoped>\n",
              "    .dataframe tbody tr th:only-of-type {\n",
              "        vertical-align: middle;\n",
              "    }\n",
              "\n",
              "    .dataframe tbody tr th {\n",
              "        vertical-align: top;\n",
              "    }\n",
              "\n",
              "    .dataframe thead th {\n",
              "        text-align: right;\n",
              "    }\n",
              "</style>\n",
              "<table border=\"1\" class=\"dataframe\">\n",
              "  <thead>\n",
              "    <tr style=\"text-align: right;\">\n",
              "      <th></th>\n",
              "      <th>Hours</th>\n",
              "      <th>Scores</th>\n",
              "    </tr>\n",
              "  </thead>\n",
              "  <tbody>\n",
              "    <tr>\n",
              "      <th>0</th>\n",
              "      <td>2.5</td>\n",
              "      <td>21.0</td>\n",
              "    </tr>\n",
              "    <tr>\n",
              "      <th>1</th>\n",
              "      <td>5.1</td>\n",
              "      <td>47.0</td>\n",
              "    </tr>\n",
              "    <tr>\n",
              "      <th>2</th>\n",
              "      <td>3.2</td>\n",
              "      <td>27.0</td>\n",
              "    </tr>\n",
              "    <tr>\n",
              "      <th>3</th>\n",
              "      <td>8.5</td>\n",
              "      <td>75.0</td>\n",
              "    </tr>\n",
              "    <tr>\n",
              "      <th>4</th>\n",
              "      <td>3.5</td>\n",
              "      <td>30.0</td>\n",
              "    </tr>\n",
              "    <tr>\n",
              "      <th>5</th>\n",
              "      <td>1.5</td>\n",
              "      <td>20.0</td>\n",
              "    </tr>\n",
              "    <tr>\n",
              "      <th>6</th>\n",
              "      <td>9.2</td>\n",
              "      <td>88.0</td>\n",
              "    </tr>\n",
              "    <tr>\n",
              "      <th>7</th>\n",
              "      <td>5.5</td>\n",
              "      <td>60.0</td>\n",
              "    </tr>\n",
              "    <tr>\n",
              "      <th>8</th>\n",
              "      <td>8.3</td>\n",
              "      <td>81.0</td>\n",
              "    </tr>\n",
              "    <tr>\n",
              "      <th>9</th>\n",
              "      <td>2.7</td>\n",
              "      <td>25.0</td>\n",
              "    </tr>\n",
              "    <tr>\n",
              "      <th>10</th>\n",
              "      <td>7.7</td>\n",
              "      <td>85.0</td>\n",
              "    </tr>\n",
              "    <tr>\n",
              "      <th>11</th>\n",
              "      <td>NaN</td>\n",
              "      <td>85.0</td>\n",
              "    </tr>\n",
              "    <tr>\n",
              "      <th>12</th>\n",
              "      <td>5.9</td>\n",
              "      <td>62.0</td>\n",
              "    </tr>\n",
              "    <tr>\n",
              "      <th>13</th>\n",
              "      <td>4.5</td>\n",
              "      <td>41.0</td>\n",
              "    </tr>\n",
              "    <tr>\n",
              "      <th>14</th>\n",
              "      <td>3.3</td>\n",
              "      <td>42.0</td>\n",
              "    </tr>\n",
              "    <tr>\n",
              "      <th>15</th>\n",
              "      <td>1.1</td>\n",
              "      <td>17.0</td>\n",
              "    </tr>\n",
              "    <tr>\n",
              "      <th>16</th>\n",
              "      <td>8.9</td>\n",
              "      <td>95.0</td>\n",
              "    </tr>\n",
              "    <tr>\n",
              "      <th>17</th>\n",
              "      <td>2.5</td>\n",
              "      <td>30.0</td>\n",
              "    </tr>\n",
              "    <tr>\n",
              "      <th>18</th>\n",
              "      <td>3.4</td>\n",
              "      <td>NaN</td>\n",
              "    </tr>\n",
              "    <tr>\n",
              "      <th>19</th>\n",
              "      <td>1.9</td>\n",
              "      <td>24.0</td>\n",
              "    </tr>\n",
              "    <tr>\n",
              "      <th>20</th>\n",
              "      <td>6.1</td>\n",
              "      <td>67.0</td>\n",
              "    </tr>\n",
              "    <tr>\n",
              "      <th>21</th>\n",
              "      <td>7.4</td>\n",
              "      <td>69.0</td>\n",
              "    </tr>\n",
              "    <tr>\n",
              "      <th>22</th>\n",
              "      <td>2.7</td>\n",
              "      <td>30.0</td>\n",
              "    </tr>\n",
              "    <tr>\n",
              "      <th>23</th>\n",
              "      <td>4.8</td>\n",
              "      <td>54.0</td>\n",
              "    </tr>\n",
              "    <tr>\n",
              "      <th>24</th>\n",
              "      <td>3.8</td>\n",
              "      <td>35.0</td>\n",
              "    </tr>\n",
              "    <tr>\n",
              "      <th>25</th>\n",
              "      <td>6.9</td>\n",
              "      <td>76.0</td>\n",
              "    </tr>\n",
              "    <tr>\n",
              "      <th>26</th>\n",
              "      <td>7.8</td>\n",
              "      <td>86.0</td>\n",
              "    </tr>\n",
              "    <tr>\n",
              "      <th>27</th>\n",
              "      <td>1.3</td>\n",
              "      <td>19.0</td>\n",
              "    </tr>\n",
              "    <tr>\n",
              "      <th>28</th>\n",
              "      <td>2.6</td>\n",
              "      <td>30.0</td>\n",
              "    </tr>\n",
              "    <tr>\n",
              "      <th>29</th>\n",
              "      <td>6.1</td>\n",
              "      <td>63.0</td>\n",
              "    </tr>\n",
              "    <tr>\n",
              "      <th>30</th>\n",
              "      <td>NaN</td>\n",
              "      <td>NaN</td>\n",
              "    </tr>\n",
              "    <tr>\n",
              "      <th>31</th>\n",
              "      <td>5.6</td>\n",
              "      <td>60.0</td>\n",
              "    </tr>\n",
              "  </tbody>\n",
              "</table>\n",
              "</div>\n",
              "      <button class=\"colab-df-convert\" onclick=\"convertToInteractive('df-707bc183-5242-46a9-b1c6-b82876ee2b17')\"\n",
              "              title=\"Convert this dataframe to an interactive table.\"\n",
              "              style=\"display:none;\">\n",
              "        \n",
              "  <svg xmlns=\"http://www.w3.org/2000/svg\" height=\"24px\"viewBox=\"0 0 24 24\"\n",
              "       width=\"24px\">\n",
              "    <path d=\"M0 0h24v24H0V0z\" fill=\"none\"/>\n",
              "    <path d=\"M18.56 5.44l.94 2.06.94-2.06 2.06-.94-2.06-.94-.94-2.06-.94 2.06-2.06.94zm-11 1L8.5 8.5l.94-2.06 2.06-.94-2.06-.94L8.5 2.5l-.94 2.06-2.06.94zm10 10l.94 2.06.94-2.06 2.06-.94-2.06-.94-.94-2.06-.94 2.06-2.06.94z\"/><path d=\"M17.41 7.96l-1.37-1.37c-.4-.4-.92-.59-1.43-.59-.52 0-1.04.2-1.43.59L10.3 9.45l-7.72 7.72c-.78.78-.78 2.05 0 2.83L4 21.41c.39.39.9.59 1.41.59.51 0 1.02-.2 1.41-.59l7.78-7.78 2.81-2.81c.8-.78.8-2.07 0-2.86zM5.41 20L4 18.59l7.72-7.72 1.47 1.35L5.41 20z\"/>\n",
              "  </svg>\n",
              "      </button>\n",
              "      \n",
              "  <style>\n",
              "    .colab-df-container {\n",
              "      display:flex;\n",
              "      flex-wrap:wrap;\n",
              "      gap: 12px;\n",
              "    }\n",
              "\n",
              "    .colab-df-convert {\n",
              "      background-color: #E8F0FE;\n",
              "      border: none;\n",
              "      border-radius: 50%;\n",
              "      cursor: pointer;\n",
              "      display: none;\n",
              "      fill: #1967D2;\n",
              "      height: 32px;\n",
              "      padding: 0 0 0 0;\n",
              "      width: 32px;\n",
              "    }\n",
              "\n",
              "    .colab-df-convert:hover {\n",
              "      background-color: #E2EBFA;\n",
              "      box-shadow: 0px 1px 2px rgba(60, 64, 67, 0.3), 0px 1px 3px 1px rgba(60, 64, 67, 0.15);\n",
              "      fill: #174EA6;\n",
              "    }\n",
              "\n",
              "    [theme=dark] .colab-df-convert {\n",
              "      background-color: #3B4455;\n",
              "      fill: #D2E3FC;\n",
              "    }\n",
              "\n",
              "    [theme=dark] .colab-df-convert:hover {\n",
              "      background-color: #434B5C;\n",
              "      box-shadow: 0px 1px 3px 1px rgba(0, 0, 0, 0.15);\n",
              "      filter: drop-shadow(0px 1px 2px rgba(0, 0, 0, 0.3));\n",
              "      fill: #FFFFFF;\n",
              "    }\n",
              "  </style>\n",
              "\n",
              "      <script>\n",
              "        const buttonEl =\n",
              "          document.querySelector('#df-707bc183-5242-46a9-b1c6-b82876ee2b17 button.colab-df-convert');\n",
              "        buttonEl.style.display =\n",
              "          google.colab.kernel.accessAllowed ? 'block' : 'none';\n",
              "\n",
              "        async function convertToInteractive(key) {\n",
              "          const element = document.querySelector('#df-707bc183-5242-46a9-b1c6-b82876ee2b17');\n",
              "          const dataTable =\n",
              "            await google.colab.kernel.invokeFunction('convertToInteractive',\n",
              "                                                     [key], {});\n",
              "          if (!dataTable) return;\n",
              "\n",
              "          const docLinkHtml = 'Like what you see? Visit the ' +\n",
              "            '<a target=\"_blank\" href=https://colab.research.google.com/notebooks/data_table.ipynb>data table notebook</a>'\n",
              "            + ' to learn more about interactive tables.';\n",
              "          element.innerHTML = '';\n",
              "          dataTable['output_type'] = 'display_data';\n",
              "          await google.colab.output.renderOutput(dataTable, element);\n",
              "          const docLink = document.createElement('div');\n",
              "          docLink.innerHTML = docLinkHtml;\n",
              "          element.appendChild(docLink);\n",
              "        }\n",
              "      </script>\n",
              "    </div>\n",
              "  </div>\n",
              "  "
            ]
          },
          "metadata": {},
          "execution_count": 3
        },
        {
          "output_type": "display_data",
          "data": {
            "text/plain": [
              "<google.colab._quickchart_helpers.SectionTitle at 0x7fb2367ebe50>"
            ],
            "text/html": [
              "<h4 class=\"colab-quickchart-section-title\">Distributions</h4>\n",
              "<style>\n",
              "  .colab-quickchart-section-title {\n",
              "      clear: both;\n",
              "  }\n",
              "</style>"
            ]
          },
          "metadata": {}
        },
        {
          "output_type": "display_data",
          "data": {
            "text/plain": [
              "import altair as alt\n",
              "from google.colab import autoviz\n",
              "df_1173136793127004957 = autoviz.get_registered_df('df_1173136793127004957')\n",
              "\n",
              "def histogram(df, colname, maxbins=20, width=100, height=50):\n",
              "  return (alt.Chart(df).mark_bar()\n",
              "          .encode(\n",
              "              x=alt.X(colname, bin=alt.Bin(maxbins=maxbins)),\n",
              "              y=alt.Y('count()', axis=alt.Axis(title='count')),\n",
              "          )\n",
              "          .properties(width=width, height=height))  #  Pixels.\n",
              "\n",
              "chart = histogram(df_1173136793127004957, *['index'], **{})\n",
              "chart"
            ],
            "text/html": [
              "      <div class=\"colab-quickchart-chart-with-code\" id=\"chart-2ed2d336-2452-4dde-9cbb-42d77a8c835f\">\n",
              "        \n",
              "<div id=\"altair-viz-ca3798fe927f4d26b95a64311e73420a\"></div>\n",
              "\n",
              "      </div>\n",
              "      <script type=\"text/javascript\">\n",
              "  var VEGA_DEBUG = (typeof VEGA_DEBUG == \"undefined\") ? {} : VEGA_DEBUG;\n",
              "  (function(spec, embedOpt){\n",
              "    let outputDiv = document.currentScript.previousElementSibling;\n",
              "    if (outputDiv.id !== \"altair-viz-ca3798fe927f4d26b95a64311e73420a\") {\n",
              "      outputDiv = document.getElementById(\"altair-viz-ca3798fe927f4d26b95a64311e73420a\");\n",
              "    }\n",
              "    const paths = {\n",
              "      \"vega\": \"https://cdn.jsdelivr.net/npm//vega@5?noext\",\n",
              "      \"vega-lib\": \"https://cdn.jsdelivr.net/npm//vega-lib?noext\",\n",
              "      \"vega-lite\": \"https://cdn.jsdelivr.net/npm//vega-lite@4.17.0?noext\",\n",
              "      \"vega-embed\": \"https://cdn.jsdelivr.net/npm//vega-embed@6?noext\",\n",
              "    };\n",
              "\n",
              "    function maybeLoadScript(lib, version) {\n",
              "      var key = `${lib.replace(\"-\", \"\")}_version`;\n",
              "      return (VEGA_DEBUG[key] == version) ?\n",
              "        Promise.resolve(paths[lib]) :\n",
              "        new Promise(function(resolve, reject) {\n",
              "          var s = document.createElement('script');\n",
              "          document.getElementsByTagName(\"head\")[0].appendChild(s);\n",
              "          s.async = true;\n",
              "          s.onload = () => {\n",
              "            VEGA_DEBUG[key] = version;\n",
              "            return resolve(paths[lib]);\n",
              "          };\n",
              "          s.onerror = () => reject(`Error loading script: ${paths[lib]}`);\n",
              "          s.src = paths[lib];\n",
              "        });\n",
              "    }\n",
              "\n",
              "    function showError(err) {\n",
              "      outputDiv.innerHTML = `<div class=\"error\" style=\"color:red;\">${err}</div>`;\n",
              "      throw err;\n",
              "    }\n",
              "\n",
              "    function displayChart(vegaEmbed) {\n",
              "      vegaEmbed(outputDiv, spec, embedOpt)\n",
              "        .catch(err => showError(`Javascript Error: ${err.message}<br>This usually means there's a typo in your chart specification. See the javascript console for the full traceback.`));\n",
              "    }\n",
              "\n",
              "    if(typeof define === \"function\" && define.amd) {\n",
              "      requirejs.config({paths});\n",
              "      require([\"vega-embed\"], displayChart, err => showError(`Error loading script: ${err.message}`));\n",
              "    } else {\n",
              "      maybeLoadScript(\"vega\", \"5\")\n",
              "        .then(() => maybeLoadScript(\"vega-lite\", \"4.17.0\"))\n",
              "        .then(() => maybeLoadScript(\"vega-embed\", \"6\"))\n",
              "        .catch(showError)\n",
              "        .then(() => displayChart(vegaEmbed));\n",
              "    }\n",
              "  })({\"config\": {\"view\": {\"continuousWidth\": 400, \"continuousHeight\": 300}}, \"data\": {\"name\": \"data-9c26edb95f397bbe612cac3d9ebe3ba4\"}, \"mark\": \"bar\", \"encoding\": {\"x\": {\"bin\": {\"maxbins\": 20}, \"field\": \"index\", \"type\": \"quantitative\"}, \"y\": {\"aggregate\": \"count\", \"axis\": {\"title\": \"count\"}, \"type\": \"quantitative\"}}, \"height\": 50, \"width\": 100, \"$schema\": \"https://vega.github.io/schema/vega-lite/v4.17.0.json\", \"datasets\": {\"data-9c26edb95f397bbe612cac3d9ebe3ba4\": [{\"index\": 0, \"Hours\": 2.5, \"Scores\": 21.0}, {\"index\": 1, \"Hours\": 5.1, \"Scores\": 47.0}, {\"index\": 2, \"Hours\": 3.2, \"Scores\": 27.0}, {\"index\": 3, \"Hours\": 8.5, \"Scores\": 75.0}, {\"index\": 4, \"Hours\": 3.5, \"Scores\": 30.0}, {\"index\": 5, \"Hours\": 1.5, \"Scores\": 20.0}, {\"index\": 6, \"Hours\": 9.2, \"Scores\": 88.0}, {\"index\": 7, \"Hours\": 5.5, \"Scores\": 60.0}, {\"index\": 8, \"Hours\": 8.3, \"Scores\": 81.0}, {\"index\": 9, \"Hours\": 2.7, \"Scores\": 25.0}, {\"index\": 10, \"Hours\": 7.7, \"Scores\": 85.0}, {\"index\": 11, \"Hours\": null, \"Scores\": 85.0}, {\"index\": 12, \"Hours\": 5.9, \"Scores\": 62.0}, {\"index\": 13, \"Hours\": 4.5, \"Scores\": 41.0}, {\"index\": 14, \"Hours\": 3.3, \"Scores\": 42.0}, {\"index\": 15, \"Hours\": 1.1, \"Scores\": 17.0}, {\"index\": 16, \"Hours\": 8.9, \"Scores\": 95.0}, {\"index\": 17, \"Hours\": 2.5, \"Scores\": 30.0}, {\"index\": 18, \"Hours\": 3.4, \"Scores\": null}, {\"index\": 19, \"Hours\": 1.9, \"Scores\": 24.0}, {\"index\": 20, \"Hours\": 6.1, \"Scores\": 67.0}, {\"index\": 21, \"Hours\": 7.4, \"Scores\": 69.0}, {\"index\": 22, \"Hours\": 2.7, \"Scores\": 30.0}, {\"index\": 23, \"Hours\": 4.8, \"Scores\": 54.0}, {\"index\": 24, \"Hours\": 3.8, \"Scores\": 35.0}, {\"index\": 25, \"Hours\": 6.9, \"Scores\": 76.0}, {\"index\": 26, \"Hours\": 7.8, \"Scores\": 86.0}, {\"index\": 27, \"Hours\": 1.3, \"Scores\": 19.0}, {\"index\": 28, \"Hours\": 2.6, \"Scores\": 30.0}, {\"index\": 29, \"Hours\": 6.1, \"Scores\": 63.0}, {\"index\": 30, \"Hours\": null, \"Scores\": null}, {\"index\": 31, \"Hours\": 5.6, \"Scores\": 60.0}]}}, {\"mode\": \"vega-lite\"});\n",
              "</script>\n",
              "      <script type=\"text/javascript\">\n",
              "        (() => {\n",
              "          const chartElement = document.getElementById(\"chart-2ed2d336-2452-4dde-9cbb-42d77a8c835f\");\n",
              "          async function getCodeForChartHandler(event) {\n",
              "            const chartCodeResponse =  await google.colab.kernel.invokeFunction(\n",
              "                'getCodeForChart', [\"chart-2ed2d336-2452-4dde-9cbb-42d77a8c835f\"], {});\n",
              "            const responseJson = chartCodeResponse.data['application/json'];\n",
              "            await google.colab.notebook.addCell(responseJson.code, 'code');\n",
              "          }\n",
              "          chartElement.onclick = getCodeForChartHandler;\n",
              "        })();\n",
              "      </script>\n",
              "      <style>\n",
              "        .colab-quickchart-chart-with-code  {\n",
              "            display: block;\n",
              "            float: left;\n",
              "            border: 1px solid transparent;\n",
              "        }\n",
              "\n",
              "        .colab-quickchart-chart-with-code:hover {\n",
              "            cursor: pointer;\n",
              "            border: 1px solid #aaa;\n",
              "        }\n",
              "      </style>"
            ]
          },
          "metadata": {}
        },
        {
          "output_type": "display_data",
          "data": {
            "text/plain": [
              "import altair as alt\n",
              "from google.colab import autoviz\n",
              "df_1173136793127004957 = autoviz.get_registered_df('df_1173136793127004957')\n",
              "\n",
              "def histogram(df, colname, maxbins=20, width=100, height=50):\n",
              "  return (alt.Chart(df).mark_bar()\n",
              "          .encode(\n",
              "              x=alt.X(colname, bin=alt.Bin(maxbins=maxbins)),\n",
              "              y=alt.Y('count()', axis=alt.Axis(title='count')),\n",
              "          )\n",
              "          .properties(width=width, height=height))  #  Pixels.\n",
              "\n",
              "chart = histogram(df_1173136793127004957, *['Hours'], **{})\n",
              "chart"
            ],
            "text/html": [
              "      <div class=\"colab-quickchart-chart-with-code\" id=\"chart-3543225f-af18-4e04-9330-725851751f16\">\n",
              "        \n",
              "<div id=\"altair-viz-207c36bc867141b6a4b295504a33f03a\"></div>\n",
              "\n",
              "      </div>\n",
              "      <script type=\"text/javascript\">\n",
              "  var VEGA_DEBUG = (typeof VEGA_DEBUG == \"undefined\") ? {} : VEGA_DEBUG;\n",
              "  (function(spec, embedOpt){\n",
              "    let outputDiv = document.currentScript.previousElementSibling;\n",
              "    if (outputDiv.id !== \"altair-viz-207c36bc867141b6a4b295504a33f03a\") {\n",
              "      outputDiv = document.getElementById(\"altair-viz-207c36bc867141b6a4b295504a33f03a\");\n",
              "    }\n",
              "    const paths = {\n",
              "      \"vega\": \"https://cdn.jsdelivr.net/npm//vega@5?noext\",\n",
              "      \"vega-lib\": \"https://cdn.jsdelivr.net/npm//vega-lib?noext\",\n",
              "      \"vega-lite\": \"https://cdn.jsdelivr.net/npm//vega-lite@4.17.0?noext\",\n",
              "      \"vega-embed\": \"https://cdn.jsdelivr.net/npm//vega-embed@6?noext\",\n",
              "    };\n",
              "\n",
              "    function maybeLoadScript(lib, version) {\n",
              "      var key = `${lib.replace(\"-\", \"\")}_version`;\n",
              "      return (VEGA_DEBUG[key] == version) ?\n",
              "        Promise.resolve(paths[lib]) :\n",
              "        new Promise(function(resolve, reject) {\n",
              "          var s = document.createElement('script');\n",
              "          document.getElementsByTagName(\"head\")[0].appendChild(s);\n",
              "          s.async = true;\n",
              "          s.onload = () => {\n",
              "            VEGA_DEBUG[key] = version;\n",
              "            return resolve(paths[lib]);\n",
              "          };\n",
              "          s.onerror = () => reject(`Error loading script: ${paths[lib]}`);\n",
              "          s.src = paths[lib];\n",
              "        });\n",
              "    }\n",
              "\n",
              "    function showError(err) {\n",
              "      outputDiv.innerHTML = `<div class=\"error\" style=\"color:red;\">${err}</div>`;\n",
              "      throw err;\n",
              "    }\n",
              "\n",
              "    function displayChart(vegaEmbed) {\n",
              "      vegaEmbed(outputDiv, spec, embedOpt)\n",
              "        .catch(err => showError(`Javascript Error: ${err.message}<br>This usually means there's a typo in your chart specification. See the javascript console for the full traceback.`));\n",
              "    }\n",
              "\n",
              "    if(typeof define === \"function\" && define.amd) {\n",
              "      requirejs.config({paths});\n",
              "      require([\"vega-embed\"], displayChart, err => showError(`Error loading script: ${err.message}`));\n",
              "    } else {\n",
              "      maybeLoadScript(\"vega\", \"5\")\n",
              "        .then(() => maybeLoadScript(\"vega-lite\", \"4.17.0\"))\n",
              "        .then(() => maybeLoadScript(\"vega-embed\", \"6\"))\n",
              "        .catch(showError)\n",
              "        .then(() => displayChart(vegaEmbed));\n",
              "    }\n",
              "  })({\"config\": {\"view\": {\"continuousWidth\": 400, \"continuousHeight\": 300}}, \"data\": {\"name\": \"data-9c26edb95f397bbe612cac3d9ebe3ba4\"}, \"mark\": \"bar\", \"encoding\": {\"x\": {\"bin\": {\"maxbins\": 20}, \"field\": \"Hours\", \"type\": \"quantitative\"}, \"y\": {\"aggregate\": \"count\", \"axis\": {\"title\": \"count\"}, \"type\": \"quantitative\"}}, \"height\": 50, \"width\": 100, \"$schema\": \"https://vega.github.io/schema/vega-lite/v4.17.0.json\", \"datasets\": {\"data-9c26edb95f397bbe612cac3d9ebe3ba4\": [{\"index\": 0, \"Hours\": 2.5, \"Scores\": 21.0}, {\"index\": 1, \"Hours\": 5.1, \"Scores\": 47.0}, {\"index\": 2, \"Hours\": 3.2, \"Scores\": 27.0}, {\"index\": 3, \"Hours\": 8.5, \"Scores\": 75.0}, {\"index\": 4, \"Hours\": 3.5, \"Scores\": 30.0}, {\"index\": 5, \"Hours\": 1.5, \"Scores\": 20.0}, {\"index\": 6, \"Hours\": 9.2, \"Scores\": 88.0}, {\"index\": 7, \"Hours\": 5.5, \"Scores\": 60.0}, {\"index\": 8, \"Hours\": 8.3, \"Scores\": 81.0}, {\"index\": 9, \"Hours\": 2.7, \"Scores\": 25.0}, {\"index\": 10, \"Hours\": 7.7, \"Scores\": 85.0}, {\"index\": 11, \"Hours\": null, \"Scores\": 85.0}, {\"index\": 12, \"Hours\": 5.9, \"Scores\": 62.0}, {\"index\": 13, \"Hours\": 4.5, \"Scores\": 41.0}, {\"index\": 14, \"Hours\": 3.3, \"Scores\": 42.0}, {\"index\": 15, \"Hours\": 1.1, \"Scores\": 17.0}, {\"index\": 16, \"Hours\": 8.9, \"Scores\": 95.0}, {\"index\": 17, \"Hours\": 2.5, \"Scores\": 30.0}, {\"index\": 18, \"Hours\": 3.4, \"Scores\": null}, {\"index\": 19, \"Hours\": 1.9, \"Scores\": 24.0}, {\"index\": 20, \"Hours\": 6.1, \"Scores\": 67.0}, {\"index\": 21, \"Hours\": 7.4, \"Scores\": 69.0}, {\"index\": 22, \"Hours\": 2.7, \"Scores\": 30.0}, {\"index\": 23, \"Hours\": 4.8, \"Scores\": 54.0}, {\"index\": 24, \"Hours\": 3.8, \"Scores\": 35.0}, {\"index\": 25, \"Hours\": 6.9, \"Scores\": 76.0}, {\"index\": 26, \"Hours\": 7.8, \"Scores\": 86.0}, {\"index\": 27, \"Hours\": 1.3, \"Scores\": 19.0}, {\"index\": 28, \"Hours\": 2.6, \"Scores\": 30.0}, {\"index\": 29, \"Hours\": 6.1, \"Scores\": 63.0}, {\"index\": 30, \"Hours\": null, \"Scores\": null}, {\"index\": 31, \"Hours\": 5.6, \"Scores\": 60.0}]}}, {\"mode\": \"vega-lite\"});\n",
              "</script>\n",
              "      <script type=\"text/javascript\">\n",
              "        (() => {\n",
              "          const chartElement = document.getElementById(\"chart-3543225f-af18-4e04-9330-725851751f16\");\n",
              "          async function getCodeForChartHandler(event) {\n",
              "            const chartCodeResponse =  await google.colab.kernel.invokeFunction(\n",
              "                'getCodeForChart', [\"chart-3543225f-af18-4e04-9330-725851751f16\"], {});\n",
              "            const responseJson = chartCodeResponse.data['application/json'];\n",
              "            await google.colab.notebook.addCell(responseJson.code, 'code');\n",
              "          }\n",
              "          chartElement.onclick = getCodeForChartHandler;\n",
              "        })();\n",
              "      </script>\n",
              "      <style>\n",
              "        .colab-quickchart-chart-with-code  {\n",
              "            display: block;\n",
              "            float: left;\n",
              "            border: 1px solid transparent;\n",
              "        }\n",
              "\n",
              "        .colab-quickchart-chart-with-code:hover {\n",
              "            cursor: pointer;\n",
              "            border: 1px solid #aaa;\n",
              "        }\n",
              "      </style>"
            ]
          },
          "metadata": {}
        },
        {
          "output_type": "display_data",
          "data": {
            "text/plain": [
              "import altair as alt\n",
              "from google.colab import autoviz\n",
              "df_1173136793127004957 = autoviz.get_registered_df('df_1173136793127004957')\n",
              "\n",
              "def histogram(df, colname, maxbins=20, width=100, height=50):\n",
              "  return (alt.Chart(df).mark_bar()\n",
              "          .encode(\n",
              "              x=alt.X(colname, bin=alt.Bin(maxbins=maxbins)),\n",
              "              y=alt.Y('count()', axis=alt.Axis(title='count')),\n",
              "          )\n",
              "          .properties(width=width, height=height))  #  Pixels.\n",
              "\n",
              "chart = histogram(df_1173136793127004957, *['Scores'], **{})\n",
              "chart"
            ],
            "text/html": [
              "      <div class=\"colab-quickchart-chart-with-code\" id=\"chart-4010bef2-9b9e-43a2-bb08-11d73db6fef6\">\n",
              "        \n",
              "<div id=\"altair-viz-21a987ead4e34a80ad2899f35dc302a5\"></div>\n",
              "\n",
              "      </div>\n",
              "      <script type=\"text/javascript\">\n",
              "  var VEGA_DEBUG = (typeof VEGA_DEBUG == \"undefined\") ? {} : VEGA_DEBUG;\n",
              "  (function(spec, embedOpt){\n",
              "    let outputDiv = document.currentScript.previousElementSibling;\n",
              "    if (outputDiv.id !== \"altair-viz-21a987ead4e34a80ad2899f35dc302a5\") {\n",
              "      outputDiv = document.getElementById(\"altair-viz-21a987ead4e34a80ad2899f35dc302a5\");\n",
              "    }\n",
              "    const paths = {\n",
              "      \"vega\": \"https://cdn.jsdelivr.net/npm//vega@5?noext\",\n",
              "      \"vega-lib\": \"https://cdn.jsdelivr.net/npm//vega-lib?noext\",\n",
              "      \"vega-lite\": \"https://cdn.jsdelivr.net/npm//vega-lite@4.17.0?noext\",\n",
              "      \"vega-embed\": \"https://cdn.jsdelivr.net/npm//vega-embed@6?noext\",\n",
              "    };\n",
              "\n",
              "    function maybeLoadScript(lib, version) {\n",
              "      var key = `${lib.replace(\"-\", \"\")}_version`;\n",
              "      return (VEGA_DEBUG[key] == version) ?\n",
              "        Promise.resolve(paths[lib]) :\n",
              "        new Promise(function(resolve, reject) {\n",
              "          var s = document.createElement('script');\n",
              "          document.getElementsByTagName(\"head\")[0].appendChild(s);\n",
              "          s.async = true;\n",
              "          s.onload = () => {\n",
              "            VEGA_DEBUG[key] = version;\n",
              "            return resolve(paths[lib]);\n",
              "          };\n",
              "          s.onerror = () => reject(`Error loading script: ${paths[lib]}`);\n",
              "          s.src = paths[lib];\n",
              "        });\n",
              "    }\n",
              "\n",
              "    function showError(err) {\n",
              "      outputDiv.innerHTML = `<div class=\"error\" style=\"color:red;\">${err}</div>`;\n",
              "      throw err;\n",
              "    }\n",
              "\n",
              "    function displayChart(vegaEmbed) {\n",
              "      vegaEmbed(outputDiv, spec, embedOpt)\n",
              "        .catch(err => showError(`Javascript Error: ${err.message}<br>This usually means there's a typo in your chart specification. See the javascript console for the full traceback.`));\n",
              "    }\n",
              "\n",
              "    if(typeof define === \"function\" && define.amd) {\n",
              "      requirejs.config({paths});\n",
              "      require([\"vega-embed\"], displayChart, err => showError(`Error loading script: ${err.message}`));\n",
              "    } else {\n",
              "      maybeLoadScript(\"vega\", \"5\")\n",
              "        .then(() => maybeLoadScript(\"vega-lite\", \"4.17.0\"))\n",
              "        .then(() => maybeLoadScript(\"vega-embed\", \"6\"))\n",
              "        .catch(showError)\n",
              "        .then(() => displayChart(vegaEmbed));\n",
              "    }\n",
              "  })({\"config\": {\"view\": {\"continuousWidth\": 400, \"continuousHeight\": 300}}, \"data\": {\"name\": \"data-9c26edb95f397bbe612cac3d9ebe3ba4\"}, \"mark\": \"bar\", \"encoding\": {\"x\": {\"bin\": {\"maxbins\": 20}, \"field\": \"Scores\", \"type\": \"quantitative\"}, \"y\": {\"aggregate\": \"count\", \"axis\": {\"title\": \"count\"}, \"type\": \"quantitative\"}}, \"height\": 50, \"width\": 100, \"$schema\": \"https://vega.github.io/schema/vega-lite/v4.17.0.json\", \"datasets\": {\"data-9c26edb95f397bbe612cac3d9ebe3ba4\": [{\"index\": 0, \"Hours\": 2.5, \"Scores\": 21.0}, {\"index\": 1, \"Hours\": 5.1, \"Scores\": 47.0}, {\"index\": 2, \"Hours\": 3.2, \"Scores\": 27.0}, {\"index\": 3, \"Hours\": 8.5, \"Scores\": 75.0}, {\"index\": 4, \"Hours\": 3.5, \"Scores\": 30.0}, {\"index\": 5, \"Hours\": 1.5, \"Scores\": 20.0}, {\"index\": 6, \"Hours\": 9.2, \"Scores\": 88.0}, {\"index\": 7, \"Hours\": 5.5, \"Scores\": 60.0}, {\"index\": 8, \"Hours\": 8.3, \"Scores\": 81.0}, {\"index\": 9, \"Hours\": 2.7, \"Scores\": 25.0}, {\"index\": 10, \"Hours\": 7.7, \"Scores\": 85.0}, {\"index\": 11, \"Hours\": null, \"Scores\": 85.0}, {\"index\": 12, \"Hours\": 5.9, \"Scores\": 62.0}, {\"index\": 13, \"Hours\": 4.5, \"Scores\": 41.0}, {\"index\": 14, \"Hours\": 3.3, \"Scores\": 42.0}, {\"index\": 15, \"Hours\": 1.1, \"Scores\": 17.0}, {\"index\": 16, \"Hours\": 8.9, \"Scores\": 95.0}, {\"index\": 17, \"Hours\": 2.5, \"Scores\": 30.0}, {\"index\": 18, \"Hours\": 3.4, \"Scores\": null}, {\"index\": 19, \"Hours\": 1.9, \"Scores\": 24.0}, {\"index\": 20, \"Hours\": 6.1, \"Scores\": 67.0}, {\"index\": 21, \"Hours\": 7.4, \"Scores\": 69.0}, {\"index\": 22, \"Hours\": 2.7, \"Scores\": 30.0}, {\"index\": 23, \"Hours\": 4.8, \"Scores\": 54.0}, {\"index\": 24, \"Hours\": 3.8, \"Scores\": 35.0}, {\"index\": 25, \"Hours\": 6.9, \"Scores\": 76.0}, {\"index\": 26, \"Hours\": 7.8, \"Scores\": 86.0}, {\"index\": 27, \"Hours\": 1.3, \"Scores\": 19.0}, {\"index\": 28, \"Hours\": 2.6, \"Scores\": 30.0}, {\"index\": 29, \"Hours\": 6.1, \"Scores\": 63.0}, {\"index\": 30, \"Hours\": null, \"Scores\": null}, {\"index\": 31, \"Hours\": 5.6, \"Scores\": 60.0}]}}, {\"mode\": \"vega-lite\"});\n",
              "</script>\n",
              "      <script type=\"text/javascript\">\n",
              "        (() => {\n",
              "          const chartElement = document.getElementById(\"chart-4010bef2-9b9e-43a2-bb08-11d73db6fef6\");\n",
              "          async function getCodeForChartHandler(event) {\n",
              "            const chartCodeResponse =  await google.colab.kernel.invokeFunction(\n",
              "                'getCodeForChart', [\"chart-4010bef2-9b9e-43a2-bb08-11d73db6fef6\"], {});\n",
              "            const responseJson = chartCodeResponse.data['application/json'];\n",
              "            await google.colab.notebook.addCell(responseJson.code, 'code');\n",
              "          }\n",
              "          chartElement.onclick = getCodeForChartHandler;\n",
              "        })();\n",
              "      </script>\n",
              "      <style>\n",
              "        .colab-quickchart-chart-with-code  {\n",
              "            display: block;\n",
              "            float: left;\n",
              "            border: 1px solid transparent;\n",
              "        }\n",
              "\n",
              "        .colab-quickchart-chart-with-code:hover {\n",
              "            cursor: pointer;\n",
              "            border: 1px solid #aaa;\n",
              "        }\n",
              "      </style>"
            ]
          },
          "metadata": {}
        },
        {
          "output_type": "display_data",
          "data": {
            "text/plain": [
              "<google.colab._quickchart_helpers.SectionTitle at 0x7fb236809a50>"
            ],
            "text/html": [
              "<h4 class=\"colab-quickchart-section-title\">Values</h4>\n",
              "<style>\n",
              "  .colab-quickchart-section-title {\n",
              "      clear: both;\n",
              "  }\n",
              "</style>"
            ]
          },
          "metadata": {}
        },
        {
          "output_type": "display_data",
          "data": {
            "text/plain": [
              "import altair as alt\n",
              "from google.colab import autoviz\n",
              "df_1173136793127004957 = autoviz.get_registered_df('df_1173136793127004957')\n",
              "\n",
              "def value_plot(df, y, sort_ascending=False, width=100, height=50):\n",
              "  if sort_ascending:\n",
              "    df = df.sort_values(y).reset_index(drop=True)\n",
              "  return (alt.Chart(df.reset_index()).mark_line()\n",
              "          .encode(x=alt.X('index', title=''), y=alt.X(y, title='value'))\n",
              "          .properties(width=width, height=height, title=y))\n",
              "\n",
              "chart = value_plot(df_1173136793127004957, *['index'], **{})\n",
              "chart"
            ],
            "text/html": [
              "      <div class=\"colab-quickchart-chart-with-code\" id=\"chart-196be0ee-3d0c-4738-83c1-e543b7a2b247\">\n",
              "        \n",
              "<div id=\"altair-viz-4c1eb62fb14f4ef0af7a1cde2464fb99\"></div>\n",
              "\n",
              "      </div>\n",
              "      <script type=\"text/javascript\">\n",
              "  var VEGA_DEBUG = (typeof VEGA_DEBUG == \"undefined\") ? {} : VEGA_DEBUG;\n",
              "  (function(spec, embedOpt){\n",
              "    let outputDiv = document.currentScript.previousElementSibling;\n",
              "    if (outputDiv.id !== \"altair-viz-4c1eb62fb14f4ef0af7a1cde2464fb99\") {\n",
              "      outputDiv = document.getElementById(\"altair-viz-4c1eb62fb14f4ef0af7a1cde2464fb99\");\n",
              "    }\n",
              "    const paths = {\n",
              "      \"vega\": \"https://cdn.jsdelivr.net/npm//vega@5?noext\",\n",
              "      \"vega-lib\": \"https://cdn.jsdelivr.net/npm//vega-lib?noext\",\n",
              "      \"vega-lite\": \"https://cdn.jsdelivr.net/npm//vega-lite@4.17.0?noext\",\n",
              "      \"vega-embed\": \"https://cdn.jsdelivr.net/npm//vega-embed@6?noext\",\n",
              "    };\n",
              "\n",
              "    function maybeLoadScript(lib, version) {\n",
              "      var key = `${lib.replace(\"-\", \"\")}_version`;\n",
              "      return (VEGA_DEBUG[key] == version) ?\n",
              "        Promise.resolve(paths[lib]) :\n",
              "        new Promise(function(resolve, reject) {\n",
              "          var s = document.createElement('script');\n",
              "          document.getElementsByTagName(\"head\")[0].appendChild(s);\n",
              "          s.async = true;\n",
              "          s.onload = () => {\n",
              "            VEGA_DEBUG[key] = version;\n",
              "            return resolve(paths[lib]);\n",
              "          };\n",
              "          s.onerror = () => reject(`Error loading script: ${paths[lib]}`);\n",
              "          s.src = paths[lib];\n",
              "        });\n",
              "    }\n",
              "\n",
              "    function showError(err) {\n",
              "      outputDiv.innerHTML = `<div class=\"error\" style=\"color:red;\">${err}</div>`;\n",
              "      throw err;\n",
              "    }\n",
              "\n",
              "    function displayChart(vegaEmbed) {\n",
              "      vegaEmbed(outputDiv, spec, embedOpt)\n",
              "        .catch(err => showError(`Javascript Error: ${err.message}<br>This usually means there's a typo in your chart specification. See the javascript console for the full traceback.`));\n",
              "    }\n",
              "\n",
              "    if(typeof define === \"function\" && define.amd) {\n",
              "      requirejs.config({paths});\n",
              "      require([\"vega-embed\"], displayChart, err => showError(`Error loading script: ${err.message}`));\n",
              "    } else {\n",
              "      maybeLoadScript(\"vega\", \"5\")\n",
              "        .then(() => maybeLoadScript(\"vega-lite\", \"4.17.0\"))\n",
              "        .then(() => maybeLoadScript(\"vega-embed\", \"6\"))\n",
              "        .catch(showError)\n",
              "        .then(() => displayChart(vegaEmbed));\n",
              "    }\n",
              "  })({\"config\": {\"view\": {\"continuousWidth\": 400, \"continuousHeight\": 300}}, \"data\": {\"name\": \"data-af819c19360ea9a462d74b96a657897e\"}, \"mark\": \"line\", \"encoding\": {\"x\": {\"field\": \"index\", \"title\": \"\", \"type\": \"quantitative\"}, \"y\": {\"field\": \"index\", \"title\": \"value\", \"type\": \"quantitative\"}}, \"height\": 50, \"title\": \"index\", \"width\": 100, \"$schema\": \"https://vega.github.io/schema/vega-lite/v4.17.0.json\", \"datasets\": {\"data-af819c19360ea9a462d74b96a657897e\": [{\"level_0\": 0, \"index\": 0, \"Hours\": 2.5, \"Scores\": 21.0}, {\"level_0\": 1, \"index\": 1, \"Hours\": 5.1, \"Scores\": 47.0}, {\"level_0\": 2, \"index\": 2, \"Hours\": 3.2, \"Scores\": 27.0}, {\"level_0\": 3, \"index\": 3, \"Hours\": 8.5, \"Scores\": 75.0}, {\"level_0\": 4, \"index\": 4, \"Hours\": 3.5, \"Scores\": 30.0}, {\"level_0\": 5, \"index\": 5, \"Hours\": 1.5, \"Scores\": 20.0}, {\"level_0\": 6, \"index\": 6, \"Hours\": 9.2, \"Scores\": 88.0}, {\"level_0\": 7, \"index\": 7, \"Hours\": 5.5, \"Scores\": 60.0}, {\"level_0\": 8, \"index\": 8, \"Hours\": 8.3, \"Scores\": 81.0}, {\"level_0\": 9, \"index\": 9, \"Hours\": 2.7, \"Scores\": 25.0}, {\"level_0\": 10, \"index\": 10, \"Hours\": 7.7, \"Scores\": 85.0}, {\"level_0\": 11, \"index\": 11, \"Hours\": null, \"Scores\": 85.0}, {\"level_0\": 12, \"index\": 12, \"Hours\": 5.9, \"Scores\": 62.0}, {\"level_0\": 13, \"index\": 13, \"Hours\": 4.5, \"Scores\": 41.0}, {\"level_0\": 14, \"index\": 14, \"Hours\": 3.3, \"Scores\": 42.0}, {\"level_0\": 15, \"index\": 15, \"Hours\": 1.1, \"Scores\": 17.0}, {\"level_0\": 16, \"index\": 16, \"Hours\": 8.9, \"Scores\": 95.0}, {\"level_0\": 17, \"index\": 17, \"Hours\": 2.5, \"Scores\": 30.0}, {\"level_0\": 18, \"index\": 18, \"Hours\": 3.4, \"Scores\": null}, {\"level_0\": 19, \"index\": 19, \"Hours\": 1.9, \"Scores\": 24.0}, {\"level_0\": 20, \"index\": 20, \"Hours\": 6.1, \"Scores\": 67.0}, {\"level_0\": 21, \"index\": 21, \"Hours\": 7.4, \"Scores\": 69.0}, {\"level_0\": 22, \"index\": 22, \"Hours\": 2.7, \"Scores\": 30.0}, {\"level_0\": 23, \"index\": 23, \"Hours\": 4.8, \"Scores\": 54.0}, {\"level_0\": 24, \"index\": 24, \"Hours\": 3.8, \"Scores\": 35.0}, {\"level_0\": 25, \"index\": 25, \"Hours\": 6.9, \"Scores\": 76.0}, {\"level_0\": 26, \"index\": 26, \"Hours\": 7.8, \"Scores\": 86.0}, {\"level_0\": 27, \"index\": 27, \"Hours\": 1.3, \"Scores\": 19.0}, {\"level_0\": 28, \"index\": 28, \"Hours\": 2.6, \"Scores\": 30.0}, {\"level_0\": 29, \"index\": 29, \"Hours\": 6.1, \"Scores\": 63.0}, {\"level_0\": 30, \"index\": 30, \"Hours\": null, \"Scores\": null}, {\"level_0\": 31, \"index\": 31, \"Hours\": 5.6, \"Scores\": 60.0}]}}, {\"mode\": \"vega-lite\"});\n",
              "</script>\n",
              "      <script type=\"text/javascript\">\n",
              "        (() => {\n",
              "          const chartElement = document.getElementById(\"chart-196be0ee-3d0c-4738-83c1-e543b7a2b247\");\n",
              "          async function getCodeForChartHandler(event) {\n",
              "            const chartCodeResponse =  await google.colab.kernel.invokeFunction(\n",
              "                'getCodeForChart', [\"chart-196be0ee-3d0c-4738-83c1-e543b7a2b247\"], {});\n",
              "            const responseJson = chartCodeResponse.data['application/json'];\n",
              "            await google.colab.notebook.addCell(responseJson.code, 'code');\n",
              "          }\n",
              "          chartElement.onclick = getCodeForChartHandler;\n",
              "        })();\n",
              "      </script>\n",
              "      <style>\n",
              "        .colab-quickchart-chart-with-code  {\n",
              "            display: block;\n",
              "            float: left;\n",
              "            border: 1px solid transparent;\n",
              "        }\n",
              "\n",
              "        .colab-quickchart-chart-with-code:hover {\n",
              "            cursor: pointer;\n",
              "            border: 1px solid #aaa;\n",
              "        }\n",
              "      </style>"
            ]
          },
          "metadata": {}
        },
        {
          "output_type": "display_data",
          "data": {
            "text/plain": [
              "import altair as alt\n",
              "from google.colab import autoviz\n",
              "df_1173136793127004957 = autoviz.get_registered_df('df_1173136793127004957')\n",
              "\n",
              "def value_plot(df, y, sort_ascending=False, width=100, height=50):\n",
              "  if sort_ascending:\n",
              "    df = df.sort_values(y).reset_index(drop=True)\n",
              "  return (alt.Chart(df.reset_index()).mark_line()\n",
              "          .encode(x=alt.X('index', title=''), y=alt.X(y, title='value'))\n",
              "          .properties(width=width, height=height, title=y))\n",
              "\n",
              "chart = value_plot(df_1173136793127004957, *['Hours'], **{})\n",
              "chart"
            ],
            "text/html": [
              "      <div class=\"colab-quickchart-chart-with-code\" id=\"chart-563e9e21-8f65-4981-94e5-bcb4305c7fdf\">\n",
              "        \n",
              "<div id=\"altair-viz-225ef1987fc94daba9165818384bb788\"></div>\n",
              "\n",
              "      </div>\n",
              "      <script type=\"text/javascript\">\n",
              "  var VEGA_DEBUG = (typeof VEGA_DEBUG == \"undefined\") ? {} : VEGA_DEBUG;\n",
              "  (function(spec, embedOpt){\n",
              "    let outputDiv = document.currentScript.previousElementSibling;\n",
              "    if (outputDiv.id !== \"altair-viz-225ef1987fc94daba9165818384bb788\") {\n",
              "      outputDiv = document.getElementById(\"altair-viz-225ef1987fc94daba9165818384bb788\");\n",
              "    }\n",
              "    const paths = {\n",
              "      \"vega\": \"https://cdn.jsdelivr.net/npm//vega@5?noext\",\n",
              "      \"vega-lib\": \"https://cdn.jsdelivr.net/npm//vega-lib?noext\",\n",
              "      \"vega-lite\": \"https://cdn.jsdelivr.net/npm//vega-lite@4.17.0?noext\",\n",
              "      \"vega-embed\": \"https://cdn.jsdelivr.net/npm//vega-embed@6?noext\",\n",
              "    };\n",
              "\n",
              "    function maybeLoadScript(lib, version) {\n",
              "      var key = `${lib.replace(\"-\", \"\")}_version`;\n",
              "      return (VEGA_DEBUG[key] == version) ?\n",
              "        Promise.resolve(paths[lib]) :\n",
              "        new Promise(function(resolve, reject) {\n",
              "          var s = document.createElement('script');\n",
              "          document.getElementsByTagName(\"head\")[0].appendChild(s);\n",
              "          s.async = true;\n",
              "          s.onload = () => {\n",
              "            VEGA_DEBUG[key] = version;\n",
              "            return resolve(paths[lib]);\n",
              "          };\n",
              "          s.onerror = () => reject(`Error loading script: ${paths[lib]}`);\n",
              "          s.src = paths[lib];\n",
              "        });\n",
              "    }\n",
              "\n",
              "    function showError(err) {\n",
              "      outputDiv.innerHTML = `<div class=\"error\" style=\"color:red;\">${err}</div>`;\n",
              "      throw err;\n",
              "    }\n",
              "\n",
              "    function displayChart(vegaEmbed) {\n",
              "      vegaEmbed(outputDiv, spec, embedOpt)\n",
              "        .catch(err => showError(`Javascript Error: ${err.message}<br>This usually means there's a typo in your chart specification. See the javascript console for the full traceback.`));\n",
              "    }\n",
              "\n",
              "    if(typeof define === \"function\" && define.amd) {\n",
              "      requirejs.config({paths});\n",
              "      require([\"vega-embed\"], displayChart, err => showError(`Error loading script: ${err.message}`));\n",
              "    } else {\n",
              "      maybeLoadScript(\"vega\", \"5\")\n",
              "        .then(() => maybeLoadScript(\"vega-lite\", \"4.17.0\"))\n",
              "        .then(() => maybeLoadScript(\"vega-embed\", \"6\"))\n",
              "        .catch(showError)\n",
              "        .then(() => displayChart(vegaEmbed));\n",
              "    }\n",
              "  })({\"config\": {\"view\": {\"continuousWidth\": 400, \"continuousHeight\": 300}}, \"data\": {\"name\": \"data-af819c19360ea9a462d74b96a657897e\"}, \"mark\": \"line\", \"encoding\": {\"x\": {\"field\": \"index\", \"title\": \"\", \"type\": \"quantitative\"}, \"y\": {\"field\": \"Hours\", \"title\": \"value\", \"type\": \"quantitative\"}}, \"height\": 50, \"title\": \"Hours\", \"width\": 100, \"$schema\": \"https://vega.github.io/schema/vega-lite/v4.17.0.json\", \"datasets\": {\"data-af819c19360ea9a462d74b96a657897e\": [{\"level_0\": 0, \"index\": 0, \"Hours\": 2.5, \"Scores\": 21.0}, {\"level_0\": 1, \"index\": 1, \"Hours\": 5.1, \"Scores\": 47.0}, {\"level_0\": 2, \"index\": 2, \"Hours\": 3.2, \"Scores\": 27.0}, {\"level_0\": 3, \"index\": 3, \"Hours\": 8.5, \"Scores\": 75.0}, {\"level_0\": 4, \"index\": 4, \"Hours\": 3.5, \"Scores\": 30.0}, {\"level_0\": 5, \"index\": 5, \"Hours\": 1.5, \"Scores\": 20.0}, {\"level_0\": 6, \"index\": 6, \"Hours\": 9.2, \"Scores\": 88.0}, {\"level_0\": 7, \"index\": 7, \"Hours\": 5.5, \"Scores\": 60.0}, {\"level_0\": 8, \"index\": 8, \"Hours\": 8.3, \"Scores\": 81.0}, {\"level_0\": 9, \"index\": 9, \"Hours\": 2.7, \"Scores\": 25.0}, {\"level_0\": 10, \"index\": 10, \"Hours\": 7.7, \"Scores\": 85.0}, {\"level_0\": 11, \"index\": 11, \"Hours\": null, \"Scores\": 85.0}, {\"level_0\": 12, \"index\": 12, \"Hours\": 5.9, \"Scores\": 62.0}, {\"level_0\": 13, \"index\": 13, \"Hours\": 4.5, \"Scores\": 41.0}, {\"level_0\": 14, \"index\": 14, \"Hours\": 3.3, \"Scores\": 42.0}, {\"level_0\": 15, \"index\": 15, \"Hours\": 1.1, \"Scores\": 17.0}, {\"level_0\": 16, \"index\": 16, \"Hours\": 8.9, \"Scores\": 95.0}, {\"level_0\": 17, \"index\": 17, \"Hours\": 2.5, \"Scores\": 30.0}, {\"level_0\": 18, \"index\": 18, \"Hours\": 3.4, \"Scores\": null}, {\"level_0\": 19, \"index\": 19, \"Hours\": 1.9, \"Scores\": 24.0}, {\"level_0\": 20, \"index\": 20, \"Hours\": 6.1, \"Scores\": 67.0}, {\"level_0\": 21, \"index\": 21, \"Hours\": 7.4, \"Scores\": 69.0}, {\"level_0\": 22, \"index\": 22, \"Hours\": 2.7, \"Scores\": 30.0}, {\"level_0\": 23, \"index\": 23, \"Hours\": 4.8, \"Scores\": 54.0}, {\"level_0\": 24, \"index\": 24, \"Hours\": 3.8, \"Scores\": 35.0}, {\"level_0\": 25, \"index\": 25, \"Hours\": 6.9, \"Scores\": 76.0}, {\"level_0\": 26, \"index\": 26, \"Hours\": 7.8, \"Scores\": 86.0}, {\"level_0\": 27, \"index\": 27, \"Hours\": 1.3, \"Scores\": 19.0}, {\"level_0\": 28, \"index\": 28, \"Hours\": 2.6, \"Scores\": 30.0}, {\"level_0\": 29, \"index\": 29, \"Hours\": 6.1, \"Scores\": 63.0}, {\"level_0\": 30, \"index\": 30, \"Hours\": null, \"Scores\": null}, {\"level_0\": 31, \"index\": 31, \"Hours\": 5.6, \"Scores\": 60.0}]}}, {\"mode\": \"vega-lite\"});\n",
              "</script>\n",
              "      <script type=\"text/javascript\">\n",
              "        (() => {\n",
              "          const chartElement = document.getElementById(\"chart-563e9e21-8f65-4981-94e5-bcb4305c7fdf\");\n",
              "          async function getCodeForChartHandler(event) {\n",
              "            const chartCodeResponse =  await google.colab.kernel.invokeFunction(\n",
              "                'getCodeForChart', [\"chart-563e9e21-8f65-4981-94e5-bcb4305c7fdf\"], {});\n",
              "            const responseJson = chartCodeResponse.data['application/json'];\n",
              "            await google.colab.notebook.addCell(responseJson.code, 'code');\n",
              "          }\n",
              "          chartElement.onclick = getCodeForChartHandler;\n",
              "        })();\n",
              "      </script>\n",
              "      <style>\n",
              "        .colab-quickchart-chart-with-code  {\n",
              "            display: block;\n",
              "            float: left;\n",
              "            border: 1px solid transparent;\n",
              "        }\n",
              "\n",
              "        .colab-quickchart-chart-with-code:hover {\n",
              "            cursor: pointer;\n",
              "            border: 1px solid #aaa;\n",
              "        }\n",
              "      </style>"
            ]
          },
          "metadata": {}
        },
        {
          "output_type": "display_data",
          "data": {
            "text/plain": [
              "import altair as alt\n",
              "from google.colab import autoviz\n",
              "df_1173136793127004957 = autoviz.get_registered_df('df_1173136793127004957')\n",
              "\n",
              "def value_plot(df, y, sort_ascending=False, width=100, height=50):\n",
              "  if sort_ascending:\n",
              "    df = df.sort_values(y).reset_index(drop=True)\n",
              "  return (alt.Chart(df.reset_index()).mark_line()\n",
              "          .encode(x=alt.X('index', title=''), y=alt.X(y, title='value'))\n",
              "          .properties(width=width, height=height, title=y))\n",
              "\n",
              "chart = value_plot(df_1173136793127004957, *['Scores'], **{})\n",
              "chart"
            ],
            "text/html": [
              "      <div class=\"colab-quickchart-chart-with-code\" id=\"chart-04774db8-3120-4034-8f69-70bd4e3763b6\">\n",
              "        \n",
              "<div id=\"altair-viz-82c5351a2b7c4e32b538e3a4a6b1ac0b\"></div>\n",
              "\n",
              "      </div>\n",
              "      <script type=\"text/javascript\">\n",
              "  var VEGA_DEBUG = (typeof VEGA_DEBUG == \"undefined\") ? {} : VEGA_DEBUG;\n",
              "  (function(spec, embedOpt){\n",
              "    let outputDiv = document.currentScript.previousElementSibling;\n",
              "    if (outputDiv.id !== \"altair-viz-82c5351a2b7c4e32b538e3a4a6b1ac0b\") {\n",
              "      outputDiv = document.getElementById(\"altair-viz-82c5351a2b7c4e32b538e3a4a6b1ac0b\");\n",
              "    }\n",
              "    const paths = {\n",
              "      \"vega\": \"https://cdn.jsdelivr.net/npm//vega@5?noext\",\n",
              "      \"vega-lib\": \"https://cdn.jsdelivr.net/npm//vega-lib?noext\",\n",
              "      \"vega-lite\": \"https://cdn.jsdelivr.net/npm//vega-lite@4.17.0?noext\",\n",
              "      \"vega-embed\": \"https://cdn.jsdelivr.net/npm//vega-embed@6?noext\",\n",
              "    };\n",
              "\n",
              "    function maybeLoadScript(lib, version) {\n",
              "      var key = `${lib.replace(\"-\", \"\")}_version`;\n",
              "      return (VEGA_DEBUG[key] == version) ?\n",
              "        Promise.resolve(paths[lib]) :\n",
              "        new Promise(function(resolve, reject) {\n",
              "          var s = document.createElement('script');\n",
              "          document.getElementsByTagName(\"head\")[0].appendChild(s);\n",
              "          s.async = true;\n",
              "          s.onload = () => {\n",
              "            VEGA_DEBUG[key] = version;\n",
              "            return resolve(paths[lib]);\n",
              "          };\n",
              "          s.onerror = () => reject(`Error loading script: ${paths[lib]}`);\n",
              "          s.src = paths[lib];\n",
              "        });\n",
              "    }\n",
              "\n",
              "    function showError(err) {\n",
              "      outputDiv.innerHTML = `<div class=\"error\" style=\"color:red;\">${err}</div>`;\n",
              "      throw err;\n",
              "    }\n",
              "\n",
              "    function displayChart(vegaEmbed) {\n",
              "      vegaEmbed(outputDiv, spec, embedOpt)\n",
              "        .catch(err => showError(`Javascript Error: ${err.message}<br>This usually means there's a typo in your chart specification. See the javascript console for the full traceback.`));\n",
              "    }\n",
              "\n",
              "    if(typeof define === \"function\" && define.amd) {\n",
              "      requirejs.config({paths});\n",
              "      require([\"vega-embed\"], displayChart, err => showError(`Error loading script: ${err.message}`));\n",
              "    } else {\n",
              "      maybeLoadScript(\"vega\", \"5\")\n",
              "        .then(() => maybeLoadScript(\"vega-lite\", \"4.17.0\"))\n",
              "        .then(() => maybeLoadScript(\"vega-embed\", \"6\"))\n",
              "        .catch(showError)\n",
              "        .then(() => displayChart(vegaEmbed));\n",
              "    }\n",
              "  })({\"config\": {\"view\": {\"continuousWidth\": 400, \"continuousHeight\": 300}}, \"data\": {\"name\": \"data-af819c19360ea9a462d74b96a657897e\"}, \"mark\": \"line\", \"encoding\": {\"x\": {\"field\": \"index\", \"title\": \"\", \"type\": \"quantitative\"}, \"y\": {\"field\": \"Scores\", \"title\": \"value\", \"type\": \"quantitative\"}}, \"height\": 50, \"title\": \"Scores\", \"width\": 100, \"$schema\": \"https://vega.github.io/schema/vega-lite/v4.17.0.json\", \"datasets\": {\"data-af819c19360ea9a462d74b96a657897e\": [{\"level_0\": 0, \"index\": 0, \"Hours\": 2.5, \"Scores\": 21.0}, {\"level_0\": 1, \"index\": 1, \"Hours\": 5.1, \"Scores\": 47.0}, {\"level_0\": 2, \"index\": 2, \"Hours\": 3.2, \"Scores\": 27.0}, {\"level_0\": 3, \"index\": 3, \"Hours\": 8.5, \"Scores\": 75.0}, {\"level_0\": 4, \"index\": 4, \"Hours\": 3.5, \"Scores\": 30.0}, {\"level_0\": 5, \"index\": 5, \"Hours\": 1.5, \"Scores\": 20.0}, {\"level_0\": 6, \"index\": 6, \"Hours\": 9.2, \"Scores\": 88.0}, {\"level_0\": 7, \"index\": 7, \"Hours\": 5.5, \"Scores\": 60.0}, {\"level_0\": 8, \"index\": 8, \"Hours\": 8.3, \"Scores\": 81.0}, {\"level_0\": 9, \"index\": 9, \"Hours\": 2.7, \"Scores\": 25.0}, {\"level_0\": 10, \"index\": 10, \"Hours\": 7.7, \"Scores\": 85.0}, {\"level_0\": 11, \"index\": 11, \"Hours\": null, \"Scores\": 85.0}, {\"level_0\": 12, \"index\": 12, \"Hours\": 5.9, \"Scores\": 62.0}, {\"level_0\": 13, \"index\": 13, \"Hours\": 4.5, \"Scores\": 41.0}, {\"level_0\": 14, \"index\": 14, \"Hours\": 3.3, \"Scores\": 42.0}, {\"level_0\": 15, \"index\": 15, \"Hours\": 1.1, \"Scores\": 17.0}, {\"level_0\": 16, \"index\": 16, \"Hours\": 8.9, \"Scores\": 95.0}, {\"level_0\": 17, \"index\": 17, \"Hours\": 2.5, \"Scores\": 30.0}, {\"level_0\": 18, \"index\": 18, \"Hours\": 3.4, \"Scores\": null}, {\"level_0\": 19, \"index\": 19, \"Hours\": 1.9, \"Scores\": 24.0}, {\"level_0\": 20, \"index\": 20, \"Hours\": 6.1, \"Scores\": 67.0}, {\"level_0\": 21, \"index\": 21, \"Hours\": 7.4, \"Scores\": 69.0}, {\"level_0\": 22, \"index\": 22, \"Hours\": 2.7, \"Scores\": 30.0}, {\"level_0\": 23, \"index\": 23, \"Hours\": 4.8, \"Scores\": 54.0}, {\"level_0\": 24, \"index\": 24, \"Hours\": 3.8, \"Scores\": 35.0}, {\"level_0\": 25, \"index\": 25, \"Hours\": 6.9, \"Scores\": 76.0}, {\"level_0\": 26, \"index\": 26, \"Hours\": 7.8, \"Scores\": 86.0}, {\"level_0\": 27, \"index\": 27, \"Hours\": 1.3, \"Scores\": 19.0}, {\"level_0\": 28, \"index\": 28, \"Hours\": 2.6, \"Scores\": 30.0}, {\"level_0\": 29, \"index\": 29, \"Hours\": 6.1, \"Scores\": 63.0}, {\"level_0\": 30, \"index\": 30, \"Hours\": null, \"Scores\": null}, {\"level_0\": 31, \"index\": 31, \"Hours\": 5.6, \"Scores\": 60.0}]}}, {\"mode\": \"vega-lite\"});\n",
              "</script>\n",
              "      <script type=\"text/javascript\">\n",
              "        (() => {\n",
              "          const chartElement = document.getElementById(\"chart-04774db8-3120-4034-8f69-70bd4e3763b6\");\n",
              "          async function getCodeForChartHandler(event) {\n",
              "            const chartCodeResponse =  await google.colab.kernel.invokeFunction(\n",
              "                'getCodeForChart', [\"chart-04774db8-3120-4034-8f69-70bd4e3763b6\"], {});\n",
              "            const responseJson = chartCodeResponse.data['application/json'];\n",
              "            await google.colab.notebook.addCell(responseJson.code, 'code');\n",
              "          }\n",
              "          chartElement.onclick = getCodeForChartHandler;\n",
              "        })();\n",
              "      </script>\n",
              "      <style>\n",
              "        .colab-quickchart-chart-with-code  {\n",
              "            display: block;\n",
              "            float: left;\n",
              "            border: 1px solid transparent;\n",
              "        }\n",
              "\n",
              "        .colab-quickchart-chart-with-code:hover {\n",
              "            cursor: pointer;\n",
              "            border: 1px solid #aaa;\n",
              "        }\n",
              "      </style>"
            ]
          },
          "metadata": {}
        },
        {
          "output_type": "display_data",
          "data": {
            "text/plain": [
              "<google.colab._quickchart_helpers.SectionTitle at 0x7fb236851ba0>"
            ],
            "text/html": [
              "<h4 class=\"colab-quickchart-section-title\">2-d distributions</h4>\n",
              "<style>\n",
              "  .colab-quickchart-section-title {\n",
              "      clear: both;\n",
              "  }\n",
              "</style>"
            ]
          },
          "metadata": {}
        },
        {
          "output_type": "display_data",
          "data": {
            "text/plain": [
              "import altair as alt\n",
              "from google.colab import autoviz\n",
              "df_1173136793127004957 = autoviz.get_registered_df('df_1173136793127004957')\n",
              "\n",
              "def linked_scatter_plots(\n",
              "    df, colname_pairs, color='steelblue', deselected_color='lightgray',\n",
              "    opacity=0.8, deselected_opacity=0.4, width=150, height=150):\n",
              "  interval = alt.selection_interval()\n",
              "  scatter = (alt.Chart(df).mark_circle()\n",
              "             .encode(\n",
              "                 color=alt.condition(\n",
              "                     interval, alt.value(color), alt.value(deselected_color)),\n",
              "                 opacity=alt.condition(\n",
              "                     interval, alt.value(opacity),\n",
              "                     alt.value(deselected_opacity)))\n",
              "             .properties(\n",
              "                 selection=interval, width=width, height=height))\n",
              "  return alt.hconcat(*[scatter.encode(x=x, y=y) for x, y in colname_pairs])\n",
              "\n",
              "chart = linked_scatter_plots(df_1173136793127004957, *[[['index', 'Hours'], ['Hours', 'Scores']]], **{})\n",
              "chart"
            ],
            "text/html": [
              "      <div class=\"colab-quickchart-chart-with-code\" id=\"chart-e0d642c9-59ed-4864-97e3-2af7904f7f1f\">\n",
              "        \n",
              "<div id=\"altair-viz-42506ba7fbdb4fc2a15d7d9aef5a274a\"></div>\n",
              "\n",
              "      </div>\n",
              "      <script type=\"text/javascript\">\n",
              "  var VEGA_DEBUG = (typeof VEGA_DEBUG == \"undefined\") ? {} : VEGA_DEBUG;\n",
              "  (function(spec, embedOpt){\n",
              "    let outputDiv = document.currentScript.previousElementSibling;\n",
              "    if (outputDiv.id !== \"altair-viz-42506ba7fbdb4fc2a15d7d9aef5a274a\") {\n",
              "      outputDiv = document.getElementById(\"altair-viz-42506ba7fbdb4fc2a15d7d9aef5a274a\");\n",
              "    }\n",
              "    const paths = {\n",
              "      \"vega\": \"https://cdn.jsdelivr.net/npm//vega@5?noext\",\n",
              "      \"vega-lib\": \"https://cdn.jsdelivr.net/npm//vega-lib?noext\",\n",
              "      \"vega-lite\": \"https://cdn.jsdelivr.net/npm//vega-lite@4.17.0?noext\",\n",
              "      \"vega-embed\": \"https://cdn.jsdelivr.net/npm//vega-embed@6?noext\",\n",
              "    };\n",
              "\n",
              "    function maybeLoadScript(lib, version) {\n",
              "      var key = `${lib.replace(\"-\", \"\")}_version`;\n",
              "      return (VEGA_DEBUG[key] == version) ?\n",
              "        Promise.resolve(paths[lib]) :\n",
              "        new Promise(function(resolve, reject) {\n",
              "          var s = document.createElement('script');\n",
              "          document.getElementsByTagName(\"head\")[0].appendChild(s);\n",
              "          s.async = true;\n",
              "          s.onload = () => {\n",
              "            VEGA_DEBUG[key] = version;\n",
              "            return resolve(paths[lib]);\n",
              "          };\n",
              "          s.onerror = () => reject(`Error loading script: ${paths[lib]}`);\n",
              "          s.src = paths[lib];\n",
              "        });\n",
              "    }\n",
              "\n",
              "    function showError(err) {\n",
              "      outputDiv.innerHTML = `<div class=\"error\" style=\"color:red;\">${err}</div>`;\n",
              "      throw err;\n",
              "    }\n",
              "\n",
              "    function displayChart(vegaEmbed) {\n",
              "      vegaEmbed(outputDiv, spec, embedOpt)\n",
              "        .catch(err => showError(`Javascript Error: ${err.message}<br>This usually means there's a typo in your chart specification. See the javascript console for the full traceback.`));\n",
              "    }\n",
              "\n",
              "    if(typeof define === \"function\" && define.amd) {\n",
              "      requirejs.config({paths});\n",
              "      require([\"vega-embed\"], displayChart, err => showError(`Error loading script: ${err.message}`));\n",
              "    } else {\n",
              "      maybeLoadScript(\"vega\", \"5\")\n",
              "        .then(() => maybeLoadScript(\"vega-lite\", \"4.17.0\"))\n",
              "        .then(() => maybeLoadScript(\"vega-embed\", \"6\"))\n",
              "        .catch(showError)\n",
              "        .then(() => displayChart(vegaEmbed));\n",
              "    }\n",
              "  })({\"config\": {\"view\": {\"continuousWidth\": 400, \"continuousHeight\": 300}}, \"hconcat\": [{\"mark\": \"circle\", \"encoding\": {\"color\": {\"condition\": {\"value\": \"steelblue\", \"selection\": \"selector001\"}, \"value\": \"lightgray\"}, \"opacity\": {\"condition\": {\"value\": 0.8, \"selection\": \"selector001\"}, \"value\": 0.4}, \"x\": {\"field\": \"index\", \"type\": \"quantitative\"}, \"y\": {\"field\": \"Hours\", \"type\": \"quantitative\"}}, \"height\": 150, \"selection\": {\"selector001\": {\"type\": \"interval\"}}, \"width\": 150}, {\"mark\": \"circle\", \"encoding\": {\"color\": {\"condition\": {\"value\": \"steelblue\", \"selection\": \"selector001\"}, \"value\": \"lightgray\"}, \"opacity\": {\"condition\": {\"value\": 0.8, \"selection\": \"selector001\"}, \"value\": 0.4}, \"x\": {\"field\": \"Hours\", \"type\": \"quantitative\"}, \"y\": {\"field\": \"Scores\", \"type\": \"quantitative\"}}, \"height\": 150, \"selection\": {\"selector001\": {\"type\": \"interval\"}}, \"width\": 150}], \"data\": {\"name\": \"data-9c26edb95f397bbe612cac3d9ebe3ba4\"}, \"$schema\": \"https://vega.github.io/schema/vega-lite/v4.17.0.json\", \"datasets\": {\"data-9c26edb95f397bbe612cac3d9ebe3ba4\": [{\"index\": 0, \"Hours\": 2.5, \"Scores\": 21.0}, {\"index\": 1, \"Hours\": 5.1, \"Scores\": 47.0}, {\"index\": 2, \"Hours\": 3.2, \"Scores\": 27.0}, {\"index\": 3, \"Hours\": 8.5, \"Scores\": 75.0}, {\"index\": 4, \"Hours\": 3.5, \"Scores\": 30.0}, {\"index\": 5, \"Hours\": 1.5, \"Scores\": 20.0}, {\"index\": 6, \"Hours\": 9.2, \"Scores\": 88.0}, {\"index\": 7, \"Hours\": 5.5, \"Scores\": 60.0}, {\"index\": 8, \"Hours\": 8.3, \"Scores\": 81.0}, {\"index\": 9, \"Hours\": 2.7, \"Scores\": 25.0}, {\"index\": 10, \"Hours\": 7.7, \"Scores\": 85.0}, {\"index\": 11, \"Hours\": null, \"Scores\": 85.0}, {\"index\": 12, \"Hours\": 5.9, \"Scores\": 62.0}, {\"index\": 13, \"Hours\": 4.5, \"Scores\": 41.0}, {\"index\": 14, \"Hours\": 3.3, \"Scores\": 42.0}, {\"index\": 15, \"Hours\": 1.1, \"Scores\": 17.0}, {\"index\": 16, \"Hours\": 8.9, \"Scores\": 95.0}, {\"index\": 17, \"Hours\": 2.5, \"Scores\": 30.0}, {\"index\": 18, \"Hours\": 3.4, \"Scores\": null}, {\"index\": 19, \"Hours\": 1.9, \"Scores\": 24.0}, {\"index\": 20, \"Hours\": 6.1, \"Scores\": 67.0}, {\"index\": 21, \"Hours\": 7.4, \"Scores\": 69.0}, {\"index\": 22, \"Hours\": 2.7, \"Scores\": 30.0}, {\"index\": 23, \"Hours\": 4.8, \"Scores\": 54.0}, {\"index\": 24, \"Hours\": 3.8, \"Scores\": 35.0}, {\"index\": 25, \"Hours\": 6.9, \"Scores\": 76.0}, {\"index\": 26, \"Hours\": 7.8, \"Scores\": 86.0}, {\"index\": 27, \"Hours\": 1.3, \"Scores\": 19.0}, {\"index\": 28, \"Hours\": 2.6, \"Scores\": 30.0}, {\"index\": 29, \"Hours\": 6.1, \"Scores\": 63.0}, {\"index\": 30, \"Hours\": null, \"Scores\": null}, {\"index\": 31, \"Hours\": 5.6, \"Scores\": 60.0}]}}, {\"mode\": \"vega-lite\"});\n",
              "</script>\n",
              "      <script type=\"text/javascript\">\n",
              "        (() => {\n",
              "          const chartElement = document.getElementById(\"chart-e0d642c9-59ed-4864-97e3-2af7904f7f1f\");\n",
              "          async function getCodeForChartHandler(event) {\n",
              "            const chartCodeResponse =  await google.colab.kernel.invokeFunction(\n",
              "                'getCodeForChart', [\"chart-e0d642c9-59ed-4864-97e3-2af7904f7f1f\"], {});\n",
              "            const responseJson = chartCodeResponse.data['application/json'];\n",
              "            await google.colab.notebook.addCell(responseJson.code, 'code');\n",
              "          }\n",
              "          chartElement.onclick = getCodeForChartHandler;\n",
              "        })();\n",
              "      </script>\n",
              "      <style>\n",
              "        .colab-quickchart-chart-with-code  {\n",
              "            display: block;\n",
              "            float: left;\n",
              "            border: 1px solid transparent;\n",
              "        }\n",
              "\n",
              "        .colab-quickchart-chart-with-code:hover {\n",
              "            cursor: pointer;\n",
              "            border: 1px solid #aaa;\n",
              "        }\n",
              "      </style>"
            ]
          },
          "metadata": {}
        },
        {
          "output_type": "display_data",
          "data": {
            "text/plain": [
              "<google.colab._quickchart_helpers.SectionTitle at 0x7fb23680bf40>"
            ],
            "text/html": [
              "<h4 class=\"colab-quickchart-section-title\">Time series</h4>\n",
              "<style>\n",
              "  .colab-quickchart-section-title {\n",
              "      clear: both;\n",
              "  }\n",
              "</style>"
            ]
          },
          "metadata": {}
        },
        {
          "output_type": "display_data",
          "data": {
            "text/plain": [
              "import altair as alt\n",
              "from google.colab import autoviz\n",
              "df_1173136793127004957 = autoviz.get_registered_df('df_1173136793127004957')\n",
              "\n",
              "def time_series_multiline(\n",
              "    df, timelike_colname, value_colname='count()', series_colname=None,\n",
              "    color='steelblue', width=300, height=100):\n",
              "  return (alt.Chart(df).mark_line()\n",
              "          .encode(\n",
              "              x=timelike_colname + ':T',\n",
              "              y=value_colname + ':Q',\n",
              "              color=(alt.value(color) if not series_colname\n",
              "                     else series_colname + ':N'))\n",
              "          .properties(width=width, height=height))\n",
              "\n",
              "chart = time_series_multiline(df_1173136793127004957, *['index', 'Hours', None], **{})\n",
              "chart"
            ],
            "text/html": [
              "      <div class=\"colab-quickchart-chart-with-code\" id=\"chart-9663e11e-80d6-4407-8599-a23018a3f317\">\n",
              "        \n",
              "<div id=\"altair-viz-9309fa29f17f40dfbcaf7fbf3d02a832\"></div>\n",
              "\n",
              "      </div>\n",
              "      <script type=\"text/javascript\">\n",
              "  var VEGA_DEBUG = (typeof VEGA_DEBUG == \"undefined\") ? {} : VEGA_DEBUG;\n",
              "  (function(spec, embedOpt){\n",
              "    let outputDiv = document.currentScript.previousElementSibling;\n",
              "    if (outputDiv.id !== \"altair-viz-9309fa29f17f40dfbcaf7fbf3d02a832\") {\n",
              "      outputDiv = document.getElementById(\"altair-viz-9309fa29f17f40dfbcaf7fbf3d02a832\");\n",
              "    }\n",
              "    const paths = {\n",
              "      \"vega\": \"https://cdn.jsdelivr.net/npm//vega@5?noext\",\n",
              "      \"vega-lib\": \"https://cdn.jsdelivr.net/npm//vega-lib?noext\",\n",
              "      \"vega-lite\": \"https://cdn.jsdelivr.net/npm//vega-lite@4.17.0?noext\",\n",
              "      \"vega-embed\": \"https://cdn.jsdelivr.net/npm//vega-embed@6?noext\",\n",
              "    };\n",
              "\n",
              "    function maybeLoadScript(lib, version) {\n",
              "      var key = `${lib.replace(\"-\", \"\")}_version`;\n",
              "      return (VEGA_DEBUG[key] == version) ?\n",
              "        Promise.resolve(paths[lib]) :\n",
              "        new Promise(function(resolve, reject) {\n",
              "          var s = document.createElement('script');\n",
              "          document.getElementsByTagName(\"head\")[0].appendChild(s);\n",
              "          s.async = true;\n",
              "          s.onload = () => {\n",
              "            VEGA_DEBUG[key] = version;\n",
              "            return resolve(paths[lib]);\n",
              "          };\n",
              "          s.onerror = () => reject(`Error loading script: ${paths[lib]}`);\n",
              "          s.src = paths[lib];\n",
              "        });\n",
              "    }\n",
              "\n",
              "    function showError(err) {\n",
              "      outputDiv.innerHTML = `<div class=\"error\" style=\"color:red;\">${err}</div>`;\n",
              "      throw err;\n",
              "    }\n",
              "\n",
              "    function displayChart(vegaEmbed) {\n",
              "      vegaEmbed(outputDiv, spec, embedOpt)\n",
              "        .catch(err => showError(`Javascript Error: ${err.message}<br>This usually means there's a typo in your chart specification. See the javascript console for the full traceback.`));\n",
              "    }\n",
              "\n",
              "    if(typeof define === \"function\" && define.amd) {\n",
              "      requirejs.config({paths});\n",
              "      require([\"vega-embed\"], displayChart, err => showError(`Error loading script: ${err.message}`));\n",
              "    } else {\n",
              "      maybeLoadScript(\"vega\", \"5\")\n",
              "        .then(() => maybeLoadScript(\"vega-lite\", \"4.17.0\"))\n",
              "        .then(() => maybeLoadScript(\"vega-embed\", \"6\"))\n",
              "        .catch(showError)\n",
              "        .then(() => displayChart(vegaEmbed));\n",
              "    }\n",
              "  })({\"config\": {\"view\": {\"continuousWidth\": 400, \"continuousHeight\": 300}}, \"data\": {\"name\": \"data-9c26edb95f397bbe612cac3d9ebe3ba4\"}, \"mark\": \"line\", \"encoding\": {\"color\": {\"value\": \"steelblue\"}, \"x\": {\"field\": \"index\", \"type\": \"temporal\"}, \"y\": {\"field\": \"Hours\", \"type\": \"quantitative\"}}, \"height\": 100, \"width\": 300, \"$schema\": \"https://vega.github.io/schema/vega-lite/v4.17.0.json\", \"datasets\": {\"data-9c26edb95f397bbe612cac3d9ebe3ba4\": [{\"index\": 0, \"Hours\": 2.5, \"Scores\": 21.0}, {\"index\": 1, \"Hours\": 5.1, \"Scores\": 47.0}, {\"index\": 2, \"Hours\": 3.2, \"Scores\": 27.0}, {\"index\": 3, \"Hours\": 8.5, \"Scores\": 75.0}, {\"index\": 4, \"Hours\": 3.5, \"Scores\": 30.0}, {\"index\": 5, \"Hours\": 1.5, \"Scores\": 20.0}, {\"index\": 6, \"Hours\": 9.2, \"Scores\": 88.0}, {\"index\": 7, \"Hours\": 5.5, \"Scores\": 60.0}, {\"index\": 8, \"Hours\": 8.3, \"Scores\": 81.0}, {\"index\": 9, \"Hours\": 2.7, \"Scores\": 25.0}, {\"index\": 10, \"Hours\": 7.7, \"Scores\": 85.0}, {\"index\": 11, \"Hours\": null, \"Scores\": 85.0}, {\"index\": 12, \"Hours\": 5.9, \"Scores\": 62.0}, {\"index\": 13, \"Hours\": 4.5, \"Scores\": 41.0}, {\"index\": 14, \"Hours\": 3.3, \"Scores\": 42.0}, {\"index\": 15, \"Hours\": 1.1, \"Scores\": 17.0}, {\"index\": 16, \"Hours\": 8.9, \"Scores\": 95.0}, {\"index\": 17, \"Hours\": 2.5, \"Scores\": 30.0}, {\"index\": 18, \"Hours\": 3.4, \"Scores\": null}, {\"index\": 19, \"Hours\": 1.9, \"Scores\": 24.0}, {\"index\": 20, \"Hours\": 6.1, \"Scores\": 67.0}, {\"index\": 21, \"Hours\": 7.4, \"Scores\": 69.0}, {\"index\": 22, \"Hours\": 2.7, \"Scores\": 30.0}, {\"index\": 23, \"Hours\": 4.8, \"Scores\": 54.0}, {\"index\": 24, \"Hours\": 3.8, \"Scores\": 35.0}, {\"index\": 25, \"Hours\": 6.9, \"Scores\": 76.0}, {\"index\": 26, \"Hours\": 7.8, \"Scores\": 86.0}, {\"index\": 27, \"Hours\": 1.3, \"Scores\": 19.0}, {\"index\": 28, \"Hours\": 2.6, \"Scores\": 30.0}, {\"index\": 29, \"Hours\": 6.1, \"Scores\": 63.0}, {\"index\": 30, \"Hours\": null, \"Scores\": null}, {\"index\": 31, \"Hours\": 5.6, \"Scores\": 60.0}]}}, {\"mode\": \"vega-lite\"});\n",
              "</script>\n",
              "      <script type=\"text/javascript\">\n",
              "        (() => {\n",
              "          const chartElement = document.getElementById(\"chart-9663e11e-80d6-4407-8599-a23018a3f317\");\n",
              "          async function getCodeForChartHandler(event) {\n",
              "            const chartCodeResponse =  await google.colab.kernel.invokeFunction(\n",
              "                'getCodeForChart', [\"chart-9663e11e-80d6-4407-8599-a23018a3f317\"], {});\n",
              "            const responseJson = chartCodeResponse.data['application/json'];\n",
              "            await google.colab.notebook.addCell(responseJson.code, 'code');\n",
              "          }\n",
              "          chartElement.onclick = getCodeForChartHandler;\n",
              "        })();\n",
              "      </script>\n",
              "      <style>\n",
              "        .colab-quickchart-chart-with-code  {\n",
              "            display: block;\n",
              "            float: left;\n",
              "            border: 1px solid transparent;\n",
              "        }\n",
              "\n",
              "        .colab-quickchart-chart-with-code:hover {\n",
              "            cursor: pointer;\n",
              "            border: 1px solid #aaa;\n",
              "        }\n",
              "      </style>"
            ]
          },
          "metadata": {}
        },
        {
          "output_type": "display_data",
          "data": {
            "text/plain": [
              "import altair as alt\n",
              "from google.colab import autoviz\n",
              "df_1173136793127004957 = autoviz.get_registered_df('df_1173136793127004957')\n",
              "\n",
              "def time_series_multiline(\n",
              "    df, timelike_colname, value_colname='count()', series_colname=None,\n",
              "    color='steelblue', width=300, height=100):\n",
              "  return (alt.Chart(df).mark_line()\n",
              "          .encode(\n",
              "              x=timelike_colname + ':T',\n",
              "              y=value_colname + ':Q',\n",
              "              color=(alt.value(color) if not series_colname\n",
              "                     else series_colname + ':N'))\n",
              "          .properties(width=width, height=height))\n",
              "\n",
              "chart = time_series_multiline(df_1173136793127004957, *['index', 'Scores', None], **{})\n",
              "chart"
            ],
            "text/html": [
              "      <div class=\"colab-quickchart-chart-with-code\" id=\"chart-b85f2a1a-d06d-4fe1-a264-32ef695fb29e\">\n",
              "        \n",
              "<div id=\"altair-viz-17578edba3a6494b84dce9fd6e2df297\"></div>\n",
              "\n",
              "      </div>\n",
              "      <script type=\"text/javascript\">\n",
              "  var VEGA_DEBUG = (typeof VEGA_DEBUG == \"undefined\") ? {} : VEGA_DEBUG;\n",
              "  (function(spec, embedOpt){\n",
              "    let outputDiv = document.currentScript.previousElementSibling;\n",
              "    if (outputDiv.id !== \"altair-viz-17578edba3a6494b84dce9fd6e2df297\") {\n",
              "      outputDiv = document.getElementById(\"altair-viz-17578edba3a6494b84dce9fd6e2df297\");\n",
              "    }\n",
              "    const paths = {\n",
              "      \"vega\": \"https://cdn.jsdelivr.net/npm//vega@5?noext\",\n",
              "      \"vega-lib\": \"https://cdn.jsdelivr.net/npm//vega-lib?noext\",\n",
              "      \"vega-lite\": \"https://cdn.jsdelivr.net/npm//vega-lite@4.17.0?noext\",\n",
              "      \"vega-embed\": \"https://cdn.jsdelivr.net/npm//vega-embed@6?noext\",\n",
              "    };\n",
              "\n",
              "    function maybeLoadScript(lib, version) {\n",
              "      var key = `${lib.replace(\"-\", \"\")}_version`;\n",
              "      return (VEGA_DEBUG[key] == version) ?\n",
              "        Promise.resolve(paths[lib]) :\n",
              "        new Promise(function(resolve, reject) {\n",
              "          var s = document.createElement('script');\n",
              "          document.getElementsByTagName(\"head\")[0].appendChild(s);\n",
              "          s.async = true;\n",
              "          s.onload = () => {\n",
              "            VEGA_DEBUG[key] = version;\n",
              "            return resolve(paths[lib]);\n",
              "          };\n",
              "          s.onerror = () => reject(`Error loading script: ${paths[lib]}`);\n",
              "          s.src = paths[lib];\n",
              "        });\n",
              "    }\n",
              "\n",
              "    function showError(err) {\n",
              "      outputDiv.innerHTML = `<div class=\"error\" style=\"color:red;\">${err}</div>`;\n",
              "      throw err;\n",
              "    }\n",
              "\n",
              "    function displayChart(vegaEmbed) {\n",
              "      vegaEmbed(outputDiv, spec, embedOpt)\n",
              "        .catch(err => showError(`Javascript Error: ${err.message}<br>This usually means there's a typo in your chart specification. See the javascript console for the full traceback.`));\n",
              "    }\n",
              "\n",
              "    if(typeof define === \"function\" && define.amd) {\n",
              "      requirejs.config({paths});\n",
              "      require([\"vega-embed\"], displayChart, err => showError(`Error loading script: ${err.message}`));\n",
              "    } else {\n",
              "      maybeLoadScript(\"vega\", \"5\")\n",
              "        .then(() => maybeLoadScript(\"vega-lite\", \"4.17.0\"))\n",
              "        .then(() => maybeLoadScript(\"vega-embed\", \"6\"))\n",
              "        .catch(showError)\n",
              "        .then(() => displayChart(vegaEmbed));\n",
              "    }\n",
              "  })({\"config\": {\"view\": {\"continuousWidth\": 400, \"continuousHeight\": 300}}, \"data\": {\"name\": \"data-9c26edb95f397bbe612cac3d9ebe3ba4\"}, \"mark\": \"line\", \"encoding\": {\"color\": {\"value\": \"steelblue\"}, \"x\": {\"field\": \"index\", \"type\": \"temporal\"}, \"y\": {\"field\": \"Scores\", \"type\": \"quantitative\"}}, \"height\": 100, \"width\": 300, \"$schema\": \"https://vega.github.io/schema/vega-lite/v4.17.0.json\", \"datasets\": {\"data-9c26edb95f397bbe612cac3d9ebe3ba4\": [{\"index\": 0, \"Hours\": 2.5, \"Scores\": 21.0}, {\"index\": 1, \"Hours\": 5.1, \"Scores\": 47.0}, {\"index\": 2, \"Hours\": 3.2, \"Scores\": 27.0}, {\"index\": 3, \"Hours\": 8.5, \"Scores\": 75.0}, {\"index\": 4, \"Hours\": 3.5, \"Scores\": 30.0}, {\"index\": 5, \"Hours\": 1.5, \"Scores\": 20.0}, {\"index\": 6, \"Hours\": 9.2, \"Scores\": 88.0}, {\"index\": 7, \"Hours\": 5.5, \"Scores\": 60.0}, {\"index\": 8, \"Hours\": 8.3, \"Scores\": 81.0}, {\"index\": 9, \"Hours\": 2.7, \"Scores\": 25.0}, {\"index\": 10, \"Hours\": 7.7, \"Scores\": 85.0}, {\"index\": 11, \"Hours\": null, \"Scores\": 85.0}, {\"index\": 12, \"Hours\": 5.9, \"Scores\": 62.0}, {\"index\": 13, \"Hours\": 4.5, \"Scores\": 41.0}, {\"index\": 14, \"Hours\": 3.3, \"Scores\": 42.0}, {\"index\": 15, \"Hours\": 1.1, \"Scores\": 17.0}, {\"index\": 16, \"Hours\": 8.9, \"Scores\": 95.0}, {\"index\": 17, \"Hours\": 2.5, \"Scores\": 30.0}, {\"index\": 18, \"Hours\": 3.4, \"Scores\": null}, {\"index\": 19, \"Hours\": 1.9, \"Scores\": 24.0}, {\"index\": 20, \"Hours\": 6.1, \"Scores\": 67.0}, {\"index\": 21, \"Hours\": 7.4, \"Scores\": 69.0}, {\"index\": 22, \"Hours\": 2.7, \"Scores\": 30.0}, {\"index\": 23, \"Hours\": 4.8, \"Scores\": 54.0}, {\"index\": 24, \"Hours\": 3.8, \"Scores\": 35.0}, {\"index\": 25, \"Hours\": 6.9, \"Scores\": 76.0}, {\"index\": 26, \"Hours\": 7.8, \"Scores\": 86.0}, {\"index\": 27, \"Hours\": 1.3, \"Scores\": 19.0}, {\"index\": 28, \"Hours\": 2.6, \"Scores\": 30.0}, {\"index\": 29, \"Hours\": 6.1, \"Scores\": 63.0}, {\"index\": 30, \"Hours\": null, \"Scores\": null}, {\"index\": 31, \"Hours\": 5.6, \"Scores\": 60.0}]}}, {\"mode\": \"vega-lite\"});\n",
              "</script>\n",
              "      <script type=\"text/javascript\">\n",
              "        (() => {\n",
              "          const chartElement = document.getElementById(\"chart-b85f2a1a-d06d-4fe1-a264-32ef695fb29e\");\n",
              "          async function getCodeForChartHandler(event) {\n",
              "            const chartCodeResponse =  await google.colab.kernel.invokeFunction(\n",
              "                'getCodeForChart', [\"chart-b85f2a1a-d06d-4fe1-a264-32ef695fb29e\"], {});\n",
              "            const responseJson = chartCodeResponse.data['application/json'];\n",
              "            await google.colab.notebook.addCell(responseJson.code, 'code');\n",
              "          }\n",
              "          chartElement.onclick = getCodeForChartHandler;\n",
              "        })();\n",
              "      </script>\n",
              "      <style>\n",
              "        .colab-quickchart-chart-with-code  {\n",
              "            display: block;\n",
              "            float: left;\n",
              "            border: 1px solid transparent;\n",
              "        }\n",
              "\n",
              "        .colab-quickchart-chart-with-code:hover {\n",
              "            cursor: pointer;\n",
              "            border: 1px solid #aaa;\n",
              "        }\n",
              "      </style>"
            ]
          },
          "metadata": {}
        },
        {
          "output_type": "display_data",
          "data": {
            "text/plain": [
              "import altair as alt\n",
              "from google.colab import autoviz\n",
              "df_1173136793127004957 = autoviz.get_registered_df('df_1173136793127004957')\n",
              "\n",
              "def time_series_multiline(\n",
              "    df, timelike_colname, value_colname='count()', series_colname=None,\n",
              "    color='steelblue', width=300, height=100):\n",
              "  return (alt.Chart(df).mark_line()\n",
              "          .encode(\n",
              "              x=timelike_colname + ':T',\n",
              "              y=value_colname + ':Q',\n",
              "              color=(alt.value(color) if not series_colname\n",
              "                     else series_colname + ':N'))\n",
              "          .properties(width=width, height=height))\n",
              "\n",
              "chart = time_series_multiline(df_1173136793127004957, *['index', 'count()', None], **{})\n",
              "chart"
            ],
            "text/html": [
              "      <div class=\"colab-quickchart-chart-with-code\" id=\"chart-12e4c5ed-7c71-4982-b99a-0f0544b77cbb\">\n",
              "        \n",
              "<div id=\"altair-viz-67a10106f8cc4b8ab948320f6158b07c\"></div>\n",
              "\n",
              "      </div>\n",
              "      <script type=\"text/javascript\">\n",
              "  var VEGA_DEBUG = (typeof VEGA_DEBUG == \"undefined\") ? {} : VEGA_DEBUG;\n",
              "  (function(spec, embedOpt){\n",
              "    let outputDiv = document.currentScript.previousElementSibling;\n",
              "    if (outputDiv.id !== \"altair-viz-67a10106f8cc4b8ab948320f6158b07c\") {\n",
              "      outputDiv = document.getElementById(\"altair-viz-67a10106f8cc4b8ab948320f6158b07c\");\n",
              "    }\n",
              "    const paths = {\n",
              "      \"vega\": \"https://cdn.jsdelivr.net/npm//vega@5?noext\",\n",
              "      \"vega-lib\": \"https://cdn.jsdelivr.net/npm//vega-lib?noext\",\n",
              "      \"vega-lite\": \"https://cdn.jsdelivr.net/npm//vega-lite@4.17.0?noext\",\n",
              "      \"vega-embed\": \"https://cdn.jsdelivr.net/npm//vega-embed@6?noext\",\n",
              "    };\n",
              "\n",
              "    function maybeLoadScript(lib, version) {\n",
              "      var key = `${lib.replace(\"-\", \"\")}_version`;\n",
              "      return (VEGA_DEBUG[key] == version) ?\n",
              "        Promise.resolve(paths[lib]) :\n",
              "        new Promise(function(resolve, reject) {\n",
              "          var s = document.createElement('script');\n",
              "          document.getElementsByTagName(\"head\")[0].appendChild(s);\n",
              "          s.async = true;\n",
              "          s.onload = () => {\n",
              "            VEGA_DEBUG[key] = version;\n",
              "            return resolve(paths[lib]);\n",
              "          };\n",
              "          s.onerror = () => reject(`Error loading script: ${paths[lib]}`);\n",
              "          s.src = paths[lib];\n",
              "        });\n",
              "    }\n",
              "\n",
              "    function showError(err) {\n",
              "      outputDiv.innerHTML = `<div class=\"error\" style=\"color:red;\">${err}</div>`;\n",
              "      throw err;\n",
              "    }\n",
              "\n",
              "    function displayChart(vegaEmbed) {\n",
              "      vegaEmbed(outputDiv, spec, embedOpt)\n",
              "        .catch(err => showError(`Javascript Error: ${err.message}<br>This usually means there's a typo in your chart specification. See the javascript console for the full traceback.`));\n",
              "    }\n",
              "\n",
              "    if(typeof define === \"function\" && define.amd) {\n",
              "      requirejs.config({paths});\n",
              "      require([\"vega-embed\"], displayChart, err => showError(`Error loading script: ${err.message}`));\n",
              "    } else {\n",
              "      maybeLoadScript(\"vega\", \"5\")\n",
              "        .then(() => maybeLoadScript(\"vega-lite\", \"4.17.0\"))\n",
              "        .then(() => maybeLoadScript(\"vega-embed\", \"6\"))\n",
              "        .catch(showError)\n",
              "        .then(() => displayChart(vegaEmbed));\n",
              "    }\n",
              "  })({\"config\": {\"view\": {\"continuousWidth\": 400, \"continuousHeight\": 300}}, \"data\": {\"name\": \"data-9c26edb95f397bbe612cac3d9ebe3ba4\"}, \"mark\": \"line\", \"encoding\": {\"color\": {\"value\": \"steelblue\"}, \"x\": {\"field\": \"index\", \"type\": \"temporal\"}, \"y\": {\"aggregate\": \"count\", \"type\": \"quantitative\"}}, \"height\": 100, \"width\": 300, \"$schema\": \"https://vega.github.io/schema/vega-lite/v4.17.0.json\", \"datasets\": {\"data-9c26edb95f397bbe612cac3d9ebe3ba4\": [{\"index\": 0, \"Hours\": 2.5, \"Scores\": 21.0}, {\"index\": 1, \"Hours\": 5.1, \"Scores\": 47.0}, {\"index\": 2, \"Hours\": 3.2, \"Scores\": 27.0}, {\"index\": 3, \"Hours\": 8.5, \"Scores\": 75.0}, {\"index\": 4, \"Hours\": 3.5, \"Scores\": 30.0}, {\"index\": 5, \"Hours\": 1.5, \"Scores\": 20.0}, {\"index\": 6, \"Hours\": 9.2, \"Scores\": 88.0}, {\"index\": 7, \"Hours\": 5.5, \"Scores\": 60.0}, {\"index\": 8, \"Hours\": 8.3, \"Scores\": 81.0}, {\"index\": 9, \"Hours\": 2.7, \"Scores\": 25.0}, {\"index\": 10, \"Hours\": 7.7, \"Scores\": 85.0}, {\"index\": 11, \"Hours\": null, \"Scores\": 85.0}, {\"index\": 12, \"Hours\": 5.9, \"Scores\": 62.0}, {\"index\": 13, \"Hours\": 4.5, \"Scores\": 41.0}, {\"index\": 14, \"Hours\": 3.3, \"Scores\": 42.0}, {\"index\": 15, \"Hours\": 1.1, \"Scores\": 17.0}, {\"index\": 16, \"Hours\": 8.9, \"Scores\": 95.0}, {\"index\": 17, \"Hours\": 2.5, \"Scores\": 30.0}, {\"index\": 18, \"Hours\": 3.4, \"Scores\": null}, {\"index\": 19, \"Hours\": 1.9, \"Scores\": 24.0}, {\"index\": 20, \"Hours\": 6.1, \"Scores\": 67.0}, {\"index\": 21, \"Hours\": 7.4, \"Scores\": 69.0}, {\"index\": 22, \"Hours\": 2.7, \"Scores\": 30.0}, {\"index\": 23, \"Hours\": 4.8, \"Scores\": 54.0}, {\"index\": 24, \"Hours\": 3.8, \"Scores\": 35.0}, {\"index\": 25, \"Hours\": 6.9, \"Scores\": 76.0}, {\"index\": 26, \"Hours\": 7.8, \"Scores\": 86.0}, {\"index\": 27, \"Hours\": 1.3, \"Scores\": 19.0}, {\"index\": 28, \"Hours\": 2.6, \"Scores\": 30.0}, {\"index\": 29, \"Hours\": 6.1, \"Scores\": 63.0}, {\"index\": 30, \"Hours\": null, \"Scores\": null}, {\"index\": 31, \"Hours\": 5.6, \"Scores\": 60.0}]}}, {\"mode\": \"vega-lite\"});\n",
              "</script>\n",
              "      <script type=\"text/javascript\">\n",
              "        (() => {\n",
              "          const chartElement = document.getElementById(\"chart-12e4c5ed-7c71-4982-b99a-0f0544b77cbb\");\n",
              "          async function getCodeForChartHandler(event) {\n",
              "            const chartCodeResponse =  await google.colab.kernel.invokeFunction(\n",
              "                'getCodeForChart', [\"chart-12e4c5ed-7c71-4982-b99a-0f0544b77cbb\"], {});\n",
              "            const responseJson = chartCodeResponse.data['application/json'];\n",
              "            await google.colab.notebook.addCell(responseJson.code, 'code');\n",
              "          }\n",
              "          chartElement.onclick = getCodeForChartHandler;\n",
              "        })();\n",
              "      </script>\n",
              "      <style>\n",
              "        .colab-quickchart-chart-with-code  {\n",
              "            display: block;\n",
              "            float: left;\n",
              "            border: 1px solid transparent;\n",
              "        }\n",
              "\n",
              "        .colab-quickchart-chart-with-code:hover {\n",
              "            cursor: pointer;\n",
              "            border: 1px solid #aaa;\n",
              "        }\n",
              "      </style>"
            ]
          },
          "metadata": {}
        }
      ]
    },
    {
      "cell_type": "code",
      "source": [
        "df.head(5)"
      ],
      "metadata": {
        "colab": {
          "base_uri": "https://localhost:8080/",
          "height": 206
        },
        "id": "eMTdjkWioj0K",
        "outputId": "8453cf99-d96e-4e22-a547-0fe805d0948c"
      },
      "execution_count": 4,
      "outputs": [
        {
          "output_type": "execute_result",
          "data": {
            "text/plain": [
              "   Hours  Scores\n",
              "0    2.5    21.0\n",
              "1    5.1    47.0\n",
              "2    3.2    27.0\n",
              "3    8.5    75.0\n",
              "4    3.5    30.0"
            ],
            "text/html": [
              "\n",
              "  <div id=\"df-f94f4d86-8749-4a98-8bc6-f7701c2ddc83\">\n",
              "    <div class=\"colab-df-container\">\n",
              "      <div>\n",
              "<style scoped>\n",
              "    .dataframe tbody tr th:only-of-type {\n",
              "        vertical-align: middle;\n",
              "    }\n",
              "\n",
              "    .dataframe tbody tr th {\n",
              "        vertical-align: top;\n",
              "    }\n",
              "\n",
              "    .dataframe thead th {\n",
              "        text-align: right;\n",
              "    }\n",
              "</style>\n",
              "<table border=\"1\" class=\"dataframe\">\n",
              "  <thead>\n",
              "    <tr style=\"text-align: right;\">\n",
              "      <th></th>\n",
              "      <th>Hours</th>\n",
              "      <th>Scores</th>\n",
              "    </tr>\n",
              "  </thead>\n",
              "  <tbody>\n",
              "    <tr>\n",
              "      <th>0</th>\n",
              "      <td>2.5</td>\n",
              "      <td>21.0</td>\n",
              "    </tr>\n",
              "    <tr>\n",
              "      <th>1</th>\n",
              "      <td>5.1</td>\n",
              "      <td>47.0</td>\n",
              "    </tr>\n",
              "    <tr>\n",
              "      <th>2</th>\n",
              "      <td>3.2</td>\n",
              "      <td>27.0</td>\n",
              "    </tr>\n",
              "    <tr>\n",
              "      <th>3</th>\n",
              "      <td>8.5</td>\n",
              "      <td>75.0</td>\n",
              "    </tr>\n",
              "    <tr>\n",
              "      <th>4</th>\n",
              "      <td>3.5</td>\n",
              "      <td>30.0</td>\n",
              "    </tr>\n",
              "  </tbody>\n",
              "</table>\n",
              "</div>\n",
              "      <button class=\"colab-df-convert\" onclick=\"convertToInteractive('df-f94f4d86-8749-4a98-8bc6-f7701c2ddc83')\"\n",
              "              title=\"Convert this dataframe to an interactive table.\"\n",
              "              style=\"display:none;\">\n",
              "        \n",
              "  <svg xmlns=\"http://www.w3.org/2000/svg\" height=\"24px\"viewBox=\"0 0 24 24\"\n",
              "       width=\"24px\">\n",
              "    <path d=\"M0 0h24v24H0V0z\" fill=\"none\"/>\n",
              "    <path d=\"M18.56 5.44l.94 2.06.94-2.06 2.06-.94-2.06-.94-.94-2.06-.94 2.06-2.06.94zm-11 1L8.5 8.5l.94-2.06 2.06-.94-2.06-.94L8.5 2.5l-.94 2.06-2.06.94zm10 10l.94 2.06.94-2.06 2.06-.94-2.06-.94-.94-2.06-.94 2.06-2.06.94z\"/><path d=\"M17.41 7.96l-1.37-1.37c-.4-.4-.92-.59-1.43-.59-.52 0-1.04.2-1.43.59L10.3 9.45l-7.72 7.72c-.78.78-.78 2.05 0 2.83L4 21.41c.39.39.9.59 1.41.59.51 0 1.02-.2 1.41-.59l7.78-7.78 2.81-2.81c.8-.78.8-2.07 0-2.86zM5.41 20L4 18.59l7.72-7.72 1.47 1.35L5.41 20z\"/>\n",
              "  </svg>\n",
              "      </button>\n",
              "      \n",
              "  <style>\n",
              "    .colab-df-container {\n",
              "      display:flex;\n",
              "      flex-wrap:wrap;\n",
              "      gap: 12px;\n",
              "    }\n",
              "\n",
              "    .colab-df-convert {\n",
              "      background-color: #E8F0FE;\n",
              "      border: none;\n",
              "      border-radius: 50%;\n",
              "      cursor: pointer;\n",
              "      display: none;\n",
              "      fill: #1967D2;\n",
              "      height: 32px;\n",
              "      padding: 0 0 0 0;\n",
              "      width: 32px;\n",
              "    }\n",
              "\n",
              "    .colab-df-convert:hover {\n",
              "      background-color: #E2EBFA;\n",
              "      box-shadow: 0px 1px 2px rgba(60, 64, 67, 0.3), 0px 1px 3px 1px rgba(60, 64, 67, 0.15);\n",
              "      fill: #174EA6;\n",
              "    }\n",
              "\n",
              "    [theme=dark] .colab-df-convert {\n",
              "      background-color: #3B4455;\n",
              "      fill: #D2E3FC;\n",
              "    }\n",
              "\n",
              "    [theme=dark] .colab-df-convert:hover {\n",
              "      background-color: #434B5C;\n",
              "      box-shadow: 0px 1px 3px 1px rgba(0, 0, 0, 0.15);\n",
              "      filter: drop-shadow(0px 1px 2px rgba(0, 0, 0, 0.3));\n",
              "      fill: #FFFFFF;\n",
              "    }\n",
              "  </style>\n",
              "\n",
              "      <script>\n",
              "        const buttonEl =\n",
              "          document.querySelector('#df-f94f4d86-8749-4a98-8bc6-f7701c2ddc83 button.colab-df-convert');\n",
              "        buttonEl.style.display =\n",
              "          google.colab.kernel.accessAllowed ? 'block' : 'none';\n",
              "\n",
              "        async function convertToInteractive(key) {\n",
              "          const element = document.querySelector('#df-f94f4d86-8749-4a98-8bc6-f7701c2ddc83');\n",
              "          const dataTable =\n",
              "            await google.colab.kernel.invokeFunction('convertToInteractive',\n",
              "                                                     [key], {});\n",
              "          if (!dataTable) return;\n",
              "\n",
              "          const docLinkHtml = 'Like what you see? Visit the ' +\n",
              "            '<a target=\"_blank\" href=https://colab.research.google.com/notebooks/data_table.ipynb>data table notebook</a>'\n",
              "            + ' to learn more about interactive tables.';\n",
              "          element.innerHTML = '';\n",
              "          dataTable['output_type'] = 'display_data';\n",
              "          await google.colab.output.renderOutput(dataTable, element);\n",
              "          const docLink = document.createElement('div');\n",
              "          docLink.innerHTML = docLinkHtml;\n",
              "          element.appendChild(docLink);\n",
              "        }\n",
              "      </script>\n",
              "    </div>\n",
              "  </div>\n",
              "  "
            ]
          },
          "metadata": {},
          "execution_count": 4
        }
      ]
    },
    {
      "cell_type": "code",
      "source": [
        "df.shape"
      ],
      "metadata": {
        "colab": {
          "base_uri": "https://localhost:8080/"
        },
        "id": "xj2cknY9qOwO",
        "outputId": "2c7c0cb3-f095-41b1-f6df-1e6f0745c5d5"
      },
      "execution_count": 5,
      "outputs": [
        {
          "output_type": "execute_result",
          "data": {
            "text/plain": [
              "(32, 2)"
            ]
          },
          "metadata": {},
          "execution_count": 5
        }
      ]
    },
    {
      "cell_type": "code",
      "source": [],
      "metadata": {
        "id": "04Euk1WYqbwM"
      },
      "execution_count": null,
      "outputs": []
    },
    {
      "cell_type": "markdown",
      "source": [
        "**step2:visualization of dataset\n"
      ],
      "metadata": {
        "id": "gYVhzKawqwH1"
      }
    },
    {
      "cell_type": "code",
      "source": [
        "import matplotlib.pyplot as plt\n",
        "plt.scatter(df.Hours,df['Scores'],marker='*')\n",
        "plt.xlabel(\"Hours\")\n",
        "plt.ylabel(\"Estimated Scores---->\")\n",
        "plt.title(\"Employee Score Probability\")\n",
        "plt.show()"
      ],
      "metadata": {
        "colab": {
          "base_uri": "https://localhost:8080/",
          "height": 472
        },
        "id": "4qR4ZeYJq2YH",
        "outputId": "9bcc2109-3988-43b3-9e8d-d3187e17f66a"
      },
      "execution_count": 7,
      "outputs": [
        {
          "output_type": "display_data",
          "data": {
            "text/plain": [
              "<Figure size 640x480 with 1 Axes>"
            ],
            "image/png": "[encoded data removed]"
          },
          "metadata": {}
        }
      ]
    },
    {
      "cell_type": "code",
      "source": [
        "#seaborn lib- heatmaps(To visualize the missing values)\n",
        "import seaborn as sns\n",
        "def get_heatmap(df):\n",
        "  plt.figure(figsize=(4,2))\n",
        "  sns.heatmap(df.isnull(),yticklabels=False,cbar=False,cmap='viridis')\n",
        "  return plt.show\n",
        "get_heatmap(df)"
      ],
      "metadata": {
        "colab": {
          "base_uri": "https://localhost:8080/",
          "height": 231
        },
        "id": "EFluZovgrgGZ",
        "outputId": "08c886c2-aa05-41b6-9c5f-1ddd510ae860"
      },
      "execution_count": 14,
      "outputs": [
        {
          "output_type": "execute_result",
          "data": {
            "text/plain": [
              "<function matplotlib.pyplot.show(close=None, block=None)>"
            ]
          },
          "metadata": {},
          "execution_count": 14
        },
        {
          "output_type": "display_data",
          "data": {
            "text/plain": [
              "<Figure size 400x200 with 1 Axes>"
            ],
            "image/png": "[encoded data removed]"
          },
          "metadata": {}
        }
      ]
    },
    {
      "cell_type": "code",
      "source": [],
      "metadata": {
        "id": "gxsm4UlOsn3i"
      },
      "execution_count": null,
      "outputs": []
    },
    {
      "cell_type": "markdown",
      "source": [
        "**Step3:Preprocessing the dataset\n",
        "**bold text**"
      ],
      "metadata": {
        "id": "JWau7J8wth0_"
      }
    },
    {
      "cell_type": "code",
      "source": [
        "#Treating missing values\n",
        "'''\n",
        "df.dropona()'''#-->will drop all NaN values\n",
        "\n",
        "mean_h=df.Hours.mean()\n",
        "median_h=df.Hours.median()\n",
        "mean_s=df.Scores.mean()\n",
        "median_s=df.Scores.median()\n",
        "\n",
        "print(mean_h)\n",
        "print(median_h)\n",
        "print(mean_s)\n",
        "print(median_s)"
      ],
      "metadata": {
        "colab": {
          "base_uri": "https://localhost:8080/"
        },
        "id": "9uUG49DYtmkz",
        "outputId": "a176ac63-cda6-4034-82ea-3588a6f4c21c"
      },
      "execution_count": 15,
      "outputs": [
        {
          "output_type": "stream",
          "name": "stdout",
          "text": [
            "4.8100000000000005\n",
            "4.65\n",
            "51.46666666666667\n",
            "50.5\n"
          ]
        }
      ]
    },
    {
      "cell_type": "code",
      "source": [
        "df['Hours']=df.Hours.fillna(mean_h)"
      ],
      "metadata": {
        "id": "PsQ8aiAqvl0t"
      },
      "execution_count": 60,
      "outputs": []
    },
    {
      "cell_type": "code",
      "source": [
        "df['Hours']"
      ],
      "metadata": {
        "colab": {
          "base_uri": "https://localhost:8080/"
        },
        "id": "7royGbvYvs_s",
        "outputId": "546fa1e2-9969-4e41-ddf4-b7bfac43546e"
      },
      "execution_count": 61,
      "outputs": [
        {
          "output_type": "execute_result",
          "data": {
            "text/plain": [
              "0     2.50\n",
              "1     5.10\n",
              "2     3.20\n",
              "3     8.50\n",
              "4     3.50\n",
              "5     1.50\n",
              "6     9.20\n",
              "7     5.50\n",
              "8     8.30\n",
              "9     2.70\n",
              "10    7.70\n",
              "11    4.65\n",
              "12    5.90\n",
              "13    4.50\n",
              "14    3.30\n",
              "15    1.10\n",
              "16    8.90\n",
              "17    2.50\n",
              "18    3.40\n",
              "19    1.90\n",
              "20    6.10\n",
              "21    7.40\n",
              "22    2.70\n",
              "23    4.80\n",
              "24    3.80\n",
              "25    6.90\n",
              "26    7.80\n",
              "27    1.30\n",
              "28    2.60\n",
              "29    6.10\n",
              "30    4.65\n",
              "31    5.60\n",
              "Name: Hours, dtype: float64"
            ]
          },
          "metadata": {},
          "execution_count": 61
        }
      ]
    },
    {
      "cell_type": "code",
      "source": [
        "import math\n",
        "df['Scores']=df.Scores.fillna(math.floor(df.Scores.mean()))"
      ],
      "metadata": {
        "id": "2QzuzV1qvvwg"
      },
      "execution_count": 62,
      "outputs": []
    },
    {
      "cell_type": "code",
      "source": [
        "#seaborn lib- heatmaps(To visualize the missing values)\n",
        "import seaborn as sns\n",
        "def get_heatmap(df):\n",
        "  plt.figure(figsize=(4,2))\n",
        "  sns.heatmap(df.isnull(),yticklabels=False,cbar=False,cmap='viridis')\n",
        "  return plt.show\n",
        "get_heatmap(df)"
      ],
      "metadata": {
        "colab": {
          "base_uri": "https://localhost:8080/",
          "height": 231
        },
        "id": "LJxdrbrnwNfP",
        "outputId": "8f50c071-fb28-4223-c970-1624ebe2e445"
      },
      "execution_count": 63,
      "outputs": [
        {
          "output_type": "execute_result",
          "data": {
            "text/plain": [
              "<function matplotlib.pyplot.show(close=None, block=None)>"
            ]
          },
          "metadata": {},
          "execution_count": 63
        },
        {
          "output_type": "display_data",
          "data": {
            "text/plain": [
              "<Figure size 400x200 with 1 Axes>"
            ],
            "image/png": "[encoded data removed]"
          },
          "metadata": {}
        }
      ]
    },
    {
      "cell_type": "code",
      "source": [
        "df['Scores']"
      ],
      "metadata": {
        "colab": {
          "base_uri": "https://localhost:8080/"
        },
        "id": "OXmW2vxxwQ4m",
        "outputId": "a864ac39-a523-4afd-ffe0-e834281d96f6"
      },
      "execution_count": 64,
      "outputs": [
        {
          "output_type": "execute_result",
          "data": {
            "text/plain": [
              "0     21.0\n",
              "1     47.0\n",
              "2     27.0\n",
              "3     75.0\n",
              "4     30.0\n",
              "5     20.0\n",
              "6     88.0\n",
              "7     60.0\n",
              "8     81.0\n",
              "9     25.0\n",
              "10    85.0\n",
              "11    85.0\n",
              "12    62.0\n",
              "13    41.0\n",
              "14    42.0\n",
              "15    17.0\n",
              "16    95.0\n",
              "17    30.0\n",
              "18    51.0\n",
              "19    24.0\n",
              "20    67.0\n",
              "21    69.0\n",
              "22    30.0\n",
              "23    54.0\n",
              "24    35.0\n",
              "25    76.0\n",
              "26    86.0\n",
              "27    19.0\n",
              "28    30.0\n",
              "29    63.0\n",
              "30    51.0\n",
              "31    60.0\n",
              "Name: Scores, dtype: float64"
            ]
          },
          "metadata": {},
          "execution_count": 64
        }
      ]
    },
    {
      "cell_type": "code",
      "source": [],
      "metadata": {
        "id": "N9cfFJ1fwXJG"
      },
      "execution_count": null,
      "outputs": []
    },
    {
      "cell_type": "markdown",
      "source": [
        "**Step 4:Loading the data"
      ],
      "metadata": {
        "id": "47uvF_tvA619"
      }
    },
    {
      "cell_type": "code",
      "source": [
        "#x ->independendt var - features\n",
        "#y->dependent var -target\n",
        "X=df.iloc[:,0:1] # df.iloc[:,:-1]\n",
        "\n",
        "Y=df.iloc[:,1:2] #df.iloc[:,-1:]"
      ],
      "metadata": {
        "id": "p0WfML9SA-0i"
      },
      "execution_count": 65,
      "outputs": []
    },
    {
      "cell_type": "code",
      "source": [
        "X,Y"
      ],
      "metadata": {
        "colab": {
          "base_uri": "https://localhost:8080/"
        },
        "id": "hwZ15v0wBWTm",
        "outputId": "28d86b32-395e-44fc-eb73-28ecaa50599a"
      },
      "execution_count": 66,
      "outputs": [
        {
          "output_type": "execute_result",
          "data": {
            "text/plain": [
              "(    Hours\n",
              " 0    2.50\n",
              " 1    5.10\n",
              " 2    3.20\n",
              " 3    8.50\n",
              " 4    3.50\n",
              " 5    1.50\n",
              " 6    9.20\n",
              " 7    5.50\n",
              " 8    8.30\n",
              " 9    2.70\n",
              " 10   7.70\n",
              " 11   4.65\n",
              " 12   5.90\n",
              " 13   4.50\n",
              " 14   3.30\n",
              " 15   1.10\n",
              " 16   8.90\n",
              " 17   2.50\n",
              " 18   3.40\n",
              " 19   1.90\n",
              " 20   6.10\n",
              " 21   7.40\n",
              " 22   2.70\n",
              " 23   4.80\n",
              " 24   3.80\n",
              " 25   6.90\n",
              " 26   7.80\n",
              " 27   1.30\n",
              " 28   2.60\n",
              " 29   6.10\n",
              " 30   4.65\n",
              " 31   5.60,\n",
              "     Scores\n",
              " 0     21.0\n",
              " 1     47.0\n",
              " 2     27.0\n",
              " 3     75.0\n",
              " 4     30.0\n",
              " 5     20.0\n",
              " 6     88.0\n",
              " 7     60.0\n",
              " 8     81.0\n",
              " 9     25.0\n",
              " 10    85.0\n",
              " 11    85.0\n",
              " 12    62.0\n",
              " 13    41.0\n",
              " 14    42.0\n",
              " 15    17.0\n",
              " 16    95.0\n",
              " 17    30.0\n",
              " 18    51.0\n",
              " 19    24.0\n",
              " 20    67.0\n",
              " 21    69.0\n",
              " 22    30.0\n",
              " 23    54.0\n",
              " 24    35.0\n",
              " 25    76.0\n",
              " 26    86.0\n",
              " 27    19.0\n",
              " 28    30.0\n",
              " 29    63.0\n",
              " 30    51.0\n",
              " 31    60.0)"
            ]
          },
          "metadata": {},
          "execution_count": 66
        }
      ]
    },
    {
      "cell_type": "code",
      "source": [],
      "metadata": {
        "id": "xB5y-E76BqB2"
      },
      "execution_count": null,
      "outputs": []
    },
    {
      "cell_type": "markdown",
      "source": [
        "**For a ML model we can only feed data in the foem of arrays and the array should be 2D"
      ],
      "metadata": {
        "id": "GVF_-CzBCsoN"
      }
    },
    {
      "cell_type": "code",
      "source": [
        "#Convert dataframe to 2D array\n",
        "X= df.iloc[:,:-1].values\n",
        "print(X)\n",
        "\n",
        "#Other way --->df.to_numpy()\n",
        "\n",
        "\n",
        "#other way for same\n",
        "# Z = list(X['Hours'])\n",
        "# for i in Z:\n",
        "#   Z= list(i)\n",
        "# Z"
      ],
      "metadata": {
        "colab": {
          "base_uri": "https://localhost:8080/"
        },
        "id": "KBKVCqMTDAG3",
        "outputId": "427c59dc-9b1d-4c29-952c-6b6cd3b2a133"
      },
      "execution_count": 67,
      "outputs": [
        {
          "output_type": "stream",
          "name": "stdout",
          "text": [
            "[[2.5 ]\n",
            " [5.1 ]\n",
            " [3.2 ]\n",
            " [8.5 ]\n",
            " [3.5 ]\n",
            " [1.5 ]\n",
            " [9.2 ]\n",
            " [5.5 ]\n",
            " [8.3 ]\n",
            " [2.7 ]\n",
            " [7.7 ]\n",
            " [4.65]\n",
            " [5.9 ]\n",
            " [4.5 ]\n",
            " [3.3 ]\n",
            " [1.1 ]\n",
            " [8.9 ]\n",
            " [2.5 ]\n",
            " [3.4 ]\n",
            " [1.9 ]\n",
            " [6.1 ]\n",
            " [7.4 ]\n",
            " [2.7 ]\n",
            " [4.8 ]\n",
            " [3.8 ]\n",
            " [6.9 ]\n",
            " [7.8 ]\n",
            " [1.3 ]\n",
            " [2.6 ]\n",
            " [6.1 ]\n",
            " [4.65]\n",
            " [5.6 ]]\n"
          ]
        }
      ]
    },
    {
      "cell_type": "code",
      "source": [
        "#Other way\n",
        "\n",
        "import numpy as np\n",
        "X=np.array(df[['Hours']])\n",
        "X\n",
        "Y=np.array(df[['Scores']])\n",
        "Y"
      ],
      "metadata": {
        "colab": {
          "base_uri": "https://localhost:8080/"
        },
        "id": "7I0D9Q6UDKkp",
        "outputId": "9d605ce9-7975-478b-974e-28f4c7a14d5b"
      },
      "execution_count": 68,
      "outputs": [
        {
          "output_type": "execute_result",
          "data": {
            "text/plain": [
              "array([[21.],\n",
              "       [47.],\n",
              "       [27.],\n",
              "       [75.],\n",
              "       [30.],\n",
              "       [20.],\n",
              "       [88.],\n",
              "       [60.],\n",
              "       [81.],\n",
              "       [25.],\n",
              "       [85.],\n",
              "       [85.],\n",
              "       [62.],\n",
              "       [41.],\n",
              "       [42.],\n",
              "       [17.],\n",
              "       [95.],\n",
              "       [30.],\n",
              "       [51.],\n",
              "       [24.],\n",
              "       [67.],\n",
              "       [69.],\n",
              "       [30.],\n",
              "       [54.],\n",
              "       [35.],\n",
              "       [76.],\n",
              "       [86.],\n",
              "       [19.],\n",
              "       [30.],\n",
              "       [63.],\n",
              "       [51.],\n",
              "       [60.]])"
            ]
          },
          "metadata": {},
          "execution_count": 68
        }
      ]
    },
    {
      "cell_type": "markdown",
      "source": [
        "**step 5: splitting the dataset -Train set &"
      ],
      "metadata": {
        "id": "qME3wA16Fpjg"
      }
    },
    {
      "cell_type": "code",
      "source": [
        "from sklearn.model_selection import train_test_split\n",
        "X_train,X_test,Y_train,Y_test=train_test_split(X,Y,test_size=0.2)"
      ],
      "metadata": {
        "id": "KwxSC6dKHc7T"
      },
      "execution_count": 69,
      "outputs": []
    },
    {
      "cell_type": "code",
      "source": [
        "X_train"
      ],
      "metadata": {
        "colab": {
          "base_uri": "https://localhost:8080/"
        },
        "id": "snZK1-PnIDeA",
        "outputId": "9107ea99-758f-4dbc-bdd6-c9545d7e8b31"
      },
      "execution_count": 70,
      "outputs": [
        {
          "output_type": "execute_result",
          "data": {
            "text/plain": [
              "array([[1.3 ],\n",
              "       [1.5 ],\n",
              "       [5.9 ],\n",
              "       [2.5 ],\n",
              "       [5.5 ],\n",
              "       [6.1 ],\n",
              "       [1.1 ],\n",
              "       [4.65],\n",
              "       [7.8 ],\n",
              "       [2.7 ],\n",
              "       [7.7 ],\n",
              "       [3.5 ],\n",
              "       [2.6 ],\n",
              "       [8.9 ],\n",
              "       [9.2 ],\n",
              "       [8.3 ],\n",
              "       [4.5 ],\n",
              "       [2.5 ],\n",
              "       [3.2 ],\n",
              "       [6.1 ],\n",
              "       [4.65],\n",
              "       [4.8 ],\n",
              "       [5.6 ],\n",
              "       [8.5 ],\n",
              "       [3.3 ]])"
            ]
          },
          "metadata": {},
          "execution_count": 70
        }
      ]
    },
    {
      "cell_type": "code",
      "source": [
        "Y_train"
      ],
      "metadata": {
        "colab": {
          "base_uri": "https://localhost:8080/"
        },
        "id": "3GzJViNbIFtu",
        "outputId": "338b44be-2d9f-404f-dfc1-a749eeb40399"
      },
      "execution_count": 71,
      "outputs": [
        {
          "output_type": "execute_result",
          "data": {
            "text/plain": [
              "array([[19.],\n",
              "       [20.],\n",
              "       [62.],\n",
              "       [21.],\n",
              "       [60.],\n",
              "       [63.],\n",
              "       [17.],\n",
              "       [85.],\n",
              "       [86.],\n",
              "       [25.],\n",
              "       [85.],\n",
              "       [30.],\n",
              "       [30.],\n",
              "       [95.],\n",
              "       [88.],\n",
              "       [81.],\n",
              "       [41.],\n",
              "       [30.],\n",
              "       [27.],\n",
              "       [67.],\n",
              "       [51.],\n",
              "       [54.],\n",
              "       [60.],\n",
              "       [75.],\n",
              "       [42.]])"
            ]
          },
          "metadata": {},
          "execution_count": 71
        }
      ]
    },
    {
      "cell_type": "code",
      "source": [
        "X_test"
      ],
      "metadata": {
        "colab": {
          "base_uri": "https://localhost:8080/"
        },
        "id": "MNva29SbIJ5p",
        "outputId": "0bfd3acc-201f-44b6-c0db-a3613402db72"
      },
      "execution_count": 72,
      "outputs": [
        {
          "output_type": "execute_result",
          "data": {
            "text/plain": [
              "array([[3.4],\n",
              "       [6.9],\n",
              "       [7.4],\n",
              "       [2.7],\n",
              "       [3.8],\n",
              "       [5.1],\n",
              "       [1.9]])"
            ]
          },
          "metadata": {},
          "execution_count": 72
        }
      ]
    },
    {
      "cell_type": "code",
      "source": [
        "Y_test"
      ],
      "metadata": {
        "colab": {
          "base_uri": "https://localhost:8080/"
        },
        "id": "9muwGyvDIMG5",
        "outputId": "01755779-6605-4bca-fd15-7a50f591449d"
      },
      "execution_count": 73,
      "outputs": [
        {
          "output_type": "execute_result",
          "data": {
            "text/plain": [
              "array([[51.],\n",
              "       [76.],\n",
              "       [69.],\n",
              "       [30.],\n",
              "       [35.],\n",
              "       [47.],\n",
              "       [24.]])"
            ]
          },
          "metadata": {},
          "execution_count": 73
        }
      ]
    },
    {
      "cell_type": "markdown",
      "source": [
        "Step 6:Train the model -Feeding the model/Fitting the algo\n"
      ],
      "metadata": {
        "id": "k4SXojA2I1HG"
      }
    },
    {
      "cell_type": "code",
      "source": [
        "from sklearn.linear_model import LinearRegression\n",
        "model=LinearRegression()"
      ],
      "metadata": {
        "id": "UGSl6f4ZIVw6"
      },
      "execution_count": 74,
      "outputs": []
    },
    {
      "cell_type": "code",
      "source": [
        "model.fit(X_train,Y_train)"
      ],
      "metadata": {
        "colab": {
          "base_uri": "https://localhost:8080/",
          "height": 74
        },
        "id": "tmtWHNsrJRrE",
        "outputId": "aa11e58d-7567-41d7-e9c3-cb139212c0b6"
      },
      "execution_count": 75,
      "outputs": [
        {
          "output_type": "execute_result",
          "data": {
            "text/plain": [
              "LinearRegression()"
            ],
            "text/html": [
              "<style>#sk-container-id-2 {color: black;background-color: white;}#sk-container-id-2 pre{padding: 0;}#sk-container-id-2 div.sk-toggleable {background-color: white;}#sk-container-id-2 label.sk-toggleable__label {cursor: pointer;display: block;width: 100%;margin-bottom: 0;padding: 0.3em;box-sizing: border-box;text-align: center;}#sk-container-id-2 label.sk-toggleable__label-arrow:before {content: \"▸\";float: left;margin-right: 0.25em;color: #696969;}#sk-container-id-2 label.sk-toggleable__label-arrow:hover:before {color: black;}#sk-container-id-2 div.sk-estimator:hover label.sk-toggleable__label-arrow:before {color: black;}#sk-container-id-2 div.sk-toggleable__content {max-height: 0;max-width: 0;overflow: hidden;text-align: left;background-color: #f0f8ff;}#sk-container-id-2 div.sk-toggleable__content pre {margin: 0.2em;color: black;border-radius: 0.25em;background-color: #f0f8ff;}#sk-container-id-2 input.sk-toggleable__control:checked~div.sk-toggleable__content {max-height: 200px;max-width: 100%;overflow: auto;}#sk-container-id-2 input.sk-toggleable__control:checked~label.sk-toggleable__label-arrow:before {content: \"▾\";}#sk-container-id-2 div.sk-estimator input.sk-toggleable__control:checked~label.sk-toggleable__label {background-color: #d4ebff;}#sk-container-id-2 div.sk-label input.sk-toggleable__control:checked~label.sk-toggleable__label {background-color: #d4ebff;}#sk-container-id-2 input.sk-hidden--visually {border: 0;clip: rect(1px 1px 1px 1px);clip: rect(1px, 1px, 1px, 1px);height: 1px;margin: -1px;overflow: hidden;padding: 0;position: absolute;width: 1px;}#sk-container-id-2 div.sk-estimator {font-family: monospace;background-color: #f0f8ff;border: 1px dotted black;border-radius: 0.25em;box-sizing: border-box;margin-bottom: 0.5em;}#sk-container-id-2 div.sk-estimator:hover {background-color: #d4ebff;}#sk-container-id-2 div.sk-parallel-item::after {content: \"\";width: 100%;border-bottom: 1px solid gray;flex-grow: 1;}#sk-container-id-2 div.sk-label:hover label.sk-toggleable__label {background-color: #d4ebff;}#sk-container-id-2 div.sk-serial::before {content: \"\";position: absolute;border-left: 1px solid gray;box-sizing: border-box;top: 0;bottom: 0;left: 50%;z-index: 0;}#sk-container-id-2 div.sk-serial {display: flex;flex-direction: column;align-items: center;background-color: white;padding-right: 0.2em;padding-left: 0.2em;position: relative;}#sk-container-id-2 div.sk-item {position: relative;z-index: 1;}#sk-container-id-2 div.sk-parallel {display: flex;align-items: stretch;justify-content: center;background-color: white;position: relative;}#sk-container-id-2 div.sk-item::before, #sk-container-id-2 div.sk-parallel-item::before {content: \"\";position: absolute;border-left: 1px solid gray;box-sizing: border-box;top: 0;bottom: 0;left: 50%;z-index: -1;}#sk-container-id-2 div.sk-parallel-item {display: flex;flex-direction: column;z-index: 1;position: relative;background-color: white;}#sk-container-id-2 div.sk-parallel-item:first-child::after {align-self: flex-end;width: 50%;}#sk-container-id-2 div.sk-parallel-item:last-child::after {align-self: flex-start;width: 50%;}#sk-container-id-2 div.sk-parallel-item:only-child::after {width: 0;}#sk-container-id-2 div.sk-dashed-wrapped {border: 1px dashed gray;margin: 0 0.4em 0.5em 0.4em;box-sizing: border-box;padding-bottom: 0.4em;background-color: white;}#sk-container-id-2 div.sk-label label {font-family: monospace;font-weight: bold;display: inline-block;line-height: 1.2em;}#sk-container-id-2 div.sk-label-container {text-align: center;}#sk-container-id-2 div.sk-container {/* jupyter's `normalize.less` sets `[hidden] { display: none; }` but bootstrap.min.css set `[hidden] { display: none !important; }` so we also need the `!important` here to be able to override the default hidden behavior on the sphinx rendered scikit-learn.org. See: https://github.com/scikit-learn/scikit-learn/issues/21755 */display: inline-block !important;position: relative;}#sk-container-id-2 div.sk-text-repr-fallback {display: none;}</style><div id=\"sk-container-id-2\" class=\"sk-top-container\"><div class=\"sk-text-repr-fallback\"><pre>LinearRegression()</pre><b>In a Jupyter environment, please rerun this cell to show the HTML representation or trust the notebook. <br />On GitHub, the HTML representation is unable to render, please try loading this page with nbviewer.org.</b></div><div class=\"sk-container\" hidden><div class=\"sk-item\"><div class=\"sk-estimator sk-toggleable\"><input class=\"sk-toggleable__control sk-hidden--visually\" id=\"sk-estimator-id-2\" type=\"checkbox\" checked><label for=\"sk-estimator-id-2\" class=\"sk-toggleable__label sk-toggleable__label-arrow\">LinearRegression</label><div class=\"sk-toggleable__content\"><pre>LinearRegression()</pre></div></div></div></div></div>"
            ]
          },
          "metadata": {},
          "execution_count": 75
        }
      ]
    },
    {
      "cell_type": "markdown",
      "source": [
        "Step 7 : Testing the model\n"
      ],
      "metadata": {
        "id": "KT4pF9PyJeTy"
      }
    },
    {
      "cell_type": "code",
      "source": [
        "Y_pred=model.predict(X_test) # Y_test already predefined\n",
        "Y_pred"
      ],
      "metadata": {
        "colab": {
          "base_uri": "https://localhost:8080/"
        },
        "id": "2CdM7jaGJX98",
        "outputId": "b485d5b8-21e8-4c7d-b1f6-db85eb206cba"
      },
      "execution_count": 76,
      "outputs": [
        {
          "output_type": "execute_result",
          "data": {
            "text/plain": [
              "array([[38.09317041],\n",
              "       [71.93936264],\n",
              "       [76.77453295],\n",
              "       [31.32393196],\n",
              "       [41.96130666],\n",
              "       [54.53274949],\n",
              "       [23.58765945]])"
            ]
          },
          "metadata": {},
          "execution_count": 76
        }
      ]
    },
    {
      "cell_type": "markdown",
      "source": [
        "Step 8: Performance Evaluation\n"
      ],
      "metadata": {
        "id": "6ZdOpK_0LhfU"
      }
    },
    {
      "cell_type": "code",
      "source": [
        "from sklearn.metrics import accuract"
      ],
      "metadata": {
        "id": "VlFxxIU7MpoS"
      },
      "execution_count": null,
      "outputs": []
    },
    {
      "cell_type": "code",
      "source": [
        "model.score(X_test,Y_test)*100"
      ],
      "metadata": {
        "colab": {
          "base_uri": "https://localhost:8080/"
        },
        "id": "oUvanVc1Ldf-",
        "outputId": "ed37bcf9-9096-484d-ebe7-5a1d8f36a459"
      },
      "execution_count": 77,
      "outputs": [
        {
          "output_type": "execute_result",
          "data": {
            "text/plain": [
              "84.76599304013843"
            ]
          },
          "metadata": {},
          "execution_count": 77
        }
      ]
    },
    {
      "cell_type": "code",
      "source": [
        "model.score(X_train,Y_train)*100"
      ],
      "metadata": {
        "colab": {
          "base_uri": "https://localhost:8080/"
        },
        "id": "jROfbwGfL7ol",
        "outputId": "bb23c64f-e6b2-4116-c227-afbc76f3b36b"
      },
      "execution_count": 78,
      "outputs": [
        {
          "output_type": "execute_result",
          "data": {
            "text/plain": [
              "88.07720133841069"
            ]
          },
          "metadata": {},
          "execution_count": 78
        }
      ]
    },
    {
      "cell_type": "code",
      "source": [
        "#accuracy of whole model\n",
        "model.score(X,Y)*100"
      ],
      "metadata": {
        "colab": {
          "base_uri": "https://localhost:8080/"
        },
        "id": "p0mCNCUnMA4D",
        "outputId": "cdef5021-17c8-4931-e13e-300de20856ac"
      },
      "execution_count": 79,
      "outputs": [
        {
          "output_type": "execute_result",
          "data": {
            "text/plain": [
              "87.75262985143888"
            ]
          },
          "metadata": {},
          "execution_count": 79
        }
      ]
    },
    {
      "cell_type": "code",
      "source": [
        "from sklearn.metrics import mean_absolute_percentage_error\n",
        "\n",
        "mean_absolute_percentage_error(Y_test,Y_pred)"
      ],
      "metadata": {
        "colab": {
          "base_uri": "https://localhost:8080/"
        },
        "id": "Lkop54oWMGCZ",
        "outputId": "0f15eb24-f802-4690-f125-b951f4919b17"
      },
      "execution_count": 80,
      "outputs": [
        {
          "output_type": "execute_result",
          "data": {
            "text/plain": [
              "0.11995094043462143"
            ]
          },
          "metadata": {},
          "execution_count": 80
        }
      ]
    },
    {
      "cell_type": "code",
      "source": [
        "import matplotlib.pyplot as plt\n",
        "plt.scatter(df.Hours,df['Scores'],marker='*')\n",
        "plt.xlabel(\"Hours\")\n",
        "plt.ylabel(\"Estimated Scores---->\")\n",
        "plt.title(\"Employee Score Probability\")\n",
        "plt.show()"
      ],
      "metadata": {
        "colab": {
          "base_uri": "https://localhost:8080/",
          "height": 472
        },
        "id": "zEL1qigVSSuF",
        "outputId": "408402e3-dbcc-41c5-f5e7-b409623c8e7b"
      },
      "execution_count": 81,
      "outputs": [
        {
          "output_type": "display_data",
          "data": {
            "text/plain": [
              "<Figure size 640x480 with 1 Axes>"
            ],
            "image/png": "[encoded data removed]"
          },
          "metadata": {}
        }
      ]
    },
    {
      "cell_type": "code",
      "source": [
        "df"
      ],
      "metadata": {
        "colab": {
          "base_uri": "https://localhost:8080/",
          "height": 1000
        },
        "id": "tVMn8R6VTRel",
        "outputId": "6a0e30e9-b310-49e3-94b6-a2ea2c587a42"
      },
      "execution_count": 83,
      "outputs": [
        {
          "output_type": "execute_result",
          "data": {
            "text/plain": [
              "    Hours  Scores\n",
              "0    2.50    21.0\n",
              "1    5.10    47.0\n",
              "2    3.20    27.0\n",
              "3    8.50    75.0\n",
              "4    3.50    30.0\n",
              "5    1.50    20.0\n",
              "6    9.20    88.0\n",
              "7    5.50    60.0\n",
              "8    8.30    81.0\n",
              "9    2.70    25.0\n",
              "10   7.70    85.0\n",
              "11   4.65    85.0\n",
              "12   5.90    62.0\n",
              "13   4.50    41.0\n",
              "14   3.30    42.0\n",
              "15   1.10    17.0\n",
              "16   8.90    95.0\n",
              "17   2.50    30.0\n",
              "18   3.40    51.0\n",
              "19   1.90    24.0\n",
              "20   6.10    67.0\n",
              "21   7.40    69.0\n",
              "22   2.70    30.0\n",
              "23   4.80    54.0\n",
              "24   3.80    35.0\n",
              "25   6.90    76.0\n",
              "26   7.80    86.0\n",
              "27   1.30    19.0\n",
              "28   2.60    30.0\n",
              "29   6.10    63.0\n",
              "30   4.65    51.0\n",
              "31   5.60    60.0"
            ],
            "text/html": [
              "\n",
              "  <div id=\"df-c3b9d129-7520-4c3d-a9dc-f63542227b3e\">\n",
              "    <div class=\"colab-df-container\">\n",
              "      <div>\n",
              "<style scoped>\n",
              "    .dataframe tbody tr th:only-of-type {\n",
              "        vertical-align: middle;\n",
              "    }\n",
              "\n",
              "    .dataframe tbody tr th {\n",
              "        vertical-align: top;\n",
              "    }\n",
              "\n",
              "    .dataframe thead th {\n",
              "        text-align: right;\n",
              "    }\n",
              "</style>\n",
              "<table border=\"1\" class=\"dataframe\">\n",
              "  <thead>\n",
              "    <tr style=\"text-align: right;\">\n",
              "      <th></th>\n",
              "      <th>Hours</th>\n",
              "      <th>Scores</th>\n",
              "    </tr>\n",
              "  </thead>\n",
              "  <tbody>\n",
              "    <tr>\n",
              "      <th>0</th>\n",
              "      <td>2.50</td>\n",
              "      <td>21.0</td>\n",
              "    </tr>\n",
              "    <tr>\n",
              "      <th>1</th>\n",
              "      <td>5.10</td>\n",
              "      <td>47.0</td>\n",
              "    </tr>\n",
              "    <tr>\n",
              "      <th>2</th>\n",
              "      <td>3.20</td>\n",
              "      <td>27.0</td>\n",
              "    </tr>\n",
              "    <tr>\n",
              "      <th>3</th>\n",
              "      <td>8.50</td>\n",
              "      <td>75.0</td>\n",
              "    </tr>\n",
              "    <tr>\n",
              "      <th>4</th>\n",
              "      <td>3.50</td>\n",
              "      <td>30.0</td>\n",
              "    </tr>\n",
              "    <tr>\n",
              "      <th>5</th>\n",
              "      <td>1.50</td>\n",
              "      <td>20.0</td>\n",
              "    </tr>\n",
              "    <tr>\n",
              "      <th>6</th>\n",
              "      <td>9.20</td>\n",
              "      <td>88.0</td>\n",
              "    </tr>\n",
              "    <tr>\n",
              "      <th>7</th>\n",
              "      <td>5.50</td>\n",
              "      <td>60.0</td>\n",
              "    </tr>\n",
              "    <tr>\n",
              "      <th>8</th>\n",
              "      <td>8.30</td>\n",
              "      <td>81.0</td>\n",
              "    </tr>\n",
              "    <tr>\n",
              "      <th>9</th>\n",
              "      <td>2.70</td>\n",
              "      <td>25.0</td>\n",
              "    </tr>\n",
              "    <tr>\n",
              "      <th>10</th>\n",
              "      <td>7.70</td>\n",
              "      <td>85.0</td>\n",
              "    </tr>\n",
              "    <tr>\n",
              "      <th>11</th>\n",
              "      <td>4.65</td>\n",
              "      <td>85.0</td>\n",
              "    </tr>\n",
              "    <tr>\n",
              "      <th>12</th>\n",
              "      <td>5.90</td>\n",
              "      <td>62.0</td>\n",
              "    </tr>\n",
              "    <tr>\n",
              "      <th>13</th>\n",
              "      <td>4.50</td>\n",
              "      <td>41.0</td>\n",
              "    </tr>\n",
              "    <tr>\n",
              "      <th>14</th>\n",
              "      <td>3.30</td>\n",
              "      <td>42.0</td>\n",
              "    </tr>\n",
              "    <tr>\n",
              "      <th>15</th>\n",
              "      <td>1.10</td>\n",
              "      <td>17.0</td>\n",
              "    </tr>\n",
              "    <tr>\n",
              "      <th>16</th>\n",
              "      <td>8.90</td>\n",
              "      <td>95.0</td>\n",
              "    </tr>\n",
              "    <tr>\n",
              "      <th>17</th>\n",
              "      <td>2.50</td>\n",
              "      <td>30.0</td>\n",
              "    </tr>\n",
              "    <tr>\n",
              "      <th>18</th>\n",
              "      <td>3.40</td>\n",
              "      <td>51.0</td>\n",
              "    </tr>\n",
              "    <tr>\n",
              "      <th>19</th>\n",
              "      <td>1.90</td>\n",
              "      <td>24.0</td>\n",
              "    </tr>\n",
              "    <tr>\n",
              "      <th>20</th>\n",
              "      <td>6.10</td>\n",
              "      <td>67.0</td>\n",
              "    </tr>\n",
              "    <tr>\n",
              "      <th>21</th>\n",
              "      <td>7.40</td>\n",
              "      <td>69.0</td>\n",
              "    </tr>\n",
              "    <tr>\n",
              "      <th>22</th>\n",
              "      <td>2.70</td>\n",
              "      <td>30.0</td>\n",
              "    </tr>\n",
              "    <tr>\n",
              "      <th>23</th>\n",
              "      <td>4.80</td>\n",
              "      <td>54.0</td>\n",
              "    </tr>\n",
              "    <tr>\n",
              "      <th>24</th>\n",
              "      <td>3.80</td>\n",
              "      <td>35.0</td>\n",
              "    </tr>\n",
              "    <tr>\n",
              "      <th>25</th>\n",
              "      <td>6.90</td>\n",
              "      <td>76.0</td>\n",
              "    </tr>\n",
              "    <tr>\n",
              "      <th>26</th>\n",
              "      <td>7.80</td>\n",
              "      <td>86.0</td>\n",
              "    </tr>\n",
              "    <tr>\n",
              "      <th>27</th>\n",
              "      <td>1.30</td>\n",
              "      <td>19.0</td>\n",
              "    </tr>\n",
              "    <tr>\n",
              "      <th>28</th>\n",
              "      <td>2.60</td>\n",
              "      <td>30.0</td>\n",
              "    </tr>\n",
              "    <tr>\n",
              "      <th>29</th>\n",
              "      <td>6.10</td>\n",
              "      <td>63.0</td>\n",
              "    </tr>\n",
              "    <tr>\n",
              "      <th>30</th>\n",
              "      <td>4.65</td>\n",
              "      <td>51.0</td>\n",
              "    </tr>\n",
              "    <tr>\n",
              "      <th>31</th>\n",
              "      <td>5.60</td>\n",
              "      <td>60.0</td>\n",
              "    </tr>\n",
              "  </tbody>\n",
              "</table>\n",
              "</div>\n",
              "      <button class=\"colab-df-convert\" onclick=\"convertToInteractive('df-c3b9d129-7520-4c3d-a9dc-f63542227b3e')\"\n",
              "              title=\"Convert this dataframe to an interactive table.\"\n",
              "              style=\"display:none;\">\n",
              "        \n",
              "  <svg xmlns=\"http://www.w3.org/2000/svg\" height=\"24px\"viewBox=\"0 0 24 24\"\n",
              "       width=\"24px\">\n",
              "    <path d=\"M0 0h24v24H0V0z\" fill=\"none\"/>\n",
              "    <path d=\"M18.56 5.44l.94 2.06.94-2.06 2.06-.94-2.06-.94-.94-2.06-.94 2.06-2.06.94zm-11 1L8.5 8.5l.94-2.06 2.06-.94-2.06-.94L8.5 2.5l-.94 2.06-2.06.94zm10 10l.94 2.06.94-2.06 2.06-.94-2.06-.94-.94-2.06-.94 2.06-2.06.94z\"/><path d=\"M17.41 7.96l-1.37-1.37c-.4-.4-.92-.59-1.43-.59-.52 0-1.04.2-1.43.59L10.3 9.45l-7.72 7.72c-.78.78-.78 2.05 0 2.83L4 21.41c.39.39.9.59 1.41.59.51 0 1.02-.2 1.41-.59l7.78-7.78 2.81-2.81c.8-.78.8-2.07 0-2.86zM5.41 20L4 18.59l7.72-7.72 1.47 1.35L5.41 20z\"/>\n",
              "  </svg>\n",
              "      </button>\n",
              "      \n",
              "  <style>\n",
              "    .colab-df-container {\n",
              "      display:flex;\n",
              "      flex-wrap:wrap;\n",
              "      gap: 12px;\n",
              "    }\n",
              "\n",
              "    .colab-df-convert {\n",
              "      background-color: #E8F0FE;\n",
              "      border: none;\n",
              "      border-radius: 50%;\n",
              "      cursor: pointer;\n",
              "      display: none;\n",
              "      fill: #1967D2;\n",
              "      height: 32px;\n",
              "      padding: 0 0 0 0;\n",
              "      width: 32px;\n",
              "    }\n",
              "\n",
              "    .colab-df-convert:hover {\n",
              "      background-color: #E2EBFA;\n",
              "      box-shadow: 0px 1px 2px rgba(60, 64, 67, 0.3), 0px 1px 3px 1px rgba(60, 64, 67, 0.15);\n",
              "      fill: #174EA6;\n",
              "    }\n",
              "\n",
              "    [theme=dark] .colab-df-convert {\n",
              "      background-color: #3B4455;\n",
              "      fill: #D2E3FC;\n",
              "    }\n",
              "\n",
              "    [theme=dark] .colab-df-convert:hover {\n",
              "      background-color: #434B5C;\n",
              "      box-shadow: 0px 1px 3px 1px rgba(0, 0, 0, 0.15);\n",
              "      filter: drop-shadow(0px 1px 2px rgba(0, 0, 0, 0.3));\n",
              "      fill: #FFFFFF;\n",
              "    }\n",
              "  </style>\n",
              "\n",
              "      <script>\n",
              "        const buttonEl =\n",
              "          document.querySelector('#df-c3b9d129-7520-4c3d-a9dc-f63542227b3e button.colab-df-convert');\n",
              "        buttonEl.style.display =\n",
              "          google.colab.kernel.accessAllowed ? 'block' : 'none';\n",
              "\n",
              "        async function convertToInteractive(key) {\n",
              "          const element = document.querySelector('#df-c3b9d129-7520-4c3d-a9dc-f63542227b3e');\n",
              "          const dataTable =\n",
              "            await google.colab.kernel.invokeFunction('convertToInteractive',\n",
              "                                                     [key], {});\n",
              "          if (!dataTable) return;\n",
              "\n",
              "          const docLinkHtml = 'Like what you see? Visit the ' +\n",
              "            '<a target=\"_blank\" href=https://colab.research.google.com/notebooks/data_table.ipynb>data table notebook</a>'\n",
              "            + ' to learn more about interactive tables.';\n",
              "          element.innerHTML = '';\n",
              "          dataTable['output_type'] = 'display_data';\n",
              "          await google.colab.output.renderOutput(dataTable, element);\n",
              "          const docLink = document.createElement('div');\n",
              "          docLink.innerHTML = docLinkHtml;\n",
              "          element.appendChild(docLink);\n",
              "        }\n",
              "      </script>\n",
              "    </div>\n",
              "  </div>\n",
              "  "
            ]
          },
          "metadata": {},
          "execution_count": 83
        }
      ]
    },
    {
      "cell_type": "markdown",
      "source": [
        "Visualize The Result"
      ],
      "metadata": {
        "id": "K_T3Osu3VsFK"
      }
    },
    {
      "cell_type": "code",
      "source": [
        "#Slope\n",
        "model.coef_"
      ],
      "metadata": {
        "colab": {
          "base_uri": "https://localhost:8080/"
        },
        "id": "V8-z_6ZfT3m6",
        "outputId": "81f99c9f-55b4-4b0b-b9af-1fc2c5f7e025"
      },
      "execution_count": 85,
      "outputs": [
        {
          "output_type": "execute_result",
          "data": {
            "text/plain": [
              "array([[9.67034064]])"
            ]
          },
          "metadata": {},
          "execution_count": 85
        }
      ]
    },
    {
      "cell_type": "code",
      "source": [
        "#Y-intercept\n",
        "model.intercept_"
      ],
      "metadata": {
        "colab": {
          "base_uri": "https://localhost:8080/"
        },
        "id": "wFinQZJEVwJU",
        "outputId": "2f49d769-2746-4895-d27d-e4ba8fdfcc7e"
      },
      "execution_count": 86,
      "outputs": [
        {
          "output_type": "execute_result",
          "data": {
            "text/plain": [
              "array([5.21401224])"
            ]
          },
          "metadata": {},
          "execution_count": 86
        }
      ]
    },
    {
      "cell_type": "code",
      "source": [
        "y=(9.6)x+5.2 #--->Best Fit Line"
      ],
      "metadata": {
        "id": "09mNB76vV07F"
      },
      "execution_count": null,
      "outputs": []
    },
    {
      "cell_type": "code",
      "source": [
        "y_pred= model.coef_*X+model.coef_\n",
        "#plotting for data\n",
        "plt.scatter(X,Y)\n",
        "plt.plot(X,y_pred)\n",
        "#here X=X_test and Y=Y_test"
      ],
      "metadata": {
        "colab": {
          "base_uri": "https://localhost:8080/",
          "height": 447
        },
        "id": "lWL_A0JhWGni",
        "outputId": "b50233a4-a681-42d0-db6f-212d3d2b61e3"
      },
      "execution_count": 89,
      "outputs": [
        {
          "output_type": "execute_result",
          "data": {
            "text/plain": [
              "[<matplotlib.lines.Line2D at 0x7fb229007730>]"
            ]
          },
          "metadata": {},
          "execution_count": 89
        },
        {
          "output_type": "display_data",
          "data": {
            "text/plain": [
              "<Figure size 640x480 with 1 Axes>"
            ],
            "image/png": "[encoded data removed]"
          },
          "metadata": {}
        }
      ]
    },
    {
      "cell_type": "markdown",
      "source": [
        "Training Set- Evaluation\n"
      ],
      "metadata": {
        "id": "lI4bKA7QXTKO"
      }
    },
    {
      "cell_type": "code",
      "source": [
        "plt.scatter(X_train,Y_train,color='red')\n",
        "plt.plot(X_train,model.predict(X_train),color='blue')\n",
        "plt.show"
      ],
      "metadata": {
        "colab": {
          "base_uri": "https://localhost:8080/",
          "height": 447
        },
        "id": "sNlmrrxCWYuH",
        "outputId": "ad5c0823-c323-4bd4-eb5d-7d3d502a2082"
      },
      "execution_count": 90,
      "outputs": [
        {
          "output_type": "execute_result",
          "data": {
            "text/plain": [
              "<function matplotlib.pyplot.show(close=None, block=None)>"
            ]
          },
          "metadata": {},
          "execution_count": 90
        },
        {
          "output_type": "display_data",
          "data": {
            "text/plain": [
              "<Figure size 640x480 with 1 Axes>"
            ],
            "image/png": "[encoded data removed]"
          },
          "metadata": {}
        }
      ]
    },
    {
      "cell_type": "code",
      "source": [
        "plt.scatter(X_train,Y_train,color='red')\n",
        "plt.plot(X_train,model.predict(X_train),color='blue')\n",
        "plt.show"
      ],
      "metadata": {
        "id": "13IfFuYXXiZV"
      },
      "execution_count": null,
      "outputs": []
    }
  ]
}